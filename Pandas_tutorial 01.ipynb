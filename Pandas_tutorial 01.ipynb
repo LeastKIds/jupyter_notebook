{
 "cells": [
  {
   "cell_type": "code",
   "execution_count": 1,
   "id": "82048a05",
   "metadata": {},
   "outputs": [],
   "source": [
    "import pandas as pd"
   ]
  },
  {
   "cell_type": "code",
   "execution_count": 2,
   "id": "cfb3dd97",
   "metadata": {},
   "outputs": [],
   "source": [
    "df = pd.read_csv('fortune500.csv')"
   ]
  },
  {
   "cell_type": "code",
   "execution_count": 3,
   "id": "cd83f553",
   "metadata": {},
   "outputs": [
    {
     "name": "stdout",
     "output_type": "stream",
     "text": [
      "       Year  Rank                Company  Revenue (in millions)  \\\n",
      "0      1955     1         General Motors                 9823.5   \n",
      "1      1955     2            Exxon Mobil                 5661.4   \n",
      "2      1955     3             U.S. Steel                 3250.4   \n",
      "3      1955     4       General Electric                 2959.1   \n",
      "4      1955     5                 Esmark                 2510.8   \n",
      "...     ...   ...                    ...                    ...   \n",
      "25495  2005   496        Wm. Wrigley Jr.                 3648.6   \n",
      "25496  2005   497         Peabody Energy                 3631.6   \n",
      "25497  2005   498  Wendy's International                 3630.4   \n",
      "25498  2005   499     Kindred Healthcare                 3616.6   \n",
      "25499  2005   500   Cincinnati Financial                 3614.0   \n",
      "\n",
      "      Profit (in millions)  \n",
      "0                      806  \n",
      "1                    584.8  \n",
      "2                    195.4  \n",
      "3                    212.6  \n",
      "4                     19.1  \n",
      "...                    ...  \n",
      "25495                  493  \n",
      "25496                175.4  \n",
      "25497                 57.8  \n",
      "25498                 70.6  \n",
      "25499                  584  \n",
      "\n",
      "[25500 rows x 5 columns]\n"
     ]
    }
   ],
   "source": [
    "print(df)"
   ]
  },
  {
   "cell_type": "code",
   "execution_count": 4,
   "id": "4a8d6965",
   "metadata": {},
   "outputs": [
    {
     "data": {
      "text/plain": "       Year  Rank                Company  Revenue (in millions)  \\\n0      1955     1         General Motors                 9823.5   \n1      1955     2            Exxon Mobil                 5661.4   \n2      1955     3             U.S. Steel                 3250.4   \n3      1955     4       General Electric                 2959.1   \n4      1955     5                 Esmark                 2510.8   \n...     ...   ...                    ...                    ...   \n25495  2005   496        Wm. Wrigley Jr.                 3648.6   \n25496  2005   497         Peabody Energy                 3631.6   \n25497  2005   498  Wendy's International                 3630.4   \n25498  2005   499     Kindred Healthcare                 3616.6   \n25499  2005   500   Cincinnati Financial                 3614.0   \n\n      Profit (in millions)  \n0                      806  \n1                    584.8  \n2                    195.4  \n3                    212.6  \n4                     19.1  \n...                    ...  \n25495                  493  \n25496                175.4  \n25497                 57.8  \n25498                 70.6  \n25499                  584  \n\n[25500 rows x 5 columns]",
      "text/html": "<div>\n<style scoped>\n    .dataframe tbody tr th:only-of-type {\n        vertical-align: middle;\n    }\n\n    .dataframe tbody tr th {\n        vertical-align: top;\n    }\n\n    .dataframe thead th {\n        text-align: right;\n    }\n</style>\n<table border=\"1\" class=\"dataframe\">\n  <thead>\n    <tr style=\"text-align: right;\">\n      <th></th>\n      <th>Year</th>\n      <th>Rank</th>\n      <th>Company</th>\n      <th>Revenue (in millions)</th>\n      <th>Profit (in millions)</th>\n    </tr>\n  </thead>\n  <tbody>\n    <tr>\n      <th>0</th>\n      <td>1955</td>\n      <td>1</td>\n      <td>General Motors</td>\n      <td>9823.5</td>\n      <td>806</td>\n    </tr>\n    <tr>\n      <th>1</th>\n      <td>1955</td>\n      <td>2</td>\n      <td>Exxon Mobil</td>\n      <td>5661.4</td>\n      <td>584.8</td>\n    </tr>\n    <tr>\n      <th>2</th>\n      <td>1955</td>\n      <td>3</td>\n      <td>U.S. Steel</td>\n      <td>3250.4</td>\n      <td>195.4</td>\n    </tr>\n    <tr>\n      <th>3</th>\n      <td>1955</td>\n      <td>4</td>\n      <td>General Electric</td>\n      <td>2959.1</td>\n      <td>212.6</td>\n    </tr>\n    <tr>\n      <th>4</th>\n      <td>1955</td>\n      <td>5</td>\n      <td>Esmark</td>\n      <td>2510.8</td>\n      <td>19.1</td>\n    </tr>\n    <tr>\n      <th>...</th>\n      <td>...</td>\n      <td>...</td>\n      <td>...</td>\n      <td>...</td>\n      <td>...</td>\n    </tr>\n    <tr>\n      <th>25495</th>\n      <td>2005</td>\n      <td>496</td>\n      <td>Wm. Wrigley Jr.</td>\n      <td>3648.6</td>\n      <td>493</td>\n    </tr>\n    <tr>\n      <th>25496</th>\n      <td>2005</td>\n      <td>497</td>\n      <td>Peabody Energy</td>\n      <td>3631.6</td>\n      <td>175.4</td>\n    </tr>\n    <tr>\n      <th>25497</th>\n      <td>2005</td>\n      <td>498</td>\n      <td>Wendy's International</td>\n      <td>3630.4</td>\n      <td>57.8</td>\n    </tr>\n    <tr>\n      <th>25498</th>\n      <td>2005</td>\n      <td>499</td>\n      <td>Kindred Healthcare</td>\n      <td>3616.6</td>\n      <td>70.6</td>\n    </tr>\n    <tr>\n      <th>25499</th>\n      <td>2005</td>\n      <td>500</td>\n      <td>Cincinnati Financial</td>\n      <td>3614.0</td>\n      <td>584</td>\n    </tr>\n  </tbody>\n</table>\n<p>25500 rows × 5 columns</p>\n</div>"
     },
     "execution_count": 4,
     "metadata": {},
     "output_type": "execute_result"
    }
   ],
   "source": [
    "df"
   ]
  },
  {
   "cell_type": "code",
   "execution_count": 5,
   "id": "0d2aa820",
   "metadata": {},
   "outputs": [],
   "source": [
    "pd.set_option(\"display.max_columns\", 100)\n",
    "pd.set_option(\"display.max_rows\",20)"
   ]
  },
  {
   "cell_type": "code",
   "execution_count": 6,
   "id": "65f4c97c",
   "metadata": {},
   "outputs": [
    {
     "data": {
      "text/plain": "       Year  Rank                       Company  Revenue (in millions)  \\\n25480  2005   481                    Sealed Air                 3798.1   \n25481  2005   482                        Maxtor                 3796.3   \n25482  2005   483          Reebok International                 3785.3   \n25483  2005   484                           UGI                 3784.7   \n25484  2005   485                       Guidant                 3775.2   \n25485  2005   486                 Host Marriott                 3773.0   \n25486  2005   487            Advance Auto Parts                 3770.3   \n25487  2005   488                 ServiceMaster                 3759.6   \n25488  2005   489           Wesco International                 3741.3   \n25489  2005   490         Telephone & Data Sys.                 3720.4   \n25490  2005   491        Level 3 Communications                 3712.0   \n25491  2005   492         Brinker International                 3707.5   \n25492  2005   493         Stater Bros. Holdings                 3704.9   \n25493  2005   494  Western & Southern Financial                 3694.5   \n25494  2005   495                       Gateway                 3649.7   \n25495  2005   496               Wm. Wrigley Jr.                 3648.6   \n25496  2005   497                Peabody Energy                 3631.6   \n25497  2005   498         Wendy's International                 3630.4   \n25498  2005   499            Kindred Healthcare                 3616.6   \n25499  2005   500          Cincinnati Financial                 3614.0   \n\n      Profit (in millions)  \n25480                215.6  \n25481               -181.9  \n25482                192.4  \n25483                111.6  \n25484                  524  \n25485                 N.A.  \n25486                  188  \n25487                331.2  \n25488                 64.9  \n25489                   49  \n25490                 -458  \n25491                  154  \n25492                 71.8  \n25493                  328  \n25494               -567.6  \n25495                  493  \n25496                175.4  \n25497                 57.8  \n25498                 70.6  \n25499                  584  ",
      "text/html": "<div>\n<style scoped>\n    .dataframe tbody tr th:only-of-type {\n        vertical-align: middle;\n    }\n\n    .dataframe tbody tr th {\n        vertical-align: top;\n    }\n\n    .dataframe thead th {\n        text-align: right;\n    }\n</style>\n<table border=\"1\" class=\"dataframe\">\n  <thead>\n    <tr style=\"text-align: right;\">\n      <th></th>\n      <th>Year</th>\n      <th>Rank</th>\n      <th>Company</th>\n      <th>Revenue (in millions)</th>\n      <th>Profit (in millions)</th>\n    </tr>\n  </thead>\n  <tbody>\n    <tr>\n      <th>25480</th>\n      <td>2005</td>\n      <td>481</td>\n      <td>Sealed Air</td>\n      <td>3798.1</td>\n      <td>215.6</td>\n    </tr>\n    <tr>\n      <th>25481</th>\n      <td>2005</td>\n      <td>482</td>\n      <td>Maxtor</td>\n      <td>3796.3</td>\n      <td>-181.9</td>\n    </tr>\n    <tr>\n      <th>25482</th>\n      <td>2005</td>\n      <td>483</td>\n      <td>Reebok International</td>\n      <td>3785.3</td>\n      <td>192.4</td>\n    </tr>\n    <tr>\n      <th>25483</th>\n      <td>2005</td>\n      <td>484</td>\n      <td>UGI</td>\n      <td>3784.7</td>\n      <td>111.6</td>\n    </tr>\n    <tr>\n      <th>25484</th>\n      <td>2005</td>\n      <td>485</td>\n      <td>Guidant</td>\n      <td>3775.2</td>\n      <td>524</td>\n    </tr>\n    <tr>\n      <th>25485</th>\n      <td>2005</td>\n      <td>486</td>\n      <td>Host Marriott</td>\n      <td>3773.0</td>\n      <td>N.A.</td>\n    </tr>\n    <tr>\n      <th>25486</th>\n      <td>2005</td>\n      <td>487</td>\n      <td>Advance Auto Parts</td>\n      <td>3770.3</td>\n      <td>188</td>\n    </tr>\n    <tr>\n      <th>25487</th>\n      <td>2005</td>\n      <td>488</td>\n      <td>ServiceMaster</td>\n      <td>3759.6</td>\n      <td>331.2</td>\n    </tr>\n    <tr>\n      <th>25488</th>\n      <td>2005</td>\n      <td>489</td>\n      <td>Wesco International</td>\n      <td>3741.3</td>\n      <td>64.9</td>\n    </tr>\n    <tr>\n      <th>25489</th>\n      <td>2005</td>\n      <td>490</td>\n      <td>Telephone &amp; Data Sys.</td>\n      <td>3720.4</td>\n      <td>49</td>\n    </tr>\n    <tr>\n      <th>25490</th>\n      <td>2005</td>\n      <td>491</td>\n      <td>Level 3 Communications</td>\n      <td>3712.0</td>\n      <td>-458</td>\n    </tr>\n    <tr>\n      <th>25491</th>\n      <td>2005</td>\n      <td>492</td>\n      <td>Brinker International</td>\n      <td>3707.5</td>\n      <td>154</td>\n    </tr>\n    <tr>\n      <th>25492</th>\n      <td>2005</td>\n      <td>493</td>\n      <td>Stater Bros. Holdings</td>\n      <td>3704.9</td>\n      <td>71.8</td>\n    </tr>\n    <tr>\n      <th>25493</th>\n      <td>2005</td>\n      <td>494</td>\n      <td>Western &amp; Southern Financial</td>\n      <td>3694.5</td>\n      <td>328</td>\n    </tr>\n    <tr>\n      <th>25494</th>\n      <td>2005</td>\n      <td>495</td>\n      <td>Gateway</td>\n      <td>3649.7</td>\n      <td>-567.6</td>\n    </tr>\n    <tr>\n      <th>25495</th>\n      <td>2005</td>\n      <td>496</td>\n      <td>Wm. Wrigley Jr.</td>\n      <td>3648.6</td>\n      <td>493</td>\n    </tr>\n    <tr>\n      <th>25496</th>\n      <td>2005</td>\n      <td>497</td>\n      <td>Peabody Energy</td>\n      <td>3631.6</td>\n      <td>175.4</td>\n    </tr>\n    <tr>\n      <th>25497</th>\n      <td>2005</td>\n      <td>498</td>\n      <td>Wendy's International</td>\n      <td>3630.4</td>\n      <td>57.8</td>\n    </tr>\n    <tr>\n      <th>25498</th>\n      <td>2005</td>\n      <td>499</td>\n      <td>Kindred Healthcare</td>\n      <td>3616.6</td>\n      <td>70.6</td>\n    </tr>\n    <tr>\n      <th>25499</th>\n      <td>2005</td>\n      <td>500</td>\n      <td>Cincinnati Financial</td>\n      <td>3614.0</td>\n      <td>584</td>\n    </tr>\n  </tbody>\n</table>\n</div>"
     },
     "execution_count": 6,
     "metadata": {},
     "output_type": "execute_result"
    }
   ],
   "source": [
    "df.tail(20)"
   ]
  },
  {
   "cell_type": "code",
   "execution_count": 7,
   "id": "6e024e2a",
   "metadata": {
    "scrolled": true
   },
   "outputs": [
    {
     "data": {
      "text/plain": "0               General Motors\n1                  Exxon Mobil\n2                   U.S. Steel\n3             General Electric\n4                       Esmark\n                 ...          \n25495          Wm. Wrigley Jr.\n25496           Peabody Energy\n25497    Wendy's International\n25498       Kindred Healthcare\n25499     Cincinnati Financial\nName: Company, Length: 25500, dtype: object"
     },
     "execution_count": 7,
     "metadata": {},
     "output_type": "execute_result"
    }
   ],
   "source": [
    "df[\"Company\"]"
   ]
  },
  {
   "cell_type": "code",
   "execution_count": 8,
   "id": "86947129",
   "metadata": {},
   "outputs": [
    {
     "data": {
      "text/plain": "pandas.core.series.Series"
     },
     "execution_count": 8,
     "metadata": {},
     "output_type": "execute_result"
    }
   ],
   "source": [
    "type(df[\"Company\"])"
   ]
  },
  {
   "cell_type": "code",
   "execution_count": 9,
   "id": "86c170ab",
   "metadata": {
    "scrolled": false
   },
   "outputs": [
    {
     "data": {
      "text/plain": "       Rank                Company\n0         1         General Motors\n1         2            Exxon Mobil\n2         3             U.S. Steel\n3         4       General Electric\n4         5                 Esmark\n...     ...                    ...\n25495   496        Wm. Wrigley Jr.\n25496   497         Peabody Energy\n25497   498  Wendy's International\n25498   499     Kindred Healthcare\n25499   500   Cincinnati Financial\n\n[25500 rows x 2 columns]",
      "text/html": "<div>\n<style scoped>\n    .dataframe tbody tr th:only-of-type {\n        vertical-align: middle;\n    }\n\n    .dataframe tbody tr th {\n        vertical-align: top;\n    }\n\n    .dataframe thead th {\n        text-align: right;\n    }\n</style>\n<table border=\"1\" class=\"dataframe\">\n  <thead>\n    <tr style=\"text-align: right;\">\n      <th></th>\n      <th>Rank</th>\n      <th>Company</th>\n    </tr>\n  </thead>\n  <tbody>\n    <tr>\n      <th>0</th>\n      <td>1</td>\n      <td>General Motors</td>\n    </tr>\n    <tr>\n      <th>1</th>\n      <td>2</td>\n      <td>Exxon Mobil</td>\n    </tr>\n    <tr>\n      <th>2</th>\n      <td>3</td>\n      <td>U.S. Steel</td>\n    </tr>\n    <tr>\n      <th>3</th>\n      <td>4</td>\n      <td>General Electric</td>\n    </tr>\n    <tr>\n      <th>4</th>\n      <td>5</td>\n      <td>Esmark</td>\n    </tr>\n    <tr>\n      <th>...</th>\n      <td>...</td>\n      <td>...</td>\n    </tr>\n    <tr>\n      <th>25495</th>\n      <td>496</td>\n      <td>Wm. Wrigley Jr.</td>\n    </tr>\n    <tr>\n      <th>25496</th>\n      <td>497</td>\n      <td>Peabody Energy</td>\n    </tr>\n    <tr>\n      <th>25497</th>\n      <td>498</td>\n      <td>Wendy's International</td>\n    </tr>\n    <tr>\n      <th>25498</th>\n      <td>499</td>\n      <td>Kindred Healthcare</td>\n    </tr>\n    <tr>\n      <th>25499</th>\n      <td>500</td>\n      <td>Cincinnati Financial</td>\n    </tr>\n  </tbody>\n</table>\n<p>25500 rows × 2 columns</p>\n</div>"
     },
     "execution_count": 9,
     "metadata": {},
     "output_type": "execute_result"
    }
   ],
   "source": [
    "df[[\"Rank\",\"Company\"]]"
   ]
  },
  {
   "cell_type": "code",
   "execution_count": 10,
   "id": "14a626c7",
   "metadata": {},
   "outputs": [
    {
     "data": {
      "text/plain": "pandas.core.frame.DataFrame"
     },
     "execution_count": 10,
     "metadata": {},
     "output_type": "execute_result"
    }
   ],
   "source": [
    "type(df[[\"Rank\",\"Company\"]])"
   ]
  },
  {
   "cell_type": "code",
   "execution_count": 11,
   "id": "da9699de",
   "metadata": {},
   "outputs": [],
   "source": [
    "person = {\n",
    "    \"first\" : \"Gildong\",\n",
    "    \"last\" : \"Hong\",\n",
    "    \"email\" : \"gdhong@gmail.com\"\n",
    "}"
   ]
  },
  {
   "cell_type": "code",
   "execution_count": 12,
   "id": "5d750e25",
   "metadata": {},
   "outputs": [],
   "source": [
    "people = {\n",
    "  \"first\" : [\"Gildong\",\"ChunHyang\",\"Mongryoung\"],\n",
    "    \"last\" : [\"Hong\",\"Sung\",\"Lee\"],\n",
    "    \"email\" : [\"gdhong@gmail.com\",\"chs@gmail.com\",\"mrlee@gmail.com\"]\n",
    "}"
   ]
  },
  {
   "cell_type": "code",
   "execution_count": 13,
   "id": "d4e2c52b",
   "metadata": {},
   "outputs": [
    {
     "name": "stdout",
     "output_type": "stream",
     "text": [
      "{'first': ['Gildong', 'ChunHyang', 'Mongryoung'], 'last': ['Hong', 'Sung', 'Lee'], 'email': ['gdhong@gmail.com', 'chs@gmail.com', 'mrlee@gmail.com']}\n"
     ]
    }
   ],
   "source": [
    "print(people)"
   ]
  },
  {
   "cell_type": "code",
   "execution_count": 14,
   "id": "0f5a9ad2",
   "metadata": {
    "scrolled": true
   },
   "outputs": [
    {
     "data": {
      "text/plain": "['Gildong', 'ChunHyang', 'Mongryoung']"
     },
     "execution_count": 14,
     "metadata": {},
     "output_type": "execute_result"
    }
   ],
   "source": [
    "people['first']"
   ]
  },
  {
   "cell_type": "code",
   "execution_count": 15,
   "id": "182ebf1b",
   "metadata": {},
   "outputs": [],
   "source": [
    "df = pd.DataFrame(people);"
   ]
  },
  {
   "cell_type": "code",
   "execution_count": 16,
   "id": "aaed825d",
   "metadata": {},
   "outputs": [
    {
     "data": {
      "text/plain": "        first  last             email\n0     Gildong  Hong  gdhong@gmail.com\n1   ChunHyang  Sung     chs@gmail.com\n2  Mongryoung   Lee   mrlee@gmail.com",
      "text/html": "<div>\n<style scoped>\n    .dataframe tbody tr th:only-of-type {\n        vertical-align: middle;\n    }\n\n    .dataframe tbody tr th {\n        vertical-align: top;\n    }\n\n    .dataframe thead th {\n        text-align: right;\n    }\n</style>\n<table border=\"1\" class=\"dataframe\">\n  <thead>\n    <tr style=\"text-align: right;\">\n      <th></th>\n      <th>first</th>\n      <th>last</th>\n      <th>email</th>\n    </tr>\n  </thead>\n  <tbody>\n    <tr>\n      <th>0</th>\n      <td>Gildong</td>\n      <td>Hong</td>\n      <td>gdhong@gmail.com</td>\n    </tr>\n    <tr>\n      <th>1</th>\n      <td>ChunHyang</td>\n      <td>Sung</td>\n      <td>chs@gmail.com</td>\n    </tr>\n    <tr>\n      <th>2</th>\n      <td>Mongryoung</td>\n      <td>Lee</td>\n      <td>mrlee@gmail.com</td>\n    </tr>\n  </tbody>\n</table>\n</div>"
     },
     "execution_count": 16,
     "metadata": {},
     "output_type": "execute_result"
    }
   ],
   "source": [
    "df"
   ]
  },
  {
   "cell_type": "code",
   "execution_count": 17,
   "id": "66424439",
   "metadata": {},
   "outputs": [
    {
     "data": {
      "text/plain": "0    gdhong@gmail.com\n1       chs@gmail.com\n2     mrlee@gmail.com\nName: email, dtype: object"
     },
     "execution_count": 17,
     "metadata": {},
     "output_type": "execute_result"
    }
   ],
   "source": [
    "df.email"
   ]
  },
  {
   "cell_type": "code",
   "execution_count": 18,
   "id": "fd31dffc",
   "metadata": {},
   "outputs": [
    {
     "data": {
      "text/plain": "0    gdhong@gmail.com\n1       chs@gmail.com\n2     mrlee@gmail.com\nName: email, dtype: object"
     },
     "execution_count": 18,
     "metadata": {},
     "output_type": "execute_result"
    }
   ],
   "source": [
    "df['email']"
   ]
  },
  {
   "cell_type": "code",
   "execution_count": 19,
   "id": "cb747eb1",
   "metadata": {},
   "outputs": [
    {
     "data": {
      "text/plain": "              email  last\n0  gdhong@gmail.com  Hong\n1     chs@gmail.com  Sung\n2   mrlee@gmail.com   Lee",
      "text/html": "<div>\n<style scoped>\n    .dataframe tbody tr th:only-of-type {\n        vertical-align: middle;\n    }\n\n    .dataframe tbody tr th {\n        vertical-align: top;\n    }\n\n    .dataframe thead th {\n        text-align: right;\n    }\n</style>\n<table border=\"1\" class=\"dataframe\">\n  <thead>\n    <tr style=\"text-align: right;\">\n      <th></th>\n      <th>email</th>\n      <th>last</th>\n    </tr>\n  </thead>\n  <tbody>\n    <tr>\n      <th>0</th>\n      <td>gdhong@gmail.com</td>\n      <td>Hong</td>\n    </tr>\n    <tr>\n      <th>1</th>\n      <td>chs@gmail.com</td>\n      <td>Sung</td>\n    </tr>\n    <tr>\n      <th>2</th>\n      <td>mrlee@gmail.com</td>\n      <td>Lee</td>\n    </tr>\n  </tbody>\n</table>\n</div>"
     },
     "execution_count": 19,
     "metadata": {},
     "output_type": "execute_result"
    }
   ],
   "source": [
    "df[[\"email\",\"last\"]]"
   ]
  },
  {
   "cell_type": "code",
   "execution_count": 20,
   "id": "1b2c6ab6",
   "metadata": {},
   "outputs": [
    {
     "data": {
      "text/plain": "Index(['first', 'last', 'email'], dtype='object')"
     },
     "execution_count": 20,
     "metadata": {},
     "output_type": "execute_result"
    }
   ],
   "source": [
    "df.columns"
   ]
  },
  {
   "cell_type": "markdown",
   "id": "3728946d",
   "metadata": {},
   "source": [
    "loc, iloc을 사용해 특정 행과 열을 인출 할 수 있다."
   ]
  },
  {
   "cell_type": "code",
   "execution_count": 21,
   "id": "fbc63ee5",
   "metadata": {
    "scrolled": true
   },
   "outputs": [
    {
     "data": {
      "text/plain": "first             Gildong\nlast                 Hong\nemail    gdhong@gmail.com\nName: 0, dtype: object"
     },
     "execution_count": 21,
     "metadata": {},
     "output_type": "execute_result"
    }
   ],
   "source": [
    "df.iloc[0]"
   ]
  },
  {
   "cell_type": "code",
   "execution_count": 22,
   "id": "6d34daaa",
   "metadata": {},
   "outputs": [
    {
     "data": {
      "text/plain": "        first  last             email\n0     Gildong  Hong  gdhong@gmail.com\n1   ChunHyang  Sung     chs@gmail.com\n2  Mongryoung   Lee   mrlee@gmail.com",
      "text/html": "<div>\n<style scoped>\n    .dataframe tbody tr th:only-of-type {\n        vertical-align: middle;\n    }\n\n    .dataframe tbody tr th {\n        vertical-align: top;\n    }\n\n    .dataframe thead th {\n        text-align: right;\n    }\n</style>\n<table border=\"1\" class=\"dataframe\">\n  <thead>\n    <tr style=\"text-align: right;\">\n      <th></th>\n      <th>first</th>\n      <th>last</th>\n      <th>email</th>\n    </tr>\n  </thead>\n  <tbody>\n    <tr>\n      <th>0</th>\n      <td>Gildong</td>\n      <td>Hong</td>\n      <td>gdhong@gmail.com</td>\n    </tr>\n    <tr>\n      <th>1</th>\n      <td>ChunHyang</td>\n      <td>Sung</td>\n      <td>chs@gmail.com</td>\n    </tr>\n    <tr>\n      <th>2</th>\n      <td>Mongryoung</td>\n      <td>Lee</td>\n      <td>mrlee@gmail.com</td>\n    </tr>\n  </tbody>\n</table>\n</div>"
     },
     "execution_count": 22,
     "metadata": {},
     "output_type": "execute_result"
    }
   ],
   "source": [
    "df.iloc[[0,1,2]]"
   ]
  },
  {
   "cell_type": "code",
   "execution_count": 23,
   "id": "d22c3156",
   "metadata": {},
   "outputs": [
    {
     "data": {
      "text/plain": "0    gdhong@gmail.com\n1       chs@gmail.com\nName: email, dtype: object"
     },
     "execution_count": 23,
     "metadata": {},
     "output_type": "execute_result"
    }
   ],
   "source": [
    "df.iloc[[0,1],2] # 0번과 1번 행의 2번 칼럼"
   ]
  }
 ],
 "metadata": {
  "kernelspec": {
   "display_name": "Python 3",
   "language": "python",
   "name": "python3"
  },
  "language_info": {
   "codemirror_mode": {
    "name": "ipython",
    "version": 3
   },
   "file_extension": ".py",
   "mimetype": "text/x-python",
   "name": "python",
   "nbconvert_exporter": "python",
   "pygments_lexer": "ipython3",
   "version": "3.8.8"
  }
 },
 "nbformat": 4,
 "nbformat_minor": 5
}