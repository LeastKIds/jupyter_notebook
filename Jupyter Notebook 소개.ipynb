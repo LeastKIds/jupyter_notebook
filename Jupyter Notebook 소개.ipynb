{
 "cells": [
  {
   "cell_type": "markdown",
   "id": "d22401ff",
   "metadata": {},
   "source": [
    "# Jupyter Notebook 소개\n",
    "## Code cell과 Markdown Cell\n",
    "### Code cell\n",
    "** 진하게 ** *기울여 쓰기*\n",
    "#### Markdown Cell\n",
    "\n",
    "[구글](https://www.google.com/)"
   ]
  },
  {
   "cell_type": "code",
   "execution_count": 1,
   "id": "6b06fd14",
   "metadata": {
    "scrolled": true
   },
   "outputs": [
    {
     "name": "stdout",
     "output_type": "stream",
     "text": [
      "Hello World!\n"
     ]
    }
   ],
   "source": [
    "print('Hello World!');"
   ]
  },
  {
   "cell_type": "code",
   "execution_count": 2,
   "id": "75ef3c00",
   "metadata": {},
   "outputs": [],
   "source": [
    "import time;\n",
    "time.sleep(3);"
   ]
  },
  {
   "cell_type": "code",
   "execution_count": 5,
   "id": "8d498d77",
   "metadata": {},
   "outputs": [
    {
     "data": {
      "text/plain": [
       "'Hello, Tim!'"
      ]
     },
     "execution_count": 5,
     "metadata": {},
     "output_type": "execute_result"
    }
   ],
   "source": [
    "def say_hello(recipient):\n",
    "    return 'Hello, {}!'.format(recipient)\n",
    "\n",
    "say_hello('Tim')"
   ]
  }
 ],
 "metadata": {
  "kernelspec": {
   "display_name": "Python 3",
   "language": "python",
   "name": "python3"
  },
  "language_info": {
   "codemirror_mode": {
    "name": "ipython",
    "version": 3
   },
   "file_extension": ".py",
   "mimetype": "text/x-python",
   "name": "python",
   "nbconvert_exporter": "python",
   "pygments_lexer": "ipython3",
   "version": "3.8.8"
  }
 },
 "nbformat": 4,
 "nbformat_minor": 5
}
