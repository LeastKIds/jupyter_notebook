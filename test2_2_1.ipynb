{
 "cells": [
  {
   "cell_type": "code",
   "execution_count": 1,
   "metadata": {
    "collapsed": true
   },
   "outputs": [],
   "source": [
    "import pandas as pd"
   ]
  },
  {
   "cell_type": "code",
   "execution_count": 121,
   "outputs": [],
   "source": [
    "people = {\n",
    "    \"first\" : [\"길동\", \"춘향\", \"몽룡\"],\n",
    "    \"last\" : [\"홍\", \"성\", \"이\"],\n",
    "    \"email\" : [\"gdhong@gmail.com\", \"chsung@gmail.com\", \"mylee@gmail.com\"]\n",
    "}"
   ],
   "metadata": {
    "collapsed": false,
    "pycharm": {
     "name": "#%%\n"
    }
   }
  },
  {
   "cell_type": "code",
   "execution_count": 122,
   "outputs": [],
   "source": [
    "df = pd.DataFrame(people)"
   ],
   "metadata": {
    "collapsed": false,
    "pycharm": {
     "name": "#%%\n"
    }
   }
  },
  {
   "cell_type": "code",
   "execution_count": 5,
   "outputs": [
    {
     "data": {
      "text/plain": "  first last             email\n0    길동    홍  gdhong@gmail.com\n1    춘향    성  chsung@gmail.com\n2    몽룡    이   mylee@gmail.com",
      "text/html": "<div>\n<style scoped>\n    .dataframe tbody tr th:only-of-type {\n        vertical-align: middle;\n    }\n\n    .dataframe tbody tr th {\n        vertical-align: top;\n    }\n\n    .dataframe thead th {\n        text-align: right;\n    }\n</style>\n<table border=\"1\" class=\"dataframe\">\n  <thead>\n    <tr style=\"text-align: right;\">\n      <th></th>\n      <th>first</th>\n      <th>last</th>\n      <th>email</th>\n    </tr>\n  </thead>\n  <tbody>\n    <tr>\n      <th>0</th>\n      <td>길동</td>\n      <td>홍</td>\n      <td>gdhong@gmail.com</td>\n    </tr>\n    <tr>\n      <th>1</th>\n      <td>춘향</td>\n      <td>성</td>\n      <td>chsung@gmail.com</td>\n    </tr>\n    <tr>\n      <th>2</th>\n      <td>몽룡</td>\n      <td>이</td>\n      <td>mylee@gmail.com</td>\n    </tr>\n  </tbody>\n</table>\n</div>"
     },
     "execution_count": 5,
     "metadata": {},
     "output_type": "execute_result"
    }
   ],
   "source": [
    "df"
   ],
   "metadata": {
    "collapsed": false,
    "pycharm": {
     "name": "#%%\n"
    }
   }
  },
  {
   "cell_type": "code",
   "execution_count": 6,
   "outputs": [
    {
     "data": {
      "text/plain": "  first last\n0    길동    홍\n1    춘향    성\n2    몽룡    이",
      "text/html": "<div>\n<style scoped>\n    .dataframe tbody tr th:only-of-type {\n        vertical-align: middle;\n    }\n\n    .dataframe tbody tr th {\n        vertical-align: top;\n    }\n\n    .dataframe thead th {\n        text-align: right;\n    }\n</style>\n<table border=\"1\" class=\"dataframe\">\n  <thead>\n    <tr style=\"text-align: right;\">\n      <th></th>\n      <th>first</th>\n      <th>last</th>\n    </tr>\n  </thead>\n  <tbody>\n    <tr>\n      <th>0</th>\n      <td>길동</td>\n      <td>홍</td>\n    </tr>\n    <tr>\n      <th>1</th>\n      <td>춘향</td>\n      <td>성</td>\n    </tr>\n    <tr>\n      <th>2</th>\n      <td>몽룡</td>\n      <td>이</td>\n    </tr>\n  </tbody>\n</table>\n</div>"
     },
     "execution_count": 6,
     "metadata": {},
     "output_type": "execute_result"
    }
   ],
   "source": [
    "df[['first','last']]"
   ],
   "metadata": {
    "collapsed": false,
    "pycharm": {
     "name": "#%%\n"
    }
   }
  },
  {
   "cell_type": "code",
   "execution_count": 7,
   "outputs": [
    {
     "data": {
      "text/plain": "  first             email\n0    길동  gdhong@gmail.com\n1    춘향  chsung@gmail.com\n2    몽룡   mylee@gmail.com",
      "text/html": "<div>\n<style scoped>\n    .dataframe tbody tr th:only-of-type {\n        vertical-align: middle;\n    }\n\n    .dataframe tbody tr th {\n        vertical-align: top;\n    }\n\n    .dataframe thead th {\n        text-align: right;\n    }\n</style>\n<table border=\"1\" class=\"dataframe\">\n  <thead>\n    <tr style=\"text-align: right;\">\n      <th></th>\n      <th>first</th>\n      <th>email</th>\n    </tr>\n  </thead>\n  <tbody>\n    <tr>\n      <th>0</th>\n      <td>길동</td>\n      <td>gdhong@gmail.com</td>\n    </tr>\n    <tr>\n      <th>1</th>\n      <td>춘향</td>\n      <td>chsung@gmail.com</td>\n    </tr>\n    <tr>\n      <th>2</th>\n      <td>몽룡</td>\n      <td>mylee@gmail.com</td>\n    </tr>\n  </tbody>\n</table>\n</div>"
     },
     "execution_count": 7,
     "metadata": {},
     "output_type": "execute_result"
    }
   ],
   "source": [
    "df[['first','email']]"
   ],
   "metadata": {
    "collapsed": false,
    "pycharm": {
     "name": "#%%\n"
    }
   }
  },
  {
   "cell_type": "code",
   "execution_count": 9,
   "outputs": [
    {
     "data": {
      "text/plain": "first                  길동\nlast                    홍\nemail    gdhong@gmail.com\nName: 0, dtype: object"
     },
     "execution_count": 9,
     "metadata": {},
     "output_type": "execute_result"
    }
   ],
   "source": [
    "df.loc[0]"
   ],
   "metadata": {
    "collapsed": false,
    "pycharm": {
     "name": "#%%\n"
    }
   }
  },
  {
   "cell_type": "code",
   "execution_count": 10,
   "outputs": [
    {
     "data": {
      "text/plain": "'길동'"
     },
     "execution_count": 10,
     "metadata": {},
     "output_type": "execute_result"
    }
   ],
   "source": [
    "df.loc[0, 'first']"
   ],
   "metadata": {
    "collapsed": false,
    "pycharm": {
     "name": "#%%\n"
    }
   }
  },
  {
   "cell_type": "code",
   "execution_count": 15,
   "outputs": [
    {
     "data": {
      "text/plain": "  first last             email\n0    길동    홍  gdhong@gmail.com\n1    춘향    성  chsung@gmail.com",
      "text/html": "<div>\n<style scoped>\n    .dataframe tbody tr th:only-of-type {\n        vertical-align: middle;\n    }\n\n    .dataframe tbody tr th {\n        vertical-align: top;\n    }\n\n    .dataframe thead th {\n        text-align: right;\n    }\n</style>\n<table border=\"1\" class=\"dataframe\">\n  <thead>\n    <tr style=\"text-align: right;\">\n      <th></th>\n      <th>first</th>\n      <th>last</th>\n      <th>email</th>\n    </tr>\n  </thead>\n  <tbody>\n    <tr>\n      <th>0</th>\n      <td>길동</td>\n      <td>홍</td>\n      <td>gdhong@gmail.com</td>\n    </tr>\n    <tr>\n      <th>1</th>\n      <td>춘향</td>\n      <td>성</td>\n      <td>chsung@gmail.com</td>\n    </tr>\n  </tbody>\n</table>\n</div>"
     },
     "execution_count": 15,
     "metadata": {},
     "output_type": "execute_result"
    }
   ],
   "source": [
    "df.loc[[0,1]]"
   ],
   "metadata": {
    "collapsed": false,
    "pycharm": {
     "name": "#%%\n"
    }
   }
  },
  {
   "cell_type": "code",
   "execution_count": 16,
   "outputs": [
    {
     "data": {
      "text/plain": "  first last\n0    길동    홍\n1    춘향    성",
      "text/html": "<div>\n<style scoped>\n    .dataframe tbody tr th:only-of-type {\n        vertical-align: middle;\n    }\n\n    .dataframe tbody tr th {\n        vertical-align: top;\n    }\n\n    .dataframe thead th {\n        text-align: right;\n    }\n</style>\n<table border=\"1\" class=\"dataframe\">\n  <thead>\n    <tr style=\"text-align: right;\">\n      <th></th>\n      <th>first</th>\n      <th>last</th>\n    </tr>\n  </thead>\n  <tbody>\n    <tr>\n      <th>0</th>\n      <td>길동</td>\n      <td>홍</td>\n    </tr>\n    <tr>\n      <th>1</th>\n      <td>춘향</td>\n      <td>성</td>\n    </tr>\n  </tbody>\n</table>\n</div>"
     },
     "execution_count": 16,
     "metadata": {},
     "output_type": "execute_result"
    }
   ],
   "source": [
    "df.loc[[0,1], ['first','last']]"
   ],
   "metadata": {
    "collapsed": false,
    "pycharm": {
     "name": "#%%\n"
    }
   }
  },
  {
   "cell_type": "code",
   "execution_count": 17,
   "outputs": [],
   "source": [
    "df.set_index('email', inplace=True)"
   ],
   "metadata": {
    "collapsed": false,
    "pycharm": {
     "name": "#%%\n"
    }
   }
  },
  {
   "cell_type": "code",
   "execution_count": 18,
   "outputs": [
    {
     "data": {
      "text/plain": "                 first last\nemail                      \ngdhong@gmail.com    길동    홍\nchsung@gmail.com    춘향    성\nmylee@gmail.com     몽룡    이",
      "text/html": "<div>\n<style scoped>\n    .dataframe tbody tr th:only-of-type {\n        vertical-align: middle;\n    }\n\n    .dataframe tbody tr th {\n        vertical-align: top;\n    }\n\n    .dataframe thead th {\n        text-align: right;\n    }\n</style>\n<table border=\"1\" class=\"dataframe\">\n  <thead>\n    <tr style=\"text-align: right;\">\n      <th></th>\n      <th>first</th>\n      <th>last</th>\n    </tr>\n    <tr>\n      <th>email</th>\n      <th></th>\n      <th></th>\n    </tr>\n  </thead>\n  <tbody>\n    <tr>\n      <th>gdhong@gmail.com</th>\n      <td>길동</td>\n      <td>홍</td>\n    </tr>\n    <tr>\n      <th>chsung@gmail.com</th>\n      <td>춘향</td>\n      <td>성</td>\n    </tr>\n    <tr>\n      <th>mylee@gmail.com</th>\n      <td>몽룡</td>\n      <td>이</td>\n    </tr>\n  </tbody>\n</table>\n</div>"
     },
     "execution_count": 18,
     "metadata": {},
     "output_type": "execute_result"
    }
   ],
   "source": [
    "df"
   ],
   "metadata": {
    "collapsed": false,
    "pycharm": {
     "name": "#%%\n"
    }
   }
  },
  {
   "cell_type": "code",
   "execution_count": 19,
   "outputs": [
    {
     "data": {
      "text/plain": "'길동'"
     },
     "execution_count": 19,
     "metadata": {},
     "output_type": "execute_result"
    }
   ],
   "source": [
    "df.loc['gdhong@gmail.com', 'first']"
   ],
   "metadata": {
    "collapsed": false,
    "pycharm": {
     "name": "#%%\n"
    }
   }
  },
  {
   "cell_type": "code",
   "execution_count": 20,
   "outputs": [
    {
     "data": {
      "text/plain": "Index(['gdhong@gmail.com', 'chsung@gmail.com', 'mylee@gmail.com'], dtype='object', name='email')"
     },
     "execution_count": 20,
     "metadata": {},
     "output_type": "execute_result"
    }
   ],
   "source": [
    "df.index"
   ],
   "metadata": {
    "collapsed": false,
    "pycharm": {
     "name": "#%%\n"
    }
   }
  },
  {
   "cell_type": "code",
   "execution_count": 21,
   "outputs": [
    {
     "data": {
      "text/plain": "'길동'"
     },
     "execution_count": 21,
     "metadata": {},
     "output_type": "execute_result"
    }
   ],
   "source": [
    "df.iloc[0,0]"
   ],
   "metadata": {
    "collapsed": false,
    "pycharm": {
     "name": "#%%\n"
    }
   }
  },
  {
   "cell_type": "code",
   "execution_count": 23,
   "outputs": [
    {
     "data": {
      "text/plain": "'홍'"
     },
     "execution_count": 23,
     "metadata": {},
     "output_type": "execute_result"
    }
   ],
   "source": [
    "df.iloc[0,1]"
   ],
   "metadata": {
    "collapsed": false,
    "pycharm": {
     "name": "#%%\n"
    }
   }
  },
  {
   "cell_type": "code",
   "execution_count": 24,
   "outputs": [],
   "source": [
    "df.sort_index(inplace=True)"
   ],
   "metadata": {
    "collapsed": false,
    "pycharm": {
     "name": "#%%\n"
    }
   }
  },
  {
   "cell_type": "code",
   "execution_count": 25,
   "outputs": [
    {
     "data": {
      "text/plain": "                 first last\nemail                      \nchsung@gmail.com    춘향    성\ngdhong@gmail.com    길동    홍\nmylee@gmail.com     몽룡    이",
      "text/html": "<div>\n<style scoped>\n    .dataframe tbody tr th:only-of-type {\n        vertical-align: middle;\n    }\n\n    .dataframe tbody tr th {\n        vertical-align: top;\n    }\n\n    .dataframe thead th {\n        text-align: right;\n    }\n</style>\n<table border=\"1\" class=\"dataframe\">\n  <thead>\n    <tr style=\"text-align: right;\">\n      <th></th>\n      <th>first</th>\n      <th>last</th>\n    </tr>\n    <tr>\n      <th>email</th>\n      <th></th>\n      <th></th>\n    </tr>\n  </thead>\n  <tbody>\n    <tr>\n      <th>chsung@gmail.com</th>\n      <td>춘향</td>\n      <td>성</td>\n    </tr>\n    <tr>\n      <th>gdhong@gmail.com</th>\n      <td>길동</td>\n      <td>홍</td>\n    </tr>\n    <tr>\n      <th>mylee@gmail.com</th>\n      <td>몽룡</td>\n      <td>이</td>\n    </tr>\n  </tbody>\n</table>\n</div>"
     },
     "execution_count": 25,
     "metadata": {},
     "output_type": "execute_result"
    }
   ],
   "source": [
    "df"
   ],
   "metadata": {
    "collapsed": false,
    "pycharm": {
     "name": "#%%\n"
    }
   }
  },
  {
   "cell_type": "code",
   "execution_count": 28,
   "outputs": [],
   "source": [
    "df.sort_index(ascending=False, inplace=True)"
   ],
   "metadata": {
    "collapsed": false,
    "pycharm": {
     "name": "#%%\n"
    }
   }
  },
  {
   "cell_type": "code",
   "execution_count": 29,
   "outputs": [
    {
     "data": {
      "text/plain": "                 first last\nemail                      \nmylee@gmail.com     몽룡    이\ngdhong@gmail.com    길동    홍\nchsung@gmail.com    춘향    성",
      "text/html": "<div>\n<style scoped>\n    .dataframe tbody tr th:only-of-type {\n        vertical-align: middle;\n    }\n\n    .dataframe tbody tr th {\n        vertical-align: top;\n    }\n\n    .dataframe thead th {\n        text-align: right;\n    }\n</style>\n<table border=\"1\" class=\"dataframe\">\n  <thead>\n    <tr style=\"text-align: right;\">\n      <th></th>\n      <th>first</th>\n      <th>last</th>\n    </tr>\n    <tr>\n      <th>email</th>\n      <th></th>\n      <th></th>\n    </tr>\n  </thead>\n  <tbody>\n    <tr>\n      <th>mylee@gmail.com</th>\n      <td>몽룡</td>\n      <td>이</td>\n    </tr>\n    <tr>\n      <th>gdhong@gmail.com</th>\n      <td>길동</td>\n      <td>홍</td>\n    </tr>\n    <tr>\n      <th>chsung@gmail.com</th>\n      <td>춘향</td>\n      <td>성</td>\n    </tr>\n  </tbody>\n</table>\n</div>"
     },
     "execution_count": 29,
     "metadata": {},
     "output_type": "execute_result"
    }
   ],
   "source": [
    "df"
   ],
   "metadata": {
    "collapsed": false,
    "pycharm": {
     "name": "#%%\n"
    }
   }
  },
  {
   "cell_type": "code",
   "execution_count": 31,
   "outputs": [],
   "source": [
    "df.reset_index(inplace=True)"
   ],
   "metadata": {
    "collapsed": false,
    "pycharm": {
     "name": "#%%\n"
    }
   }
  },
  {
   "cell_type": "code",
   "execution_count": 32,
   "outputs": [
    {
     "data": {
      "text/plain": "              email first last\n0   mylee@gmail.com    몽룡    이\n1  gdhong@gmail.com    길동    홍\n2  chsung@gmail.com    춘향    성",
      "text/html": "<div>\n<style scoped>\n    .dataframe tbody tr th:only-of-type {\n        vertical-align: middle;\n    }\n\n    .dataframe tbody tr th {\n        vertical-align: top;\n    }\n\n    .dataframe thead th {\n        text-align: right;\n    }\n</style>\n<table border=\"1\" class=\"dataframe\">\n  <thead>\n    <tr style=\"text-align: right;\">\n      <th></th>\n      <th>email</th>\n      <th>first</th>\n      <th>last</th>\n    </tr>\n  </thead>\n  <tbody>\n    <tr>\n      <th>0</th>\n      <td>mylee@gmail.com</td>\n      <td>몽룡</td>\n      <td>이</td>\n    </tr>\n    <tr>\n      <th>1</th>\n      <td>gdhong@gmail.com</td>\n      <td>길동</td>\n      <td>홍</td>\n    </tr>\n    <tr>\n      <th>2</th>\n      <td>chsung@gmail.com</td>\n      <td>춘향</td>\n      <td>성</td>\n    </tr>\n  </tbody>\n</table>\n</div>"
     },
     "execution_count": 32,
     "metadata": {},
     "output_type": "execute_result"
    }
   ],
   "source": [
    "df"
   ],
   "metadata": {
    "collapsed": false,
    "pycharm": {
     "name": "#%%\n"
    }
   }
  },
  {
   "cell_type": "code",
   "execution_count": 33,
   "outputs": [
    {
     "data": {
      "text/plain": "              email first last\n0   mylee@gmail.com    몽룡    이\n1  gdhong@gmail.com    길동    홍\n2  chsung@gmail.com    춘향    성",
      "text/html": "<div>\n<style scoped>\n    .dataframe tbody tr th:only-of-type {\n        vertical-align: middle;\n    }\n\n    .dataframe tbody tr th {\n        vertical-align: top;\n    }\n\n    .dataframe thead th {\n        text-align: right;\n    }\n</style>\n<table border=\"1\" class=\"dataframe\">\n  <thead>\n    <tr style=\"text-align: right;\">\n      <th></th>\n      <th>email</th>\n      <th>first</th>\n      <th>last</th>\n    </tr>\n  </thead>\n  <tbody>\n    <tr>\n      <th>0</th>\n      <td>mylee@gmail.com</td>\n      <td>몽룡</td>\n      <td>이</td>\n    </tr>\n    <tr>\n      <th>1</th>\n      <td>gdhong@gmail.com</td>\n      <td>길동</td>\n      <td>홍</td>\n    </tr>\n    <tr>\n      <th>2</th>\n      <td>chsung@gmail.com</td>\n      <td>춘향</td>\n      <td>성</td>\n    </tr>\n  </tbody>\n</table>\n</div>"
     },
     "execution_count": 33,
     "metadata": {},
     "output_type": "execute_result"
    }
   ],
   "source": [
    "df.iloc[[0,1,2]]"
   ],
   "metadata": {
    "collapsed": false,
    "pycharm": {
     "name": "#%%\n"
    }
   }
  },
  {
   "cell_type": "code",
   "execution_count": 39,
   "outputs": [
    {
     "data": {
      "text/plain": "  first last\n1    길동    홍\n2    춘향    성",
      "text/html": "<div>\n<style scoped>\n    .dataframe tbody tr th:only-of-type {\n        vertical-align: middle;\n    }\n\n    .dataframe tbody tr th {\n        vertical-align: top;\n    }\n\n    .dataframe thead th {\n        text-align: right;\n    }\n</style>\n<table border=\"1\" class=\"dataframe\">\n  <thead>\n    <tr style=\"text-align: right;\">\n      <th></th>\n      <th>first</th>\n      <th>last</th>\n    </tr>\n  </thead>\n  <tbody>\n    <tr>\n      <th>1</th>\n      <td>길동</td>\n      <td>홍</td>\n    </tr>\n    <tr>\n      <th>2</th>\n      <td>춘향</td>\n      <td>성</td>\n    </tr>\n  </tbody>\n</table>\n</div>"
     },
     "execution_count": 39,
     "metadata": {},
     "output_type": "execute_result"
    }
   ],
   "source": [
    "df.iloc[[1,2],[1,2]]"
   ],
   "metadata": {
    "collapsed": false,
    "pycharm": {
     "name": "#%%\n"
    }
   }
  },
  {
   "cell_type": "code",
   "execution_count": 46,
   "outputs": [
    {
     "data": {
      "text/plain": "Int64Index([2], dtype='int64')"
     },
     "execution_count": 46,
     "metadata": {},
     "output_type": "execute_result"
    }
   ],
   "source": [
    "df[df['last'] == '성'].index"
   ],
   "metadata": {
    "collapsed": false,
    "pycharm": {
     "name": "#%%\n"
    }
   }
  },
  {
   "cell_type": "code",
   "execution_count": 48,
   "outputs": [
    {
     "data": {
      "text/plain": "              email first last\n2  chsung@gmail.com    춘향    성",
      "text/html": "<div>\n<style scoped>\n    .dataframe tbody tr th:only-of-type {\n        vertical-align: middle;\n    }\n\n    .dataframe tbody tr th {\n        vertical-align: top;\n    }\n\n    .dataframe thead th {\n        text-align: right;\n    }\n</style>\n<table border=\"1\" class=\"dataframe\">\n  <thead>\n    <tr style=\"text-align: right;\">\n      <th></th>\n      <th>email</th>\n      <th>first</th>\n      <th>last</th>\n    </tr>\n  </thead>\n  <tbody>\n    <tr>\n      <th>2</th>\n      <td>chsung@gmail.com</td>\n      <td>춘향</td>\n      <td>성</td>\n    </tr>\n  </tbody>\n</table>\n</div>"
     },
     "execution_count": 48,
     "metadata": {},
     "output_type": "execute_result"
    }
   ],
   "source": [
    "df.loc[df['last'] == '성']"
   ],
   "metadata": {
    "collapsed": false,
    "pycharm": {
     "name": "#%%\n"
    }
   }
  },
  {
   "cell_type": "code",
   "execution_count": 49,
   "outputs": [],
   "source": [
    "filt = df['last'] == '성'"
   ],
   "metadata": {
    "collapsed": false,
    "pycharm": {
     "name": "#%%\n"
    }
   }
  },
  {
   "cell_type": "code",
   "execution_count": 50,
   "outputs": [
    {
     "data": {
      "text/plain": "0     mylee@gmail.com\n1    gdhong@gmail.com\nName: email, dtype: object"
     },
     "execution_count": 50,
     "metadata": {},
     "output_type": "execute_result"
    }
   ],
   "source": [
    "df.loc[~filt, 'email']"
   ],
   "metadata": {
    "collapsed": false,
    "pycharm": {
     "name": "#%%\n"
    }
   }
  },
  {
   "cell_type": "code",
   "execution_count": 51,
   "outputs": [],
   "source": [
    "df = pd.read_csv('fortune500.csv')"
   ],
   "metadata": {
    "collapsed": false,
    "pycharm": {
     "name": "#%%\n"
    }
   }
  },
  {
   "cell_type": "code",
   "execution_count": 52,
   "outputs": [
    {
     "data": {
      "text/plain": "       Year  Rank                Company  Revenue (in millions)  \\\n0      1955     1         General Motors                 9823.5   \n1      1955     2            Exxon Mobil                 5661.4   \n2      1955     3             U.S. Steel                 3250.4   \n3      1955     4       General Electric                 2959.1   \n4      1955     5                 Esmark                 2510.8   \n...     ...   ...                    ...                    ...   \n25495  2005   496        Wm. Wrigley Jr.                 3648.6   \n25496  2005   497         Peabody Energy                 3631.6   \n25497  2005   498  Wendy's International                 3630.4   \n25498  2005   499     Kindred Healthcare                 3616.6   \n25499  2005   500   Cincinnati Financial                 3614.0   \n\n      Profit (in millions)  \n0                      806  \n1                    584.8  \n2                    195.4  \n3                    212.6  \n4                     19.1  \n...                    ...  \n25495                  493  \n25496                175.4  \n25497                 57.8  \n25498                 70.6  \n25499                  584  \n\n[25500 rows x 5 columns]",
      "text/html": "<div>\n<style scoped>\n    .dataframe tbody tr th:only-of-type {\n        vertical-align: middle;\n    }\n\n    .dataframe tbody tr th {\n        vertical-align: top;\n    }\n\n    .dataframe thead th {\n        text-align: right;\n    }\n</style>\n<table border=\"1\" class=\"dataframe\">\n  <thead>\n    <tr style=\"text-align: right;\">\n      <th></th>\n      <th>Year</th>\n      <th>Rank</th>\n      <th>Company</th>\n      <th>Revenue (in millions)</th>\n      <th>Profit (in millions)</th>\n    </tr>\n  </thead>\n  <tbody>\n    <tr>\n      <th>0</th>\n      <td>1955</td>\n      <td>1</td>\n      <td>General Motors</td>\n      <td>9823.5</td>\n      <td>806</td>\n    </tr>\n    <tr>\n      <th>1</th>\n      <td>1955</td>\n      <td>2</td>\n      <td>Exxon Mobil</td>\n      <td>5661.4</td>\n      <td>584.8</td>\n    </tr>\n    <tr>\n      <th>2</th>\n      <td>1955</td>\n      <td>3</td>\n      <td>U.S. Steel</td>\n      <td>3250.4</td>\n      <td>195.4</td>\n    </tr>\n    <tr>\n      <th>3</th>\n      <td>1955</td>\n      <td>4</td>\n      <td>General Electric</td>\n      <td>2959.1</td>\n      <td>212.6</td>\n    </tr>\n    <tr>\n      <th>4</th>\n      <td>1955</td>\n      <td>5</td>\n      <td>Esmark</td>\n      <td>2510.8</td>\n      <td>19.1</td>\n    </tr>\n    <tr>\n      <th>...</th>\n      <td>...</td>\n      <td>...</td>\n      <td>...</td>\n      <td>...</td>\n      <td>...</td>\n    </tr>\n    <tr>\n      <th>25495</th>\n      <td>2005</td>\n      <td>496</td>\n      <td>Wm. Wrigley Jr.</td>\n      <td>3648.6</td>\n      <td>493</td>\n    </tr>\n    <tr>\n      <th>25496</th>\n      <td>2005</td>\n      <td>497</td>\n      <td>Peabody Energy</td>\n      <td>3631.6</td>\n      <td>175.4</td>\n    </tr>\n    <tr>\n      <th>25497</th>\n      <td>2005</td>\n      <td>498</td>\n      <td>Wendy's International</td>\n      <td>3630.4</td>\n      <td>57.8</td>\n    </tr>\n    <tr>\n      <th>25498</th>\n      <td>2005</td>\n      <td>499</td>\n      <td>Kindred Healthcare</td>\n      <td>3616.6</td>\n      <td>70.6</td>\n    </tr>\n    <tr>\n      <th>25499</th>\n      <td>2005</td>\n      <td>500</td>\n      <td>Cincinnati Financial</td>\n      <td>3614.0</td>\n      <td>584</td>\n    </tr>\n  </tbody>\n</table>\n<p>25500 rows × 5 columns</p>\n</div>"
     },
     "execution_count": 52,
     "metadata": {},
     "output_type": "execute_result"
    }
   ],
   "source": [
    "df"
   ],
   "metadata": {
    "collapsed": false,
    "pycharm": {
     "name": "#%%\n"
    }
   }
  },
  {
   "cell_type": "code",
   "execution_count": 53,
   "outputs": [],
   "source": [
    "pd.set_option('display.max_columns', 100)"
   ],
   "metadata": {
    "collapsed": false,
    "pycharm": {
     "name": "#%%\n"
    }
   }
  },
  {
   "cell_type": "code",
   "execution_count": 54,
   "outputs": [],
   "source": [
    "pd.set_option('display.max_rows', 20)"
   ],
   "metadata": {
    "collapsed": false,
    "pycharm": {
     "name": "#%%\n"
    }
   }
  },
  {
   "cell_type": "code",
   "execution_count": 55,
   "outputs": [
    {
     "data": {
      "text/plain": "       Year  Rank                Company  Revenue (in millions)  \\\n0      1955     1         General Motors                 9823.5   \n1      1955     2            Exxon Mobil                 5661.4   \n2      1955     3             U.S. Steel                 3250.4   \n3      1955     4       General Electric                 2959.1   \n4      1955     5                 Esmark                 2510.8   \n...     ...   ...                    ...                    ...   \n25495  2005   496        Wm. Wrigley Jr.                 3648.6   \n25496  2005   497         Peabody Energy                 3631.6   \n25497  2005   498  Wendy's International                 3630.4   \n25498  2005   499     Kindred Healthcare                 3616.6   \n25499  2005   500   Cincinnati Financial                 3614.0   \n\n      Profit (in millions)  \n0                      806  \n1                    584.8  \n2                    195.4  \n3                    212.6  \n4                     19.1  \n...                    ...  \n25495                  493  \n25496                175.4  \n25497                 57.8  \n25498                 70.6  \n25499                  584  \n\n[25500 rows x 5 columns]",
      "text/html": "<div>\n<style scoped>\n    .dataframe tbody tr th:only-of-type {\n        vertical-align: middle;\n    }\n\n    .dataframe tbody tr th {\n        vertical-align: top;\n    }\n\n    .dataframe thead th {\n        text-align: right;\n    }\n</style>\n<table border=\"1\" class=\"dataframe\">\n  <thead>\n    <tr style=\"text-align: right;\">\n      <th></th>\n      <th>Year</th>\n      <th>Rank</th>\n      <th>Company</th>\n      <th>Revenue (in millions)</th>\n      <th>Profit (in millions)</th>\n    </tr>\n  </thead>\n  <tbody>\n    <tr>\n      <th>0</th>\n      <td>1955</td>\n      <td>1</td>\n      <td>General Motors</td>\n      <td>9823.5</td>\n      <td>806</td>\n    </tr>\n    <tr>\n      <th>1</th>\n      <td>1955</td>\n      <td>2</td>\n      <td>Exxon Mobil</td>\n      <td>5661.4</td>\n      <td>584.8</td>\n    </tr>\n    <tr>\n      <th>2</th>\n      <td>1955</td>\n      <td>3</td>\n      <td>U.S. Steel</td>\n      <td>3250.4</td>\n      <td>195.4</td>\n    </tr>\n    <tr>\n      <th>3</th>\n      <td>1955</td>\n      <td>4</td>\n      <td>General Electric</td>\n      <td>2959.1</td>\n      <td>212.6</td>\n    </tr>\n    <tr>\n      <th>4</th>\n      <td>1955</td>\n      <td>5</td>\n      <td>Esmark</td>\n      <td>2510.8</td>\n      <td>19.1</td>\n    </tr>\n    <tr>\n      <th>...</th>\n      <td>...</td>\n      <td>...</td>\n      <td>...</td>\n      <td>...</td>\n      <td>...</td>\n    </tr>\n    <tr>\n      <th>25495</th>\n      <td>2005</td>\n      <td>496</td>\n      <td>Wm. Wrigley Jr.</td>\n      <td>3648.6</td>\n      <td>493</td>\n    </tr>\n    <tr>\n      <th>25496</th>\n      <td>2005</td>\n      <td>497</td>\n      <td>Peabody Energy</td>\n      <td>3631.6</td>\n      <td>175.4</td>\n    </tr>\n    <tr>\n      <th>25497</th>\n      <td>2005</td>\n      <td>498</td>\n      <td>Wendy's International</td>\n      <td>3630.4</td>\n      <td>57.8</td>\n    </tr>\n    <tr>\n      <th>25498</th>\n      <td>2005</td>\n      <td>499</td>\n      <td>Kindred Healthcare</td>\n      <td>3616.6</td>\n      <td>70.6</td>\n    </tr>\n    <tr>\n      <th>25499</th>\n      <td>2005</td>\n      <td>500</td>\n      <td>Cincinnati Financial</td>\n      <td>3614.0</td>\n      <td>584</td>\n    </tr>\n  </tbody>\n</table>\n<p>25500 rows × 5 columns</p>\n</div>"
     },
     "execution_count": 55,
     "metadata": {},
     "output_type": "execute_result"
    }
   ],
   "source": [
    "df"
   ],
   "metadata": {
    "collapsed": false,
    "pycharm": {
     "name": "#%%\n"
    }
   }
  },
  {
   "cell_type": "code",
   "execution_count": 56,
   "outputs": [
    {
     "data": {
      "text/plain": "       Year  Rank                       Company  Revenue (in millions)  \\\n25480  2005   481                    Sealed Air                 3798.1   \n25481  2005   482                        Maxtor                 3796.3   \n25482  2005   483          Reebok International                 3785.3   \n25483  2005   484                           UGI                 3784.7   \n25484  2005   485                       Guidant                 3775.2   \n25485  2005   486                 Host Marriott                 3773.0   \n25486  2005   487            Advance Auto Parts                 3770.3   \n25487  2005   488                 ServiceMaster                 3759.6   \n25488  2005   489           Wesco International                 3741.3   \n25489  2005   490         Telephone & Data Sys.                 3720.4   \n25490  2005   491        Level 3 Communications                 3712.0   \n25491  2005   492         Brinker International                 3707.5   \n25492  2005   493         Stater Bros. Holdings                 3704.9   \n25493  2005   494  Western & Southern Financial                 3694.5   \n25494  2005   495                       Gateway                 3649.7   \n25495  2005   496               Wm. Wrigley Jr.                 3648.6   \n25496  2005   497                Peabody Energy                 3631.6   \n25497  2005   498         Wendy's International                 3630.4   \n25498  2005   499            Kindred Healthcare                 3616.6   \n25499  2005   500          Cincinnati Financial                 3614.0   \n\n      Profit (in millions)  \n25480                215.6  \n25481               -181.9  \n25482                192.4  \n25483                111.6  \n25484                  524  \n25485                 N.A.  \n25486                  188  \n25487                331.2  \n25488                 64.9  \n25489                   49  \n25490                 -458  \n25491                  154  \n25492                 71.8  \n25493                  328  \n25494               -567.6  \n25495                  493  \n25496                175.4  \n25497                 57.8  \n25498                 70.6  \n25499                  584  ",
      "text/html": "<div>\n<style scoped>\n    .dataframe tbody tr th:only-of-type {\n        vertical-align: middle;\n    }\n\n    .dataframe tbody tr th {\n        vertical-align: top;\n    }\n\n    .dataframe thead th {\n        text-align: right;\n    }\n</style>\n<table border=\"1\" class=\"dataframe\">\n  <thead>\n    <tr style=\"text-align: right;\">\n      <th></th>\n      <th>Year</th>\n      <th>Rank</th>\n      <th>Company</th>\n      <th>Revenue (in millions)</th>\n      <th>Profit (in millions)</th>\n    </tr>\n  </thead>\n  <tbody>\n    <tr>\n      <th>25480</th>\n      <td>2005</td>\n      <td>481</td>\n      <td>Sealed Air</td>\n      <td>3798.1</td>\n      <td>215.6</td>\n    </tr>\n    <tr>\n      <th>25481</th>\n      <td>2005</td>\n      <td>482</td>\n      <td>Maxtor</td>\n      <td>3796.3</td>\n      <td>-181.9</td>\n    </tr>\n    <tr>\n      <th>25482</th>\n      <td>2005</td>\n      <td>483</td>\n      <td>Reebok International</td>\n      <td>3785.3</td>\n      <td>192.4</td>\n    </tr>\n    <tr>\n      <th>25483</th>\n      <td>2005</td>\n      <td>484</td>\n      <td>UGI</td>\n      <td>3784.7</td>\n      <td>111.6</td>\n    </tr>\n    <tr>\n      <th>25484</th>\n      <td>2005</td>\n      <td>485</td>\n      <td>Guidant</td>\n      <td>3775.2</td>\n      <td>524</td>\n    </tr>\n    <tr>\n      <th>25485</th>\n      <td>2005</td>\n      <td>486</td>\n      <td>Host Marriott</td>\n      <td>3773.0</td>\n      <td>N.A.</td>\n    </tr>\n    <tr>\n      <th>25486</th>\n      <td>2005</td>\n      <td>487</td>\n      <td>Advance Auto Parts</td>\n      <td>3770.3</td>\n      <td>188</td>\n    </tr>\n    <tr>\n      <th>25487</th>\n      <td>2005</td>\n      <td>488</td>\n      <td>ServiceMaster</td>\n      <td>3759.6</td>\n      <td>331.2</td>\n    </tr>\n    <tr>\n      <th>25488</th>\n      <td>2005</td>\n      <td>489</td>\n      <td>Wesco International</td>\n      <td>3741.3</td>\n      <td>64.9</td>\n    </tr>\n    <tr>\n      <th>25489</th>\n      <td>2005</td>\n      <td>490</td>\n      <td>Telephone &amp; Data Sys.</td>\n      <td>3720.4</td>\n      <td>49</td>\n    </tr>\n    <tr>\n      <th>25490</th>\n      <td>2005</td>\n      <td>491</td>\n      <td>Level 3 Communications</td>\n      <td>3712.0</td>\n      <td>-458</td>\n    </tr>\n    <tr>\n      <th>25491</th>\n      <td>2005</td>\n      <td>492</td>\n      <td>Brinker International</td>\n      <td>3707.5</td>\n      <td>154</td>\n    </tr>\n    <tr>\n      <th>25492</th>\n      <td>2005</td>\n      <td>493</td>\n      <td>Stater Bros. Holdings</td>\n      <td>3704.9</td>\n      <td>71.8</td>\n    </tr>\n    <tr>\n      <th>25493</th>\n      <td>2005</td>\n      <td>494</td>\n      <td>Western &amp; Southern Financial</td>\n      <td>3694.5</td>\n      <td>328</td>\n    </tr>\n    <tr>\n      <th>25494</th>\n      <td>2005</td>\n      <td>495</td>\n      <td>Gateway</td>\n      <td>3649.7</td>\n      <td>-567.6</td>\n    </tr>\n    <tr>\n      <th>25495</th>\n      <td>2005</td>\n      <td>496</td>\n      <td>Wm. Wrigley Jr.</td>\n      <td>3648.6</td>\n      <td>493</td>\n    </tr>\n    <tr>\n      <th>25496</th>\n      <td>2005</td>\n      <td>497</td>\n      <td>Peabody Energy</td>\n      <td>3631.6</td>\n      <td>175.4</td>\n    </tr>\n    <tr>\n      <th>25497</th>\n      <td>2005</td>\n      <td>498</td>\n      <td>Wendy's International</td>\n      <td>3630.4</td>\n      <td>57.8</td>\n    </tr>\n    <tr>\n      <th>25498</th>\n      <td>2005</td>\n      <td>499</td>\n      <td>Kindred Healthcare</td>\n      <td>3616.6</td>\n      <td>70.6</td>\n    </tr>\n    <tr>\n      <th>25499</th>\n      <td>2005</td>\n      <td>500</td>\n      <td>Cincinnati Financial</td>\n      <td>3614.0</td>\n      <td>584</td>\n    </tr>\n  </tbody>\n</table>\n</div>"
     },
     "execution_count": 56,
     "metadata": {},
     "output_type": "execute_result"
    }
   ],
   "source": [
    "df.tail(20)"
   ],
   "metadata": {
    "collapsed": false,
    "pycharm": {
     "name": "#%%\n"
    }
   }
  },
  {
   "cell_type": "code",
   "execution_count": 57,
   "outputs": [
    {
     "data": {
      "text/plain": "    Year  Rank                 Company  Revenue (in millions)  \\\n0   1955     1          General Motors                 9823.5   \n1   1955     2             Exxon Mobil                 5661.4   \n2   1955     3              U.S. Steel                 3250.4   \n3   1955     4        General Electric                 2959.1   \n4   1955     5                  Esmark                 2510.8   \n5   1955     6                Chrysler                 2071.6   \n6   1955     7                  Armour                 2056.1   \n7   1955     8                Gulf Oil                 1705.3   \n8   1955     9                   Mobil                 1703.6   \n9   1955    10                  DuPont                 1687.7   \n10  1955    11                   Amoco                 1667.4   \n11  1955    12         Bethlehem Steel                 1660.3   \n12  1955    13                     CBS                 1631.0   \n13  1955    14                  Texaco                 1574.4   \n14  1955    15       AT&T Technologies                 1526.2   \n15  1955    16               Shell Oil                 1312.1   \n16  1955    17                   Kraft                 1210.3   \n17  1955    18           ChevronTexaco                 1113.3   \n18  1955    19  Goodyear Tire & Rubber                 1090.1   \n19  1955    20                  Boeing                 1033.2   \n\n   Profit (in millions)  \n0                   806  \n1                 584.8  \n2                 195.4  \n3                 212.6  \n4                  19.1  \n5                  18.5  \n6                   1.6  \n7                 182.8  \n8                 183.8  \n9                 344.4  \n10                132.8  \n11                117.2  \n12                 84.6  \n13                226.1  \n14                 55.8  \n15                121.1  \n16                 37.4  \n17                211.9  \n18                 48.1  \n19                   37  ",
      "text/html": "<div>\n<style scoped>\n    .dataframe tbody tr th:only-of-type {\n        vertical-align: middle;\n    }\n\n    .dataframe tbody tr th {\n        vertical-align: top;\n    }\n\n    .dataframe thead th {\n        text-align: right;\n    }\n</style>\n<table border=\"1\" class=\"dataframe\">\n  <thead>\n    <tr style=\"text-align: right;\">\n      <th></th>\n      <th>Year</th>\n      <th>Rank</th>\n      <th>Company</th>\n      <th>Revenue (in millions)</th>\n      <th>Profit (in millions)</th>\n    </tr>\n  </thead>\n  <tbody>\n    <tr>\n      <th>0</th>\n      <td>1955</td>\n      <td>1</td>\n      <td>General Motors</td>\n      <td>9823.5</td>\n      <td>806</td>\n    </tr>\n    <tr>\n      <th>1</th>\n      <td>1955</td>\n      <td>2</td>\n      <td>Exxon Mobil</td>\n      <td>5661.4</td>\n      <td>584.8</td>\n    </tr>\n    <tr>\n      <th>2</th>\n      <td>1955</td>\n      <td>3</td>\n      <td>U.S. Steel</td>\n      <td>3250.4</td>\n      <td>195.4</td>\n    </tr>\n    <tr>\n      <th>3</th>\n      <td>1955</td>\n      <td>4</td>\n      <td>General Electric</td>\n      <td>2959.1</td>\n      <td>212.6</td>\n    </tr>\n    <tr>\n      <th>4</th>\n      <td>1955</td>\n      <td>5</td>\n      <td>Esmark</td>\n      <td>2510.8</td>\n      <td>19.1</td>\n    </tr>\n    <tr>\n      <th>5</th>\n      <td>1955</td>\n      <td>6</td>\n      <td>Chrysler</td>\n      <td>2071.6</td>\n      <td>18.5</td>\n    </tr>\n    <tr>\n      <th>6</th>\n      <td>1955</td>\n      <td>7</td>\n      <td>Armour</td>\n      <td>2056.1</td>\n      <td>1.6</td>\n    </tr>\n    <tr>\n      <th>7</th>\n      <td>1955</td>\n      <td>8</td>\n      <td>Gulf Oil</td>\n      <td>1705.3</td>\n      <td>182.8</td>\n    </tr>\n    <tr>\n      <th>8</th>\n      <td>1955</td>\n      <td>9</td>\n      <td>Mobil</td>\n      <td>1703.6</td>\n      <td>183.8</td>\n    </tr>\n    <tr>\n      <th>9</th>\n      <td>1955</td>\n      <td>10</td>\n      <td>DuPont</td>\n      <td>1687.7</td>\n      <td>344.4</td>\n    </tr>\n    <tr>\n      <th>10</th>\n      <td>1955</td>\n      <td>11</td>\n      <td>Amoco</td>\n      <td>1667.4</td>\n      <td>132.8</td>\n    </tr>\n    <tr>\n      <th>11</th>\n      <td>1955</td>\n      <td>12</td>\n      <td>Bethlehem Steel</td>\n      <td>1660.3</td>\n      <td>117.2</td>\n    </tr>\n    <tr>\n      <th>12</th>\n      <td>1955</td>\n      <td>13</td>\n      <td>CBS</td>\n      <td>1631.0</td>\n      <td>84.6</td>\n    </tr>\n    <tr>\n      <th>13</th>\n      <td>1955</td>\n      <td>14</td>\n      <td>Texaco</td>\n      <td>1574.4</td>\n      <td>226.1</td>\n    </tr>\n    <tr>\n      <th>14</th>\n      <td>1955</td>\n      <td>15</td>\n      <td>AT&amp;T Technologies</td>\n      <td>1526.2</td>\n      <td>55.8</td>\n    </tr>\n    <tr>\n      <th>15</th>\n      <td>1955</td>\n      <td>16</td>\n      <td>Shell Oil</td>\n      <td>1312.1</td>\n      <td>121.1</td>\n    </tr>\n    <tr>\n      <th>16</th>\n      <td>1955</td>\n      <td>17</td>\n      <td>Kraft</td>\n      <td>1210.3</td>\n      <td>37.4</td>\n    </tr>\n    <tr>\n      <th>17</th>\n      <td>1955</td>\n      <td>18</td>\n      <td>ChevronTexaco</td>\n      <td>1113.3</td>\n      <td>211.9</td>\n    </tr>\n    <tr>\n      <th>18</th>\n      <td>1955</td>\n      <td>19</td>\n      <td>Goodyear Tire &amp; Rubber</td>\n      <td>1090.1</td>\n      <td>48.1</td>\n    </tr>\n    <tr>\n      <th>19</th>\n      <td>1955</td>\n      <td>20</td>\n      <td>Boeing</td>\n      <td>1033.2</td>\n      <td>37</td>\n    </tr>\n  </tbody>\n</table>\n</div>"
     },
     "execution_count": 57,
     "metadata": {},
     "output_type": "execute_result"
    }
   ],
   "source": [
    "df.head(20)"
   ],
   "metadata": {
    "collapsed": false,
    "pycharm": {
     "name": "#%%\n"
    }
   }
  },
  {
   "cell_type": "code",
   "execution_count": 58,
   "outputs": [
    {
     "data": {
      "text/plain": "pandas.core.series.Series"
     },
     "execution_count": 58,
     "metadata": {},
     "output_type": "execute_result"
    }
   ],
   "source": [
    "type(df['Company'])"
   ],
   "metadata": {
    "collapsed": false,
    "pycharm": {
     "name": "#%%\n"
    }
   }
  },
  {
   "cell_type": "code",
   "execution_count": 61,
   "outputs": [
    {
     "data": {
      "text/plain": "pandas.core.frame.DataFrame"
     },
     "execution_count": 61,
     "metadata": {},
     "output_type": "execute_result"
    }
   ],
   "source": [
    "type(df[['Company','Rank']])"
   ],
   "metadata": {
    "collapsed": false,
    "pycharm": {
     "name": "#%%\n"
    }
   }
  },
  {
   "cell_type": "code",
   "execution_count": 63,
   "outputs": [
    {
     "data": {
      "text/plain": "'-0.1'"
     },
     "execution_count": 63,
     "metadata": {},
     "output_type": "execute_result"
    }
   ],
   "source": [
    "df['Profit (in millions)'].min()"
   ],
   "metadata": {
    "collapsed": false,
    "pycharm": {
     "name": "#%%\n"
    }
   }
  },
  {
   "cell_type": "code",
   "execution_count": 64,
   "outputs": [
    {
     "data": {
      "text/plain": "'N.A.'"
     },
     "execution_count": 64,
     "metadata": {},
     "output_type": "execute_result"
    }
   ],
   "source": [
    "df['Profit (in millions)'].max()"
   ],
   "metadata": {
    "collapsed": false,
    "pycharm": {
     "name": "#%%\n"
    }
   }
  },
  {
   "cell_type": "code",
   "execution_count": 66,
   "outputs": [
    {
     "data": {
      "text/plain": "Index(['Year', 'Rank', 'Company', 'Revenue (in millions)',\n       'Profit (in millions)'],\n      dtype='object')"
     },
     "execution_count": 66,
     "metadata": {},
     "output_type": "execute_result"
    }
   ],
   "source": [
    "df.columns"
   ],
   "metadata": {
    "collapsed": false,
    "pycharm": {
     "name": "#%%\n"
    }
   }
  },
  {
   "cell_type": "code",
   "execution_count": 67,
   "outputs": [],
   "source": [
    "df = pd.DataFrame(people)"
   ],
   "metadata": {
    "collapsed": false,
    "pycharm": {
     "name": "#%%\n"
    }
   }
  },
  {
   "cell_type": "code",
   "execution_count": 68,
   "outputs": [
    {
     "data": {
      "text/plain": "  first last             email\n0    길동    홍  gdhong@gmail.com\n1    춘향    성  chsung@gmail.com\n2    몽룡    이   mylee@gmail.com",
      "text/html": "<div>\n<style scoped>\n    .dataframe tbody tr th:only-of-type {\n        vertical-align: middle;\n    }\n\n    .dataframe tbody tr th {\n        vertical-align: top;\n    }\n\n    .dataframe thead th {\n        text-align: right;\n    }\n</style>\n<table border=\"1\" class=\"dataframe\">\n  <thead>\n    <tr style=\"text-align: right;\">\n      <th></th>\n      <th>first</th>\n      <th>last</th>\n      <th>email</th>\n    </tr>\n  </thead>\n  <tbody>\n    <tr>\n      <th>0</th>\n      <td>길동</td>\n      <td>홍</td>\n      <td>gdhong@gmail.com</td>\n    </tr>\n    <tr>\n      <th>1</th>\n      <td>춘향</td>\n      <td>성</td>\n      <td>chsung@gmail.com</td>\n    </tr>\n    <tr>\n      <th>2</th>\n      <td>몽룡</td>\n      <td>이</td>\n      <td>mylee@gmail.com</td>\n    </tr>\n  </tbody>\n</table>\n</div>"
     },
     "execution_count": 68,
     "metadata": {},
     "output_type": "execute_result"
    }
   ],
   "source": [
    "df"
   ],
   "metadata": {
    "collapsed": false,
    "pycharm": {
     "name": "#%%\n"
    }
   }
  },
  {
   "cell_type": "code",
   "execution_count": 69,
   "outputs": [
    {
     "data": {
      "text/plain": "Index(['first', 'last', 'email'], dtype='object')"
     },
     "execution_count": 69,
     "metadata": {},
     "output_type": "execute_result"
    }
   ],
   "source": [
    "df.columns"
   ],
   "metadata": {
    "collapsed": false,
    "pycharm": {
     "name": "#%%\n"
    }
   }
  },
  {
   "cell_type": "code",
   "execution_count": 76,
   "outputs": [],
   "source": [
    "df.columns = ['first_name', 'last_name', 'email']"
   ],
   "metadata": {
    "collapsed": false,
    "pycharm": {
     "name": "#%%\n"
    }
   }
  },
  {
   "cell_type": "code",
   "execution_count": 71,
   "outputs": [
    {
     "data": {
      "text/plain": "  first_name last_name             email\n0         길동         홍  gdhong@gmail.com\n1         춘향         성  chsung@gmail.com\n2         몽룡         이   mylee@gmail.com",
      "text/html": "<div>\n<style scoped>\n    .dataframe tbody tr th:only-of-type {\n        vertical-align: middle;\n    }\n\n    .dataframe tbody tr th {\n        vertical-align: top;\n    }\n\n    .dataframe thead th {\n        text-align: right;\n    }\n</style>\n<table border=\"1\" class=\"dataframe\">\n  <thead>\n    <tr style=\"text-align: right;\">\n      <th></th>\n      <th>first_name</th>\n      <th>last_name</th>\n      <th>email</th>\n    </tr>\n  </thead>\n  <tbody>\n    <tr>\n      <th>0</th>\n      <td>길동</td>\n      <td>홍</td>\n      <td>gdhong@gmail.com</td>\n    </tr>\n    <tr>\n      <th>1</th>\n      <td>춘향</td>\n      <td>성</td>\n      <td>chsung@gmail.com</td>\n    </tr>\n    <tr>\n      <th>2</th>\n      <td>몽룡</td>\n      <td>이</td>\n      <td>mylee@gmail.com</td>\n    </tr>\n  </tbody>\n</table>\n</div>"
     },
     "execution_count": 71,
     "metadata": {},
     "output_type": "execute_result"
    }
   ],
   "source": [
    "df"
   ],
   "metadata": {
    "collapsed": false,
    "pycharm": {
     "name": "#%%\n"
    }
   }
  },
  {
   "cell_type": "code",
   "execution_count": 72,
   "outputs": [],
   "source": [
    "df.rename(columns = {'first_name' : 'first', 'last_name' : 'last'}, inplace = True)"
   ],
   "metadata": {
    "collapsed": false,
    "pycharm": {
     "name": "#%%\n"
    }
   }
  },
  {
   "cell_type": "code",
   "execution_count": 73,
   "outputs": [
    {
     "data": {
      "text/plain": "  first last             email\n0    길동    홍  gdhong@gmail.com\n1    춘향    성  chsung@gmail.com\n2    몽룡    이   mylee@gmail.com",
      "text/html": "<div>\n<style scoped>\n    .dataframe tbody tr th:only-of-type {\n        vertical-align: middle;\n    }\n\n    .dataframe tbody tr th {\n        vertical-align: top;\n    }\n\n    .dataframe thead th {\n        text-align: right;\n    }\n</style>\n<table border=\"1\" class=\"dataframe\">\n  <thead>\n    <tr style=\"text-align: right;\">\n      <th></th>\n      <th>first</th>\n      <th>last</th>\n      <th>email</th>\n    </tr>\n  </thead>\n  <tbody>\n    <tr>\n      <th>0</th>\n      <td>길동</td>\n      <td>홍</td>\n      <td>gdhong@gmail.com</td>\n    </tr>\n    <tr>\n      <th>1</th>\n      <td>춘향</td>\n      <td>성</td>\n      <td>chsung@gmail.com</td>\n    </tr>\n    <tr>\n      <th>2</th>\n      <td>몽룡</td>\n      <td>이</td>\n      <td>mylee@gmail.com</td>\n    </tr>\n  </tbody>\n</table>\n</div>"
     },
     "execution_count": 73,
     "metadata": {},
     "output_type": "execute_result"
    }
   ],
   "source": [
    "df"
   ],
   "metadata": {
    "collapsed": false,
    "pycharm": {
     "name": "#%%\n"
    }
   }
  },
  {
   "cell_type": "code",
   "execution_count": 74,
   "outputs": [],
   "source": [
    "df.columns = [i.upper() for i in df.columns]"
   ],
   "metadata": {
    "collapsed": false,
    "pycharm": {
     "name": "#%%\n"
    }
   }
  },
  {
   "cell_type": "code",
   "execution_count": 77,
   "outputs": [
    {
     "data": {
      "text/plain": "  first_name last_name             email\n0         길동         홍  gdhong@gmail.com\n1         춘향         성  chsung@gmail.com\n2         몽룡         이   mylee@gmail.com",
      "text/html": "<div>\n<style scoped>\n    .dataframe tbody tr th:only-of-type {\n        vertical-align: middle;\n    }\n\n    .dataframe tbody tr th {\n        vertical-align: top;\n    }\n\n    .dataframe thead th {\n        text-align: right;\n    }\n</style>\n<table border=\"1\" class=\"dataframe\">\n  <thead>\n    <tr style=\"text-align: right;\">\n      <th></th>\n      <th>first_name</th>\n      <th>last_name</th>\n      <th>email</th>\n    </tr>\n  </thead>\n  <tbody>\n    <tr>\n      <th>0</th>\n      <td>길동</td>\n      <td>홍</td>\n      <td>gdhong@gmail.com</td>\n    </tr>\n    <tr>\n      <th>1</th>\n      <td>춘향</td>\n      <td>성</td>\n      <td>chsung@gmail.com</td>\n    </tr>\n    <tr>\n      <th>2</th>\n      <td>몽룡</td>\n      <td>이</td>\n      <td>mylee@gmail.com</td>\n    </tr>\n  </tbody>\n</table>\n</div>"
     },
     "execution_count": 77,
     "metadata": {},
     "output_type": "execute_result"
    }
   ],
   "source": [
    "df"
   ],
   "metadata": {
    "collapsed": false,
    "pycharm": {
     "name": "#%%\n"
    }
   }
  },
  {
   "cell_type": "code",
   "execution_count": 78,
   "outputs": [],
   "source": [
    "df.columns = [i.replace('_',' ') for i in df.columns]"
   ],
   "metadata": {
    "collapsed": false,
    "pycharm": {
     "name": "#%%\n"
    }
   }
  },
  {
   "cell_type": "code",
   "execution_count": 79,
   "outputs": [
    {
     "data": {
      "text/plain": "  first name last name             email\n0         길동         홍  gdhong@gmail.com\n1         춘향         성  chsung@gmail.com\n2         몽룡         이   mylee@gmail.com",
      "text/html": "<div>\n<style scoped>\n    .dataframe tbody tr th:only-of-type {\n        vertical-align: middle;\n    }\n\n    .dataframe tbody tr th {\n        vertical-align: top;\n    }\n\n    .dataframe thead th {\n        text-align: right;\n    }\n</style>\n<table border=\"1\" class=\"dataframe\">\n  <thead>\n    <tr style=\"text-align: right;\">\n      <th></th>\n      <th>first name</th>\n      <th>last name</th>\n      <th>email</th>\n    </tr>\n  </thead>\n  <tbody>\n    <tr>\n      <th>0</th>\n      <td>길동</td>\n      <td>홍</td>\n      <td>gdhong@gmail.com</td>\n    </tr>\n    <tr>\n      <th>1</th>\n      <td>춘향</td>\n      <td>성</td>\n      <td>chsung@gmail.com</td>\n    </tr>\n    <tr>\n      <th>2</th>\n      <td>몽룡</td>\n      <td>이</td>\n      <td>mylee@gmail.com</td>\n    </tr>\n  </tbody>\n</table>\n</div>"
     },
     "execution_count": 79,
     "metadata": {},
     "output_type": "execute_result"
    }
   ],
   "source": [
    "df"
   ],
   "metadata": {
    "collapsed": false,
    "pycharm": {
     "name": "#%%\n"
    }
   }
  },
  {
   "cell_type": "code",
   "execution_count": 80,
   "outputs": [],
   "source": [
    "df.columns = df.columns.str.replace(' ', '_')"
   ],
   "metadata": {
    "collapsed": false,
    "pycharm": {
     "name": "#%%\n"
    }
   }
  },
  {
   "cell_type": "code",
   "execution_count": 81,
   "outputs": [
    {
     "data": {
      "text/plain": "  first_name last_name             email\n0         길동         홍  gdhong@gmail.com\n1         춘향         성  chsung@gmail.com\n2         몽룡         이   mylee@gmail.com",
      "text/html": "<div>\n<style scoped>\n    .dataframe tbody tr th:only-of-type {\n        vertical-align: middle;\n    }\n\n    .dataframe tbody tr th {\n        vertical-align: top;\n    }\n\n    .dataframe thead th {\n        text-align: right;\n    }\n</style>\n<table border=\"1\" class=\"dataframe\">\n  <thead>\n    <tr style=\"text-align: right;\">\n      <th></th>\n      <th>first_name</th>\n      <th>last_name</th>\n      <th>email</th>\n    </tr>\n  </thead>\n  <tbody>\n    <tr>\n      <th>0</th>\n      <td>길동</td>\n      <td>홍</td>\n      <td>gdhong@gmail.com</td>\n    </tr>\n    <tr>\n      <th>1</th>\n      <td>춘향</td>\n      <td>성</td>\n      <td>chsung@gmail.com</td>\n    </tr>\n    <tr>\n      <th>2</th>\n      <td>몽룡</td>\n      <td>이</td>\n      <td>mylee@gmail.com</td>\n    </tr>\n  </tbody>\n</table>\n</div>"
     },
     "execution_count": 81,
     "metadata": {},
     "output_type": "execute_result"
    }
   ],
   "source": [
    "df"
   ],
   "metadata": {
    "collapsed": false,
    "pycharm": {
     "name": "#%%\n"
    }
   }
  },
  {
   "cell_type": "code",
   "execution_count": 82,
   "outputs": [
    {
     "data": {
      "text/plain": "first_name                 몽룡\nlast_name                   이\nemail         mylee@gmail.com\nName: 2, dtype: object"
     },
     "execution_count": 82,
     "metadata": {},
     "output_type": "execute_result"
    }
   ],
   "source": [
    "df.loc[2]"
   ],
   "metadata": {
    "collapsed": false,
    "pycharm": {
     "name": "#%%\n"
    }
   }
  },
  {
   "cell_type": "code",
   "execution_count": 83,
   "outputs": [
    {
     "data": {
      "text/plain": "first_name                 몽룡\nlast_name                   이\nemail         mylee@gmail.com\nName: 2, dtype: object"
     },
     "execution_count": 83,
     "metadata": {},
     "output_type": "execute_result"
    }
   ],
   "source": [
    "df.iloc[2]"
   ],
   "metadata": {
    "collapsed": false,
    "pycharm": {
     "name": "#%%\n"
    }
   }
  },
  {
   "cell_type": "code",
   "execution_count": 84,
   "outputs": [],
   "source": [
    "df.loc[2] = ['test', 't', 'test@gmail.com']"
   ],
   "metadata": {
    "collapsed": false,
    "pycharm": {
     "name": "#%%\n"
    }
   }
  },
  {
   "cell_type": "code",
   "execution_count": 85,
   "outputs": [
    {
     "data": {
      "text/plain": "  first_name last_name             email\n0         길동         홍  gdhong@gmail.com\n1         춘향         성  chsung@gmail.com\n2       test         t    test@gmail.com",
      "text/html": "<div>\n<style scoped>\n    .dataframe tbody tr th:only-of-type {\n        vertical-align: middle;\n    }\n\n    .dataframe tbody tr th {\n        vertical-align: top;\n    }\n\n    .dataframe thead th {\n        text-align: right;\n    }\n</style>\n<table border=\"1\" class=\"dataframe\">\n  <thead>\n    <tr style=\"text-align: right;\">\n      <th></th>\n      <th>first_name</th>\n      <th>last_name</th>\n      <th>email</th>\n    </tr>\n  </thead>\n  <tbody>\n    <tr>\n      <th>0</th>\n      <td>길동</td>\n      <td>홍</td>\n      <td>gdhong@gmail.com</td>\n    </tr>\n    <tr>\n      <th>1</th>\n      <td>춘향</td>\n      <td>성</td>\n      <td>chsung@gmail.com</td>\n    </tr>\n    <tr>\n      <th>2</th>\n      <td>test</td>\n      <td>t</td>\n      <td>test@gmail.com</td>\n    </tr>\n  </tbody>\n</table>\n</div>"
     },
     "execution_count": 85,
     "metadata": {},
     "output_type": "execute_result"
    }
   ],
   "source": [
    "df"
   ],
   "metadata": {
    "collapsed": false,
    "pycharm": {
     "name": "#%%\n"
    }
   }
  },
  {
   "cell_type": "code",
   "execution_count": 86,
   "outputs": [],
   "source": [
    "df['email'] = df['email'].str.upper()"
   ],
   "metadata": {
    "collapsed": false,
    "pycharm": {
     "name": "#%%\n"
    }
   }
  },
  {
   "cell_type": "code",
   "execution_count": 87,
   "outputs": [
    {
     "data": {
      "text/plain": "  first_name last_name             email\n0         길동         홍  GDHONG@GMAIL.COM\n1         춘향         성  CHSUNG@GMAIL.COM\n2       test         t    TEST@GMAIL.COM",
      "text/html": "<div>\n<style scoped>\n    .dataframe tbody tr th:only-of-type {\n        vertical-align: middle;\n    }\n\n    .dataframe tbody tr th {\n        vertical-align: top;\n    }\n\n    .dataframe thead th {\n        text-align: right;\n    }\n</style>\n<table border=\"1\" class=\"dataframe\">\n  <thead>\n    <tr style=\"text-align: right;\">\n      <th></th>\n      <th>first_name</th>\n      <th>last_name</th>\n      <th>email</th>\n    </tr>\n  </thead>\n  <tbody>\n    <tr>\n      <th>0</th>\n      <td>길동</td>\n      <td>홍</td>\n      <td>GDHONG@GMAIL.COM</td>\n    </tr>\n    <tr>\n      <th>1</th>\n      <td>춘향</td>\n      <td>성</td>\n      <td>CHSUNG@GMAIL.COM</td>\n    </tr>\n    <tr>\n      <th>2</th>\n      <td>test</td>\n      <td>t</td>\n      <td>TEST@GMAIL.COM</td>\n    </tr>\n  </tbody>\n</table>\n</div>"
     },
     "execution_count": 87,
     "metadata": {},
     "output_type": "execute_result"
    }
   ],
   "source": [
    "df"
   ],
   "metadata": {
    "collapsed": false,
    "pycharm": {
     "name": "#%%\n"
    }
   }
  },
  {
   "cell_type": "code",
   "execution_count": 88,
   "outputs": [
    {
     "data": {
      "text/plain": "0    1\n1    1\n2    1\nName: last_name, dtype: int64"
     },
     "execution_count": 88,
     "metadata": {},
     "output_type": "execute_result"
    }
   ],
   "source": [
    "df['last_name'].apply(len)"
   ],
   "metadata": {
    "collapsed": false,
    "pycharm": {
     "name": "#%%\n"
    }
   }
  },
  {
   "cell_type": "code",
   "execution_count": 89,
   "outputs": [
    {
     "data": {
      "text/plain": "0    2\n1    2\n2    4\nName: first_name, dtype: int64"
     },
     "execution_count": 89,
     "metadata": {},
     "output_type": "execute_result"
    }
   ],
   "source": [
    "df['first_name'].apply(len)"
   ],
   "metadata": {
    "collapsed": false,
    "pycharm": {
     "name": "#%%\n"
    }
   }
  },
  {
   "cell_type": "code",
   "execution_count": 90,
   "outputs": [
    {
     "data": {
      "text/plain": "  first_name last_name             email\n0         길동         홍  GDHONG@GMAIL.COM\n1         춘향         성  CHSUNG@GMAIL.COM\n2       test         t    TEST@GMAIL.COM",
      "text/html": "<div>\n<style scoped>\n    .dataframe tbody tr th:only-of-type {\n        vertical-align: middle;\n    }\n\n    .dataframe tbody tr th {\n        vertical-align: top;\n    }\n\n    .dataframe thead th {\n        text-align: right;\n    }\n</style>\n<table border=\"1\" class=\"dataframe\">\n  <thead>\n    <tr style=\"text-align: right;\">\n      <th></th>\n      <th>first_name</th>\n      <th>last_name</th>\n      <th>email</th>\n    </tr>\n  </thead>\n  <tbody>\n    <tr>\n      <th>0</th>\n      <td>길동</td>\n      <td>홍</td>\n      <td>GDHONG@GMAIL.COM</td>\n    </tr>\n    <tr>\n      <th>1</th>\n      <td>춘향</td>\n      <td>성</td>\n      <td>CHSUNG@GMAIL.COM</td>\n    </tr>\n    <tr>\n      <th>2</th>\n      <td>test</td>\n      <td>t</td>\n      <td>TEST@GMAIL.COM</td>\n    </tr>\n  </tbody>\n</table>\n</div>"
     },
     "execution_count": 90,
     "metadata": {},
     "output_type": "execute_result"
    }
   ],
   "source": [
    "def upper1(strVal):\n",
    "    return strVal.upper()\n",
    "def lower1(strVal):\n",
    "    return strVal.lower()\n",
    "\n",
    "df"
   ],
   "metadata": {
    "collapsed": false,
    "pycharm": {
     "name": "#%%\n"
    }
   }
  },
  {
   "cell_type": "code",
   "execution_count": 91,
   "outputs": [
    {
     "data": {
      "text/plain": "0    gdhong@gmail.com\n1    chsung@gmail.com\n2      test@gmail.com\nName: email, dtype: object"
     },
     "execution_count": 91,
     "metadata": {},
     "output_type": "execute_result"
    }
   ],
   "source": [
    "df['email'].apply(lower1)"
   ],
   "metadata": {
    "collapsed": false,
    "pycharm": {
     "name": "#%%\n"
    }
   }
  },
  {
   "cell_type": "code",
   "execution_count": 92,
   "outputs": [
    {
     "data": {
      "text/plain": "  first_name last_name             email\n0         길동         홍  GDHONG@GMAIL.COM\n1         춘향         성  CHSUNG@GMAIL.COM\n2       test         t    TEST@GMAIL.COM",
      "text/html": "<div>\n<style scoped>\n    .dataframe tbody tr th:only-of-type {\n        vertical-align: middle;\n    }\n\n    .dataframe tbody tr th {\n        vertical-align: top;\n    }\n\n    .dataframe thead th {\n        text-align: right;\n    }\n</style>\n<table border=\"1\" class=\"dataframe\">\n  <thead>\n    <tr style=\"text-align: right;\">\n      <th></th>\n      <th>first_name</th>\n      <th>last_name</th>\n      <th>email</th>\n    </tr>\n  </thead>\n  <tbody>\n    <tr>\n      <th>0</th>\n      <td>길동</td>\n      <td>홍</td>\n      <td>GDHONG@GMAIL.COM</td>\n    </tr>\n    <tr>\n      <th>1</th>\n      <td>춘향</td>\n      <td>성</td>\n      <td>CHSUNG@GMAIL.COM</td>\n    </tr>\n    <tr>\n      <th>2</th>\n      <td>test</td>\n      <td>t</td>\n      <td>TEST@GMAIL.COM</td>\n    </tr>\n  </tbody>\n</table>\n</div>"
     },
     "execution_count": 92,
     "metadata": {},
     "output_type": "execute_result"
    }
   ],
   "source": [
    "df"
   ],
   "metadata": {
    "collapsed": false,
    "pycharm": {
     "name": "#%%\n"
    }
   }
  },
  {
   "cell_type": "code",
   "execution_count": 93,
   "outputs": [],
   "source": [
    "df['email'] = df['email'].apply(lower1)"
   ],
   "metadata": {
    "collapsed": false,
    "pycharm": {
     "name": "#%%\n"
    }
   }
  },
  {
   "cell_type": "code",
   "execution_count": 94,
   "outputs": [
    {
     "data": {
      "text/plain": "  first_name last_name             email\n0         길동         홍  gdhong@gmail.com\n1         춘향         성  chsung@gmail.com\n2       test         t    test@gmail.com",
      "text/html": "<div>\n<style scoped>\n    .dataframe tbody tr th:only-of-type {\n        vertical-align: middle;\n    }\n\n    .dataframe tbody tr th {\n        vertical-align: top;\n    }\n\n    .dataframe thead th {\n        text-align: right;\n    }\n</style>\n<table border=\"1\" class=\"dataframe\">\n  <thead>\n    <tr style=\"text-align: right;\">\n      <th></th>\n      <th>first_name</th>\n      <th>last_name</th>\n      <th>email</th>\n    </tr>\n  </thead>\n  <tbody>\n    <tr>\n      <th>0</th>\n      <td>길동</td>\n      <td>홍</td>\n      <td>gdhong@gmail.com</td>\n    </tr>\n    <tr>\n      <th>1</th>\n      <td>춘향</td>\n      <td>성</td>\n      <td>chsung@gmail.com</td>\n    </tr>\n    <tr>\n      <th>2</th>\n      <td>test</td>\n      <td>t</td>\n      <td>test@gmail.com</td>\n    </tr>\n  </tbody>\n</table>\n</div>"
     },
     "execution_count": 94,
     "metadata": {},
     "output_type": "execute_result"
    }
   ],
   "source": [
    "df"
   ],
   "metadata": {
    "collapsed": false,
    "pycharm": {
     "name": "#%%\n"
    }
   }
  },
  {
   "cell_type": "code",
   "execution_count": 97,
   "outputs": [],
   "source": [
    "df.columns = df.columns.str.upper()"
   ],
   "metadata": {
    "collapsed": false,
    "pycharm": {
     "name": "#%%\n"
    }
   }
  },
  {
   "cell_type": "code",
   "execution_count": 98,
   "outputs": [
    {
     "data": {
      "text/plain": "  FIRST_NAME LAST_NAME             EMAIL\n0         길동         홍  gdhong@gmail.com\n1         춘향         성  chsung@gmail.com\n2       test         t    test@gmail.com",
      "text/html": "<div>\n<style scoped>\n    .dataframe tbody tr th:only-of-type {\n        vertical-align: middle;\n    }\n\n    .dataframe tbody tr th {\n        vertical-align: top;\n    }\n\n    .dataframe thead th {\n        text-align: right;\n    }\n</style>\n<table border=\"1\" class=\"dataframe\">\n  <thead>\n    <tr style=\"text-align: right;\">\n      <th></th>\n      <th>FIRST_NAME</th>\n      <th>LAST_NAME</th>\n      <th>EMAIL</th>\n    </tr>\n  </thead>\n  <tbody>\n    <tr>\n      <th>0</th>\n      <td>길동</td>\n      <td>홍</td>\n      <td>gdhong@gmail.com</td>\n    </tr>\n    <tr>\n      <th>1</th>\n      <td>춘향</td>\n      <td>성</td>\n      <td>chsung@gmail.com</td>\n    </tr>\n    <tr>\n      <th>2</th>\n      <td>test</td>\n      <td>t</td>\n      <td>test@gmail.com</td>\n    </tr>\n  </tbody>\n</table>\n</div>"
     },
     "execution_count": 98,
     "metadata": {},
     "output_type": "execute_result"
    }
   ],
   "source": [
    "df"
   ],
   "metadata": {
    "collapsed": false,
    "pycharm": {
     "name": "#%%\n"
    }
   }
  },
  {
   "cell_type": "code",
   "execution_count": 99,
   "outputs": [
    {
     "data": {
      "text/plain": "FIRST_NAME                test\nLAST_NAME                    t\nEMAIL         chsung@gmail.com\ndtype: object"
     },
     "execution_count": 99,
     "metadata": {},
     "output_type": "execute_result"
    }
   ],
   "source": [
    "df.apply(lambda x:x.min())"
   ],
   "metadata": {
    "collapsed": false,
    "pycharm": {
     "name": "#%%\n"
    }
   }
  },
  {
   "cell_type": "code",
   "execution_count": 100,
   "outputs": [
    {
     "data": {
      "text/plain": "   FIRST_NAME  LAST_NAME  EMAIL\n0           2          1     16\n1           2          1     16\n2           4          1     14",
      "text/html": "<div>\n<style scoped>\n    .dataframe tbody tr th:only-of-type {\n        vertical-align: middle;\n    }\n\n    .dataframe tbody tr th {\n        vertical-align: top;\n    }\n\n    .dataframe thead th {\n        text-align: right;\n    }\n</style>\n<table border=\"1\" class=\"dataframe\">\n  <thead>\n    <tr style=\"text-align: right;\">\n      <th></th>\n      <th>FIRST_NAME</th>\n      <th>LAST_NAME</th>\n      <th>EMAIL</th>\n    </tr>\n  </thead>\n  <tbody>\n    <tr>\n      <th>0</th>\n      <td>2</td>\n      <td>1</td>\n      <td>16</td>\n    </tr>\n    <tr>\n      <th>1</th>\n      <td>2</td>\n      <td>1</td>\n      <td>16</td>\n    </tr>\n    <tr>\n      <th>2</th>\n      <td>4</td>\n      <td>1</td>\n      <td>14</td>\n    </tr>\n  </tbody>\n</table>\n</div>"
     },
     "execution_count": 100,
     "metadata": {},
     "output_type": "execute_result"
    }
   ],
   "source": [
    "df.applymap(len)"
   ],
   "metadata": {
    "collapsed": false,
    "pycharm": {
     "name": "#%%\n"
    }
   }
  },
  {
   "cell_type": "code",
   "execution_count": 102,
   "outputs": [
    {
     "data": {
      "text/plain": "  FIRST_NAME LAST_NAME             EMAIL\n2       test         t    test@gmail.com\n0         길동         홍  gdhong@gmail.com\n1         춘향         성  chsung@gmail.com",
      "text/html": "<div>\n<style scoped>\n    .dataframe tbody tr th:only-of-type {\n        vertical-align: middle;\n    }\n\n    .dataframe tbody tr th {\n        vertical-align: top;\n    }\n\n    .dataframe thead th {\n        text-align: right;\n    }\n</style>\n<table border=\"1\" class=\"dataframe\">\n  <thead>\n    <tr style=\"text-align: right;\">\n      <th></th>\n      <th>FIRST_NAME</th>\n      <th>LAST_NAME</th>\n      <th>EMAIL</th>\n    </tr>\n  </thead>\n  <tbody>\n    <tr>\n      <th>2</th>\n      <td>test</td>\n      <td>t</td>\n      <td>test@gmail.com</td>\n    </tr>\n    <tr>\n      <th>0</th>\n      <td>길동</td>\n      <td>홍</td>\n      <td>gdhong@gmail.com</td>\n    </tr>\n    <tr>\n      <th>1</th>\n      <td>춘향</td>\n      <td>성</td>\n      <td>chsung@gmail.com</td>\n    </tr>\n  </tbody>\n</table>\n</div>"
     },
     "execution_count": 102,
     "metadata": {},
     "output_type": "execute_result"
    }
   ],
   "source": [
    "df.sort_values(by = 'FIRST_NAME')"
   ],
   "metadata": {
    "collapsed": false,
    "pycharm": {
     "name": "#%%\n"
    }
   }
  },
  {
   "cell_type": "code",
   "execution_count": 103,
   "outputs": [
    {
     "data": {
      "text/plain": "  FIRST_NAME LAST_NAME             EMAIL\n1         춘향         성  chsung@gmail.com\n0         길동         홍  gdhong@gmail.com\n2       test         t    test@gmail.com",
      "text/html": "<div>\n<style scoped>\n    .dataframe tbody tr th:only-of-type {\n        vertical-align: middle;\n    }\n\n    .dataframe tbody tr th {\n        vertical-align: top;\n    }\n\n    .dataframe thead th {\n        text-align: right;\n    }\n</style>\n<table border=\"1\" class=\"dataframe\">\n  <thead>\n    <tr style=\"text-align: right;\">\n      <th></th>\n      <th>FIRST_NAME</th>\n      <th>LAST_NAME</th>\n      <th>EMAIL</th>\n    </tr>\n  </thead>\n  <tbody>\n    <tr>\n      <th>1</th>\n      <td>춘향</td>\n      <td>성</td>\n      <td>chsung@gmail.com</td>\n    </tr>\n    <tr>\n      <th>0</th>\n      <td>길동</td>\n      <td>홍</td>\n      <td>gdhong@gmail.com</td>\n    </tr>\n    <tr>\n      <th>2</th>\n      <td>test</td>\n      <td>t</td>\n      <td>test@gmail.com</td>\n    </tr>\n  </tbody>\n</table>\n</div>"
     },
     "execution_count": 103,
     "metadata": {},
     "output_type": "execute_result"
    }
   ],
   "source": [
    "df.sort_values(by='FIRST_NAME', ascending=False)"
   ],
   "metadata": {
    "collapsed": false,
    "pycharm": {
     "name": "#%%\n"
    }
   }
  },
  {
   "cell_type": "code",
   "execution_count": 104,
   "outputs": [
    {
     "data": {
      "text/plain": "  FIRST_NAME LAST_NAME             EMAIL\n0         길동         홍  gdhong@gmail.com\n1         춘향         성  chsung@gmail.com\n2       test         t    test@gmail.com",
      "text/html": "<div>\n<style scoped>\n    .dataframe tbody tr th:only-of-type {\n        vertical-align: middle;\n    }\n\n    .dataframe tbody tr th {\n        vertical-align: top;\n    }\n\n    .dataframe thead th {\n        text-align: right;\n    }\n</style>\n<table border=\"1\" class=\"dataframe\">\n  <thead>\n    <tr style=\"text-align: right;\">\n      <th></th>\n      <th>FIRST_NAME</th>\n      <th>LAST_NAME</th>\n      <th>EMAIL</th>\n    </tr>\n  </thead>\n  <tbody>\n    <tr>\n      <th>0</th>\n      <td>길동</td>\n      <td>홍</td>\n      <td>gdhong@gmail.com</td>\n    </tr>\n    <tr>\n      <th>1</th>\n      <td>춘향</td>\n      <td>성</td>\n      <td>chsung@gmail.com</td>\n    </tr>\n    <tr>\n      <th>2</th>\n      <td>test</td>\n      <td>t</td>\n      <td>test@gmail.com</td>\n    </tr>\n  </tbody>\n</table>\n</div>"
     },
     "execution_count": 104,
     "metadata": {},
     "output_type": "execute_result"
    }
   ],
   "source": [
    "df"
   ],
   "metadata": {
    "collapsed": false,
    "pycharm": {
     "name": "#%%\n"
    }
   }
  },
  {
   "cell_type": "code",
   "execution_count": 106,
   "outputs": [],
   "source": [
    "df = df.sort_values(by=['FIRST_NAME','LAST_NAME'], ascending=[True, False])"
   ],
   "metadata": {
    "collapsed": false,
    "pycharm": {
     "name": "#%%\n"
    }
   }
  },
  {
   "cell_type": "code",
   "execution_count": 123,
   "outputs": [
    {
     "data": {
      "text/plain": "  first last             email\n0    길동    홍  gdhong@gmail.com\n1    춘향    성  chsung@gmail.com\n2    몽룡    이   mylee@gmail.com",
      "text/html": "<div>\n<style scoped>\n    .dataframe tbody tr th:only-of-type {\n        vertical-align: middle;\n    }\n\n    .dataframe tbody tr th {\n        vertical-align: top;\n    }\n\n    .dataframe thead th {\n        text-align: right;\n    }\n</style>\n<table border=\"1\" class=\"dataframe\">\n  <thead>\n    <tr style=\"text-align: right;\">\n      <th></th>\n      <th>first</th>\n      <th>last</th>\n      <th>email</th>\n    </tr>\n  </thead>\n  <tbody>\n    <tr>\n      <th>0</th>\n      <td>길동</td>\n      <td>홍</td>\n      <td>gdhong@gmail.com</td>\n    </tr>\n    <tr>\n      <th>1</th>\n      <td>춘향</td>\n      <td>성</td>\n      <td>chsung@gmail.com</td>\n    </tr>\n    <tr>\n      <th>2</th>\n      <td>몽룡</td>\n      <td>이</td>\n      <td>mylee@gmail.com</td>\n    </tr>\n  </tbody>\n</table>\n</div>"
     },
     "execution_count": 123,
     "metadata": {},
     "output_type": "execute_result"
    }
   ],
   "source": [
    "df"
   ],
   "metadata": {
    "collapsed": false,
    "pycharm": {
     "name": "#%%\n"
    }
   }
  },
  {
   "cell_type": "code",
   "execution_count": 124,
   "outputs": [],
   "source": [
    "df.sort_values(by=['first','last'], ascending=[True, False], inplace=True)"
   ],
   "metadata": {
    "collapsed": false,
    "pycharm": {
     "name": "#%%\n"
    }
   }
  },
  {
   "cell_type": "code",
   "execution_count": 125,
   "outputs": [
    {
     "data": {
      "text/plain": "  first last             email\n0    길동    홍  gdhong@gmail.com\n2    몽룡    이   mylee@gmail.com\n1    춘향    성  chsung@gmail.com",
      "text/html": "<div>\n<style scoped>\n    .dataframe tbody tr th:only-of-type {\n        vertical-align: middle;\n    }\n\n    .dataframe tbody tr th {\n        vertical-align: top;\n    }\n\n    .dataframe thead th {\n        text-align: right;\n    }\n</style>\n<table border=\"1\" class=\"dataframe\">\n  <thead>\n    <tr style=\"text-align: right;\">\n      <th></th>\n      <th>first</th>\n      <th>last</th>\n      <th>email</th>\n    </tr>\n  </thead>\n  <tbody>\n    <tr>\n      <th>0</th>\n      <td>길동</td>\n      <td>홍</td>\n      <td>gdhong@gmail.com</td>\n    </tr>\n    <tr>\n      <th>2</th>\n      <td>몽룡</td>\n      <td>이</td>\n      <td>mylee@gmail.com</td>\n    </tr>\n    <tr>\n      <th>1</th>\n      <td>춘향</td>\n      <td>성</td>\n      <td>chsung@gmail.com</td>\n    </tr>\n  </tbody>\n</table>\n</div>"
     },
     "execution_count": 125,
     "metadata": {},
     "output_type": "execute_result"
    }
   ],
   "source": [
    "df"
   ],
   "metadata": {
    "collapsed": false,
    "pycharm": {
     "name": "#%%\n"
    }
   }
  },
  {
   "cell_type": "code",
   "execution_count": 126,
   "outputs": [
    {
     "data": {
      "text/plain": "  first last             email\n0    길동    홍  gdhong@gmail.com\n1    춘향    성  chsung@gmail.com\n2    몽룡    이   mylee@gmail.com",
      "text/html": "<div>\n<style scoped>\n    .dataframe tbody tr th:only-of-type {\n        vertical-align: middle;\n    }\n\n    .dataframe tbody tr th {\n        vertical-align: top;\n    }\n\n    .dataframe thead th {\n        text-align: right;\n    }\n</style>\n<table border=\"1\" class=\"dataframe\">\n  <thead>\n    <tr style=\"text-align: right;\">\n      <th></th>\n      <th>first</th>\n      <th>last</th>\n      <th>email</th>\n    </tr>\n  </thead>\n  <tbody>\n    <tr>\n      <th>0</th>\n      <td>길동</td>\n      <td>홍</td>\n      <td>gdhong@gmail.com</td>\n    </tr>\n    <tr>\n      <th>1</th>\n      <td>춘향</td>\n      <td>성</td>\n      <td>chsung@gmail.com</td>\n    </tr>\n    <tr>\n      <th>2</th>\n      <td>몽룡</td>\n      <td>이</td>\n      <td>mylee@gmail.com</td>\n    </tr>\n  </tbody>\n</table>\n</div>"
     },
     "execution_count": 126,
     "metadata": {},
     "output_type": "execute_result"
    }
   ],
   "source": [
    "df.sort_index()"
   ],
   "metadata": {
    "collapsed": false,
    "pycharm": {
     "name": "#%%\n"
    }
   }
  },
  {
   "cell_type": "code",
   "execution_count": 127,
   "outputs": [
    {
     "data": {
      "text/plain": "  first last             email\n0    길동    홍  gdhong@gmail.com\n2    몽룡    이   mylee@gmail.com\n1    춘향    성  chsung@gmail.com",
      "text/html": "<div>\n<style scoped>\n    .dataframe tbody tr th:only-of-type {\n        vertical-align: middle;\n    }\n\n    .dataframe tbody tr th {\n        vertical-align: top;\n    }\n\n    .dataframe thead th {\n        text-align: right;\n    }\n</style>\n<table border=\"1\" class=\"dataframe\">\n  <thead>\n    <tr style=\"text-align: right;\">\n      <th></th>\n      <th>first</th>\n      <th>last</th>\n      <th>email</th>\n    </tr>\n  </thead>\n  <tbody>\n    <tr>\n      <th>0</th>\n      <td>길동</td>\n      <td>홍</td>\n      <td>gdhong@gmail.com</td>\n    </tr>\n    <tr>\n      <th>2</th>\n      <td>몽룡</td>\n      <td>이</td>\n      <td>mylee@gmail.com</td>\n    </tr>\n    <tr>\n      <th>1</th>\n      <td>춘향</td>\n      <td>성</td>\n      <td>chsung@gmail.com</td>\n    </tr>\n  </tbody>\n</table>\n</div>"
     },
     "execution_count": 127,
     "metadata": {},
     "output_type": "execute_result"
    }
   ],
   "source": [
    "df"
   ],
   "metadata": {
    "collapsed": false,
    "pycharm": {
     "name": "#%%\n"
    }
   }
  },
  {
   "cell_type": "code",
   "execution_count": 128,
   "outputs": [],
   "source": [
    "df.sort_index(inplace=True)"
   ],
   "metadata": {
    "collapsed": false,
    "pycharm": {
     "name": "#%%\n"
    }
   }
  },
  {
   "cell_type": "code",
   "execution_count": 129,
   "outputs": [
    {
     "data": {
      "text/plain": "  first last             email\n0    길동    홍  gdhong@gmail.com\n1    춘향    성  chsung@gmail.com\n2    몽룡    이   mylee@gmail.com",
      "text/html": "<div>\n<style scoped>\n    .dataframe tbody tr th:only-of-type {\n        vertical-align: middle;\n    }\n\n    .dataframe tbody tr th {\n        vertical-align: top;\n    }\n\n    .dataframe thead th {\n        text-align: right;\n    }\n</style>\n<table border=\"1\" class=\"dataframe\">\n  <thead>\n    <tr style=\"text-align: right;\">\n      <th></th>\n      <th>first</th>\n      <th>last</th>\n      <th>email</th>\n    </tr>\n  </thead>\n  <tbody>\n    <tr>\n      <th>0</th>\n      <td>길동</td>\n      <td>홍</td>\n      <td>gdhong@gmail.com</td>\n    </tr>\n    <tr>\n      <th>1</th>\n      <td>춘향</td>\n      <td>성</td>\n      <td>chsung@gmail.com</td>\n    </tr>\n    <tr>\n      <th>2</th>\n      <td>몽룡</td>\n      <td>이</td>\n      <td>mylee@gmail.com</td>\n    </tr>\n  </tbody>\n</table>\n</div>"
     },
     "execution_count": 129,
     "metadata": {},
     "output_type": "execute_result"
    }
   ],
   "source": [
    "df"
   ],
   "metadata": {
    "collapsed": false,
    "pycharm": {
     "name": "#%%\n"
    }
   }
  },
  {
   "cell_type": "code",
   "execution_count": 130,
   "outputs": [
    {
     "data": {
      "text/plain": "  first last             email\n0    길동    홍  gdhong@gmail.com\n2    몽룡    이   mylee@gmail.com",
      "text/html": "<div>\n<style scoped>\n    .dataframe tbody tr th:only-of-type {\n        vertical-align: middle;\n    }\n\n    .dataframe tbody tr th {\n        vertical-align: top;\n    }\n\n    .dataframe thead th {\n        text-align: right;\n    }\n</style>\n<table border=\"1\" class=\"dataframe\">\n  <thead>\n    <tr style=\"text-align: right;\">\n      <th></th>\n      <th>first</th>\n      <th>last</th>\n      <th>email</th>\n    </tr>\n  </thead>\n  <tbody>\n    <tr>\n      <th>0</th>\n      <td>길동</td>\n      <td>홍</td>\n      <td>gdhong@gmail.com</td>\n    </tr>\n    <tr>\n      <th>2</th>\n      <td>몽룡</td>\n      <td>이</td>\n      <td>mylee@gmail.com</td>\n    </tr>\n  </tbody>\n</table>\n</div>"
     },
     "execution_count": 130,
     "metadata": {},
     "output_type": "execute_result"
    }
   ],
   "source": [
    "df.sort_values(by=['first', 'email'], ascending=[True, False]).head(2)"
   ],
   "metadata": {
    "collapsed": false,
    "pycharm": {
     "name": "#%%\n"
    }
   }
  },
  {
   "cell_type": "code",
   "execution_count": 131,
   "outputs": [],
   "source": [
    "df.columns = [x.upper() for x in df.columns]"
   ],
   "metadata": {
    "collapsed": false,
    "pycharm": {
     "name": "#%%\n"
    }
   }
  },
  {
   "cell_type": "code",
   "execution_count": 132,
   "outputs": [
    {
     "data": {
      "text/plain": "  FIRST LAST             EMAIL\n0    길동    홍  gdhong@gmail.com\n1    춘향    성  chsung@gmail.com\n2    몽룡    이   mylee@gmail.com",
      "text/html": "<div>\n<style scoped>\n    .dataframe tbody tr th:only-of-type {\n        vertical-align: middle;\n    }\n\n    .dataframe tbody tr th {\n        vertical-align: top;\n    }\n\n    .dataframe thead th {\n        text-align: right;\n    }\n</style>\n<table border=\"1\" class=\"dataframe\">\n  <thead>\n    <tr style=\"text-align: right;\">\n      <th></th>\n      <th>FIRST</th>\n      <th>LAST</th>\n      <th>EMAIL</th>\n    </tr>\n  </thead>\n  <tbody>\n    <tr>\n      <th>0</th>\n      <td>길동</td>\n      <td>홍</td>\n      <td>gdhong@gmail.com</td>\n    </tr>\n    <tr>\n      <th>1</th>\n      <td>춘향</td>\n      <td>성</td>\n      <td>chsung@gmail.com</td>\n    </tr>\n    <tr>\n      <th>2</th>\n      <td>몽룡</td>\n      <td>이</td>\n      <td>mylee@gmail.com</td>\n    </tr>\n  </tbody>\n</table>\n</div>"
     },
     "execution_count": 132,
     "metadata": {},
     "output_type": "execute_result"
    }
   ],
   "source": [
    "df"
   ],
   "metadata": {
    "collapsed": false,
    "pycharm": {
     "name": "#%%\n"
    }
   }
  },
  {
   "cell_type": "code",
   "execution_count": 133,
   "outputs": [],
   "source": [
    "df.columns = [i.lower() for i in df.columns]"
   ],
   "metadata": {
    "collapsed": false,
    "pycharm": {
     "name": "#%%\n"
    }
   }
  },
  {
   "cell_type": "code",
   "execution_count": 134,
   "outputs": [
    {
     "data": {
      "text/plain": "  first last             email\n0    길동    홍  gdhong@gmail.com\n1    춘향    성  chsung@gmail.com\n2    몽룡    이   mylee@gmail.com",
      "text/html": "<div>\n<style scoped>\n    .dataframe tbody tr th:only-of-type {\n        vertical-align: middle;\n    }\n\n    .dataframe tbody tr th {\n        vertical-align: top;\n    }\n\n    .dataframe thead th {\n        text-align: right;\n    }\n</style>\n<table border=\"1\" class=\"dataframe\">\n  <thead>\n    <tr style=\"text-align: right;\">\n      <th></th>\n      <th>first</th>\n      <th>last</th>\n      <th>email</th>\n    </tr>\n  </thead>\n  <tbody>\n    <tr>\n      <th>0</th>\n      <td>길동</td>\n      <td>홍</td>\n      <td>gdhong@gmail.com</td>\n    </tr>\n    <tr>\n      <th>1</th>\n      <td>춘향</td>\n      <td>성</td>\n      <td>chsung@gmail.com</td>\n    </tr>\n    <tr>\n      <th>2</th>\n      <td>몽룡</td>\n      <td>이</td>\n      <td>mylee@gmail.com</td>\n    </tr>\n  </tbody>\n</table>\n</div>"
     },
     "execution_count": 134,
     "metadata": {},
     "output_type": "execute_result"
    }
   ],
   "source": [
    "df"
   ],
   "metadata": {
    "collapsed": false,
    "pycharm": {
     "name": "#%%\n"
    }
   }
  },
  {
   "cell_type": "code",
   "execution_count": 135,
   "outputs": [],
   "source": [
    "df.rename(columns={'first':'first_name','last':'last_name'}, inplace = True)"
   ],
   "metadata": {
    "collapsed": false,
    "pycharm": {
     "name": "#%%\n"
    }
   }
  },
  {
   "cell_type": "code",
   "execution_count": 136,
   "outputs": [
    {
     "data": {
      "text/plain": "  first_name last_name             email\n0         길동         홍  gdhong@gmail.com\n1         춘향         성  chsung@gmail.com\n2         몽룡         이   mylee@gmail.com",
      "text/html": "<div>\n<style scoped>\n    .dataframe tbody tr th:only-of-type {\n        vertical-align: middle;\n    }\n\n    .dataframe tbody tr th {\n        vertical-align: top;\n    }\n\n    .dataframe thead th {\n        text-align: right;\n    }\n</style>\n<table border=\"1\" class=\"dataframe\">\n  <thead>\n    <tr style=\"text-align: right;\">\n      <th></th>\n      <th>first_name</th>\n      <th>last_name</th>\n      <th>email</th>\n    </tr>\n  </thead>\n  <tbody>\n    <tr>\n      <th>0</th>\n      <td>길동</td>\n      <td>홍</td>\n      <td>gdhong@gmail.com</td>\n    </tr>\n    <tr>\n      <th>1</th>\n      <td>춘향</td>\n      <td>성</td>\n      <td>chsung@gmail.com</td>\n    </tr>\n    <tr>\n      <th>2</th>\n      <td>몽룡</td>\n      <td>이</td>\n      <td>mylee@gmail.com</td>\n    </tr>\n  </tbody>\n</table>\n</div>"
     },
     "execution_count": 136,
     "metadata": {},
     "output_type": "execute_result"
    }
   ],
   "source": [
    "df"
   ],
   "metadata": {
    "collapsed": false,
    "pycharm": {
     "name": "#%%\n"
    }
   }
  },
  {
   "cell_type": "code",
   "execution_count": 137,
   "outputs": [],
   "source": [
    "df.rename(columns={'email':'EMAIL'},inplace = True)"
   ],
   "metadata": {
    "collapsed": false,
    "pycharm": {
     "name": "#%%\n"
    }
   }
  },
  {
   "cell_type": "code",
   "execution_count": 138,
   "outputs": [
    {
     "data": {
      "text/plain": "  first_name last_name             EMAIL\n0         길동         홍  gdhong@gmail.com\n1         춘향         성  chsung@gmail.com\n2         몽룡         이   mylee@gmail.com",
      "text/html": "<div>\n<style scoped>\n    .dataframe tbody tr th:only-of-type {\n        vertical-align: middle;\n    }\n\n    .dataframe tbody tr th {\n        vertical-align: top;\n    }\n\n    .dataframe thead th {\n        text-align: right;\n    }\n</style>\n<table border=\"1\" class=\"dataframe\">\n  <thead>\n    <tr style=\"text-align: right;\">\n      <th></th>\n      <th>first_name</th>\n      <th>last_name</th>\n      <th>EMAIL</th>\n    </tr>\n  </thead>\n  <tbody>\n    <tr>\n      <th>0</th>\n      <td>길동</td>\n      <td>홍</td>\n      <td>gdhong@gmail.com</td>\n    </tr>\n    <tr>\n      <th>1</th>\n      <td>춘향</td>\n      <td>성</td>\n      <td>chsung@gmail.com</td>\n    </tr>\n    <tr>\n      <th>2</th>\n      <td>몽룡</td>\n      <td>이</td>\n      <td>mylee@gmail.com</td>\n    </tr>\n  </tbody>\n</table>\n</div>"
     },
     "execution_count": 138,
     "metadata": {},
     "output_type": "execute_result"
    }
   ],
   "source": [
    "df"
   ],
   "metadata": {
    "collapsed": false,
    "pycharm": {
     "name": "#%%\n"
    }
   }
  },
  {
   "cell_type": "code",
   "execution_count": 139,
   "outputs": [],
   "source": [
    "df.columns = [i.replace('_',' ') for i in df.columns]"
   ],
   "metadata": {
    "collapsed": false,
    "pycharm": {
     "name": "#%%\n"
    }
   }
  },
  {
   "cell_type": "code",
   "execution_count": 140,
   "outputs": [
    {
     "data": {
      "text/plain": "  first name last name             EMAIL\n0         길동         홍  gdhong@gmail.com\n1         춘향         성  chsung@gmail.com\n2         몽룡         이   mylee@gmail.com",
      "text/html": "<div>\n<style scoped>\n    .dataframe tbody tr th:only-of-type {\n        vertical-align: middle;\n    }\n\n    .dataframe tbody tr th {\n        vertical-align: top;\n    }\n\n    .dataframe thead th {\n        text-align: right;\n    }\n</style>\n<table border=\"1\" class=\"dataframe\">\n  <thead>\n    <tr style=\"text-align: right;\">\n      <th></th>\n      <th>first name</th>\n      <th>last name</th>\n      <th>EMAIL</th>\n    </tr>\n  </thead>\n  <tbody>\n    <tr>\n      <th>0</th>\n      <td>길동</td>\n      <td>홍</td>\n      <td>gdhong@gmail.com</td>\n    </tr>\n    <tr>\n      <th>1</th>\n      <td>춘향</td>\n      <td>성</td>\n      <td>chsung@gmail.com</td>\n    </tr>\n    <tr>\n      <th>2</th>\n      <td>몽룡</td>\n      <td>이</td>\n      <td>mylee@gmail.com</td>\n    </tr>\n  </tbody>\n</table>\n</div>"
     },
     "execution_count": 140,
     "metadata": {},
     "output_type": "execute_result"
    }
   ],
   "source": [
    "df"
   ],
   "metadata": {
    "collapsed": false,
    "pycharm": {
     "name": "#%%\n"
    }
   }
  },
  {
   "cell_type": "code",
   "execution_count": 143,
   "outputs": [
    {
     "data": {
      "text/plain": "0    홍 길동\n1    성 춘향\n2    이 몽룡\ndtype: object"
     },
     "execution_count": 143,
     "metadata": {},
     "output_type": "execute_result"
    }
   ],
   "source": [
    "df['last name'] + ' ' + df['first name']"
   ],
   "metadata": {
    "collapsed": false,
    "pycharm": {
     "name": "#%%\n"
    }
   }
  },
  {
   "cell_type": "code",
   "execution_count": 144,
   "outputs": [],
   "source": [
    "df['name'] = df['last name'] + ' ' + df['first name']"
   ],
   "metadata": {
    "collapsed": false,
    "pycharm": {
     "name": "#%%\n"
    }
   }
  },
  {
   "cell_type": "code",
   "execution_count": 145,
   "outputs": [
    {
     "data": {
      "text/plain": "  first name last name             EMAIL  name\n0         길동         홍  gdhong@gmail.com  홍 길동\n1         춘향         성  chsung@gmail.com  성 춘향\n2         몽룡         이   mylee@gmail.com  이 몽룡",
      "text/html": "<div>\n<style scoped>\n    .dataframe tbody tr th:only-of-type {\n        vertical-align: middle;\n    }\n\n    .dataframe tbody tr th {\n        vertical-align: top;\n    }\n\n    .dataframe thead th {\n        text-align: right;\n    }\n</style>\n<table border=\"1\" class=\"dataframe\">\n  <thead>\n    <tr style=\"text-align: right;\">\n      <th></th>\n      <th>first name</th>\n      <th>last name</th>\n      <th>EMAIL</th>\n      <th>name</th>\n    </tr>\n  </thead>\n  <tbody>\n    <tr>\n      <th>0</th>\n      <td>길동</td>\n      <td>홍</td>\n      <td>gdhong@gmail.com</td>\n      <td>홍 길동</td>\n    </tr>\n    <tr>\n      <th>1</th>\n      <td>춘향</td>\n      <td>성</td>\n      <td>chsung@gmail.com</td>\n      <td>성 춘향</td>\n    </tr>\n    <tr>\n      <th>2</th>\n      <td>몽룡</td>\n      <td>이</td>\n      <td>mylee@gmail.com</td>\n      <td>이 몽룡</td>\n    </tr>\n  </tbody>\n</table>\n</div>"
     },
     "execution_count": 145,
     "metadata": {},
     "output_type": "execute_result"
    }
   ],
   "source": [
    "df"
   ],
   "metadata": {
    "collapsed": false,
    "pycharm": {
     "name": "#%%\n"
    }
   }
  },
  {
   "cell_type": "code",
   "execution_count": 146,
   "outputs": [],
   "source": [
    "df.drop(columns={'first name', 'last name'}, inplace = True)"
   ],
   "metadata": {
    "collapsed": false,
    "pycharm": {
     "name": "#%%\n"
    }
   }
  },
  {
   "cell_type": "code",
   "execution_count": 147,
   "outputs": [
    {
     "data": {
      "text/plain": "              EMAIL  name\n0  gdhong@gmail.com  홍 길동\n1  chsung@gmail.com  성 춘향\n2   mylee@gmail.com  이 몽룡",
      "text/html": "<div>\n<style scoped>\n    .dataframe tbody tr th:only-of-type {\n        vertical-align: middle;\n    }\n\n    .dataframe tbody tr th {\n        vertical-align: top;\n    }\n\n    .dataframe thead th {\n        text-align: right;\n    }\n</style>\n<table border=\"1\" class=\"dataframe\">\n  <thead>\n    <tr style=\"text-align: right;\">\n      <th></th>\n      <th>EMAIL</th>\n      <th>name</th>\n    </tr>\n  </thead>\n  <tbody>\n    <tr>\n      <th>0</th>\n      <td>gdhong@gmail.com</td>\n      <td>홍 길동</td>\n    </tr>\n    <tr>\n      <th>1</th>\n      <td>chsung@gmail.com</td>\n      <td>성 춘향</td>\n    </tr>\n    <tr>\n      <th>2</th>\n      <td>mylee@gmail.com</td>\n      <td>이 몽룡</td>\n    </tr>\n  </tbody>\n</table>\n</div>"
     },
     "execution_count": 147,
     "metadata": {},
     "output_type": "execute_result"
    }
   ],
   "source": [
    "df"
   ],
   "metadata": {
    "collapsed": false,
    "pycharm": {
     "name": "#%%\n"
    }
   }
  },
  {
   "cell_type": "code",
   "execution_count": 148,
   "outputs": [],
   "source": [
    "df[['first','last']] = df['name'].str.split(' ', expand = True)"
   ],
   "metadata": {
    "collapsed": false,
    "pycharm": {
     "name": "#%%\n"
    }
   }
  },
  {
   "cell_type": "code",
   "execution_count": 149,
   "outputs": [
    {
     "data": {
      "text/plain": "              EMAIL  name first last\n0  gdhong@gmail.com  홍 길동     홍   길동\n1  chsung@gmail.com  성 춘향     성   춘향\n2   mylee@gmail.com  이 몽룡     이   몽룡",
      "text/html": "<div>\n<style scoped>\n    .dataframe tbody tr th:only-of-type {\n        vertical-align: middle;\n    }\n\n    .dataframe tbody tr th {\n        vertical-align: top;\n    }\n\n    .dataframe thead th {\n        text-align: right;\n    }\n</style>\n<table border=\"1\" class=\"dataframe\">\n  <thead>\n    <tr style=\"text-align: right;\">\n      <th></th>\n      <th>EMAIL</th>\n      <th>name</th>\n      <th>first</th>\n      <th>last</th>\n    </tr>\n  </thead>\n  <tbody>\n    <tr>\n      <th>0</th>\n      <td>gdhong@gmail.com</td>\n      <td>홍 길동</td>\n      <td>홍</td>\n      <td>길동</td>\n    </tr>\n    <tr>\n      <th>1</th>\n      <td>chsung@gmail.com</td>\n      <td>성 춘향</td>\n      <td>성</td>\n      <td>춘향</td>\n    </tr>\n    <tr>\n      <th>2</th>\n      <td>mylee@gmail.com</td>\n      <td>이 몽룡</td>\n      <td>이</td>\n      <td>몽룡</td>\n    </tr>\n  </tbody>\n</table>\n</div>"
     },
     "execution_count": 149,
     "metadata": {},
     "output_type": "execute_result"
    }
   ],
   "source": [
    "df"
   ],
   "metadata": {
    "collapsed": false,
    "pycharm": {
     "name": "#%%\n"
    }
   }
  },
  {
   "cell_type": "code",
   "execution_count": 150,
   "outputs": [],
   "source": [
    "df.drop(columns = 'name', inplace = True)"
   ],
   "metadata": {
    "collapsed": false,
    "pycharm": {
     "name": "#%%\n"
    }
   }
  },
  {
   "cell_type": "code",
   "execution_count": 151,
   "outputs": [
    {
     "data": {
      "text/plain": "              EMAIL first last\n0  gdhong@gmail.com     홍   길동\n1  chsung@gmail.com     성   춘향\n2   mylee@gmail.com     이   몽룡",
      "text/html": "<div>\n<style scoped>\n    .dataframe tbody tr th:only-of-type {\n        vertical-align: middle;\n    }\n\n    .dataframe tbody tr th {\n        vertical-align: top;\n    }\n\n    .dataframe thead th {\n        text-align: right;\n    }\n</style>\n<table border=\"1\" class=\"dataframe\">\n  <thead>\n    <tr style=\"text-align: right;\">\n      <th></th>\n      <th>EMAIL</th>\n      <th>first</th>\n      <th>last</th>\n    </tr>\n  </thead>\n  <tbody>\n    <tr>\n      <th>0</th>\n      <td>gdhong@gmail.com</td>\n      <td>홍</td>\n      <td>길동</td>\n    </tr>\n    <tr>\n      <th>1</th>\n      <td>chsung@gmail.com</td>\n      <td>성</td>\n      <td>춘향</td>\n    </tr>\n    <tr>\n      <th>2</th>\n      <td>mylee@gmail.com</td>\n      <td>이</td>\n      <td>몽룡</td>\n    </tr>\n  </tbody>\n</table>\n</div>"
     },
     "execution_count": 151,
     "metadata": {},
     "output_type": "execute_result"
    }
   ],
   "source": [
    "df"
   ],
   "metadata": {
    "collapsed": false,
    "pycharm": {
     "name": "#%%\n"
    }
   }
  },
  {
   "cell_type": "code",
   "execution_count": null,
   "outputs": [],
   "source": [],
   "metadata": {
    "collapsed": false,
    "pycharm": {
     "name": "#%%\n"
    }
   }
  }
 ],
 "metadata": {
  "kernelspec": {
   "display_name": "Python 3",
   "language": "python",
   "name": "python3"
  },
  "language_info": {
   "codemirror_mode": {
    "name": "ipython",
    "version": 2
   },
   "file_extension": ".py",
   "mimetype": "text/x-python",
   "name": "python",
   "nbconvert_exporter": "python",
   "pygments_lexer": "ipython2",
   "version": "2.7.6"
  }
 },
 "nbformat": 4,
 "nbformat_minor": 0
}