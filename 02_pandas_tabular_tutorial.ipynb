{
 "cells": [
  {
   "cell_type": "code",
   "execution_count": 1,
   "id": "3cde9134",
   "metadata": {},
   "outputs": [],
   "source": [
    "import pandas as pd"
   ]
  },
  {
   "cell_type": "code",
   "execution_count": 2,
   "id": "14935ffc",
   "metadata": {},
   "outputs": [],
   "source": [
    "df = pd.DataFrame(\n",
    "     {\n",
    "        \"Name\": [\n",
    "             \"홍길동\",\n",
    "            \"일지매\",\n",
    "             \"성충향\",\n",
    "            ],\n",
    "         \"Age\": [22, 35, 58],\n",
    "         \"Sex\": [\"남자\", \"남자\", \"여자\"],\n",
    "     }\n",
    " )"
   ]
  },
  {
   "cell_type": "code",
   "execution_count": 3,
   "id": "c8ca5a08",
   "metadata": {},
   "outputs": [
    {
     "data": {
      "text/plain": "  Name  Age Sex\n0  홍길동   22  남자\n1  일지매   35  남자\n2  성충향   58  여자",
      "text/html": "<div>\n<style scoped>\n    .dataframe tbody tr th:only-of-type {\n        vertical-align: middle;\n    }\n\n    .dataframe tbody tr th {\n        vertical-align: top;\n    }\n\n    .dataframe thead th {\n        text-align: right;\n    }\n</style>\n<table border=\"1\" class=\"dataframe\">\n  <thead>\n    <tr style=\"text-align: right;\">\n      <th></th>\n      <th>Name</th>\n      <th>Age</th>\n      <th>Sex</th>\n    </tr>\n  </thead>\n  <tbody>\n    <tr>\n      <th>0</th>\n      <td>홍길동</td>\n      <td>22</td>\n      <td>남자</td>\n    </tr>\n    <tr>\n      <th>1</th>\n      <td>일지매</td>\n      <td>35</td>\n      <td>남자</td>\n    </tr>\n    <tr>\n      <th>2</th>\n      <td>성충향</td>\n      <td>58</td>\n      <td>여자</td>\n    </tr>\n  </tbody>\n</table>\n</div>"
     },
     "execution_count": 3,
     "metadata": {},
     "output_type": "execute_result"
    }
   ],
   "source": [
    "df"
   ]
  },
  {
   "cell_type": "markdown",
   "id": "1d3f60bb",
   "metadata": {},
   "source": [
    "__DataFrame__ 다양한 타입의 데이터를 저장할 수 있는 2차원의 데이터 구조이다.\n",
    "스프레드시트, SQL 테이블, R의 data.frame과 유사하다"
   ]
  },
  {
   "attachments": {},
   "cell_type": "markdown",
   "id": "ae2055bc",
   "metadata": {},
   "source": [
    "__DataFrame__ 의 각 칼럼은 __Serise__이다.\n",
    "![Serise]()"
   ]
  },
  {
   "cell_type": "markdown",
   "id": "fd41f5dc",
   "metadata": {},
   "source": [
    "__Age__ 칼럼의 데이터를 다루고 싶다면"
   ]
  },
  {
   "cell_type": "code",
   "execution_count": 4,
   "id": "e8f22c94",
   "metadata": {
    "scrolled": true
   },
   "outputs": [
    {
     "data": {
      "text/plain": "0    22\n1    35\n2    58\nName: Age, dtype: int64"
     },
     "execution_count": 4,
     "metadata": {},
     "output_type": "execute_result"
    }
   ],
   "source": [
    "df['Age']"
   ]
  },
  {
   "cell_type": "markdown",
   "id": "81a43244",
   "metadata": {},
   "source": [
    "__DataFrame__ 에서 하나의 칼럼을 선택하면, 그 결과는 __Serise__ 이다.\n",
    "하나의 칼럼을 선택하려면 괄호안에 [] 칼럼 라베을 적어주면 된다."
   ]
  },
  {
   "cell_type": "code",
   "execution_count": 5,
   "id": "dc514120",
   "metadata": {},
   "outputs": [],
   "source": [
    "ages=pd.Series([22,35,43], name=\"Age\")"
   ]
  },
  {
   "cell_type": "code",
   "execution_count": 6,
   "id": "2ab16fbd",
   "metadata": {},
   "outputs": [
    {
     "data": {
      "text/plain": "0    22\n1    35\n2    43\nName: Age, dtype: int64"
     },
     "execution_count": 6,
     "metadata": {},
     "output_type": "execute_result"
    }
   ],
   "source": [
    "ages"
   ]
  },
  {
   "cell_type": "code",
   "execution_count": 7,
   "id": "fac14dce",
   "metadata": {},
   "outputs": [
    {
     "data": {
      "text/plain": "58"
     },
     "execution_count": 7,
     "metadata": {},
     "output_type": "execute_result"
    }
   ],
   "source": [
    "df[\"Age\"].max()"
   ]
  }
 ],
 "metadata": {
  "kernelspec": {
   "display_name": "Python 3",
   "language": "python",
   "name": "python3"
  },
  "language_info": {
   "codemirror_mode": {
    "name": "ipython",
    "version": 3
   },
   "file_extension": ".py",
   "mimetype": "text/x-python",
   "name": "python",
   "nbconvert_exporter": "python",
   "pygments_lexer": "ipython3",
   "version": "3.8.8"
  }
 },
 "nbformat": 4,
 "nbformat_minor": 5
}