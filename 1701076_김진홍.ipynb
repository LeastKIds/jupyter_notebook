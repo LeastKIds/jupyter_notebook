{
 "cells": [
  {
   "cell_type": "markdown",
   "metadata": {
    "collapsed": true,
    "pycharm": {
     "name": "#%% md\n"
    }
   },
   "source": [
    "1번\n",
    "# 중간고사\n",
    "<ul>\n",
    "    <li>학번 : 1701076 </li>\n",
    "    <li>이름 : 김진홍</li>\n",
    "</ul>"
   ]
  },
  {
   "cell_type": "code",
   "execution_count": 2,
   "outputs": [],
   "source": [
    "import pandas as pd"
   ],
   "metadata": {
    "collapsed": false,
    "pycharm": {
     "name": "#%%\n"
    }
   }
  },
  {
   "cell_type": "code",
   "execution_count": 47,
   "outputs": [
    {
     "data": {
      "text/plain": "        SubjectName  AttdPoint  Homework  Midterm  Finalterm  Total\nStdNum                                                             \n1809349         OOP         20        19       25         11     75\n1968144         OOP         20        17       25         29     91\n1993289         OOP         20        18       16         28     82\n1891044         OOP         20        16       21         12     69\n1879982         OOP         20        17       26         29     92\n1726380         OOP         20         9       20         26     75\n1724481         OOP          0         0        0          0      0\n1804630         OOP         20        12       10          5     47\n1989046         OOP          0         0        0          0      0\n1974935         OOP         20        15       15         11     61\n1857008         OOP         19         9       12          8     48\n1993809         OOP         16         2       17          4     39\n1897281         OOP         20        17       30         30     97\n1875290         OOP         20        15       12          8     55\n1954022         OOP         20        15       19         14     68\n1934243         OOP         20        17       26         30     93\n1811646         OOP         20        14       22         22     78\n1721470         OOP          0         0        0          0      0\n1769727         OOP         20        14        9          3     46\n1950136         OOP         17         2        1          0     20\n1974440         OOP         20        17       29         28     94\n1816207         OOP          0         0        0          0      0\n1820158         OOP         20        13       19         29     81\n1806474         OOP         20         9        7          4     40\n1836508         OOP         20        11       17         13     61\n1717040         OOP          0         0        0          0      0\n1818588         OOP         20        16        5          3     44\n1943825         OOP         20        20       27         10     77\n1914788         OOP          0         0        0          0      0\n1864612         OOP         20        14       13          2     49\n1831484         OOP         20        10       11          5     46\n1741933         OOP         20        10        6          1     37\n1710335         OOP         20        13        2          4     39\n1911496         OOP         20        10        8          2     40\n1788542         OOP         20        18       19          6     63\n1873632         OOP         15        12        8          4     39\n1920569         OOP         20        14       10         15     59\n1760212         OOP         20        15        7          3     45\n1835080         OOP         20        12       12          4     48\n1786659         OOP         20        17       13          4     54\n1775658         OOP         20        12        2          2     36\n1886038         OOP         20        16       18         23     77\n1852486         OOP         20        13        3          1     37\n1908921         OOP          0         0        0          0      0",
      "text/html": "<div>\n<style scoped>\n    .dataframe tbody tr th:only-of-type {\n        vertical-align: middle;\n    }\n\n    .dataframe tbody tr th {\n        vertical-align: top;\n    }\n\n    .dataframe thead th {\n        text-align: right;\n    }\n</style>\n<table border=\"1\" class=\"dataframe\">\n  <thead>\n    <tr style=\"text-align: right;\">\n      <th></th>\n      <th>SubjectName</th>\n      <th>AttdPoint</th>\n      <th>Homework</th>\n      <th>Midterm</th>\n      <th>Finalterm</th>\n      <th>Total</th>\n    </tr>\n    <tr>\n      <th>StdNum</th>\n      <th></th>\n      <th></th>\n      <th></th>\n      <th></th>\n      <th></th>\n      <th></th>\n    </tr>\n  </thead>\n  <tbody>\n    <tr>\n      <th>1809349</th>\n      <td>OOP</td>\n      <td>20</td>\n      <td>19</td>\n      <td>25</td>\n      <td>11</td>\n      <td>75</td>\n    </tr>\n    <tr>\n      <th>1968144</th>\n      <td>OOP</td>\n      <td>20</td>\n      <td>17</td>\n      <td>25</td>\n      <td>29</td>\n      <td>91</td>\n    </tr>\n    <tr>\n      <th>1993289</th>\n      <td>OOP</td>\n      <td>20</td>\n      <td>18</td>\n      <td>16</td>\n      <td>28</td>\n      <td>82</td>\n    </tr>\n    <tr>\n      <th>1891044</th>\n      <td>OOP</td>\n      <td>20</td>\n      <td>16</td>\n      <td>21</td>\n      <td>12</td>\n      <td>69</td>\n    </tr>\n    <tr>\n      <th>1879982</th>\n      <td>OOP</td>\n      <td>20</td>\n      <td>17</td>\n      <td>26</td>\n      <td>29</td>\n      <td>92</td>\n    </tr>\n    <tr>\n      <th>1726380</th>\n      <td>OOP</td>\n      <td>20</td>\n      <td>9</td>\n      <td>20</td>\n      <td>26</td>\n      <td>75</td>\n    </tr>\n    <tr>\n      <th>1724481</th>\n      <td>OOP</td>\n      <td>0</td>\n      <td>0</td>\n      <td>0</td>\n      <td>0</td>\n      <td>0</td>\n    </tr>\n    <tr>\n      <th>1804630</th>\n      <td>OOP</td>\n      <td>20</td>\n      <td>12</td>\n      <td>10</td>\n      <td>5</td>\n      <td>47</td>\n    </tr>\n    <tr>\n      <th>1989046</th>\n      <td>OOP</td>\n      <td>0</td>\n      <td>0</td>\n      <td>0</td>\n      <td>0</td>\n      <td>0</td>\n    </tr>\n    <tr>\n      <th>1974935</th>\n      <td>OOP</td>\n      <td>20</td>\n      <td>15</td>\n      <td>15</td>\n      <td>11</td>\n      <td>61</td>\n    </tr>\n    <tr>\n      <th>1857008</th>\n      <td>OOP</td>\n      <td>19</td>\n      <td>9</td>\n      <td>12</td>\n      <td>8</td>\n      <td>48</td>\n    </tr>\n    <tr>\n      <th>1993809</th>\n      <td>OOP</td>\n      <td>16</td>\n      <td>2</td>\n      <td>17</td>\n      <td>4</td>\n      <td>39</td>\n    </tr>\n    <tr>\n      <th>1897281</th>\n      <td>OOP</td>\n      <td>20</td>\n      <td>17</td>\n      <td>30</td>\n      <td>30</td>\n      <td>97</td>\n    </tr>\n    <tr>\n      <th>1875290</th>\n      <td>OOP</td>\n      <td>20</td>\n      <td>15</td>\n      <td>12</td>\n      <td>8</td>\n      <td>55</td>\n    </tr>\n    <tr>\n      <th>1954022</th>\n      <td>OOP</td>\n      <td>20</td>\n      <td>15</td>\n      <td>19</td>\n      <td>14</td>\n      <td>68</td>\n    </tr>\n    <tr>\n      <th>1934243</th>\n      <td>OOP</td>\n      <td>20</td>\n      <td>17</td>\n      <td>26</td>\n      <td>30</td>\n      <td>93</td>\n    </tr>\n    <tr>\n      <th>1811646</th>\n      <td>OOP</td>\n      <td>20</td>\n      <td>14</td>\n      <td>22</td>\n      <td>22</td>\n      <td>78</td>\n    </tr>\n    <tr>\n      <th>1721470</th>\n      <td>OOP</td>\n      <td>0</td>\n      <td>0</td>\n      <td>0</td>\n      <td>0</td>\n      <td>0</td>\n    </tr>\n    <tr>\n      <th>1769727</th>\n      <td>OOP</td>\n      <td>20</td>\n      <td>14</td>\n      <td>9</td>\n      <td>3</td>\n      <td>46</td>\n    </tr>\n    <tr>\n      <th>1950136</th>\n      <td>OOP</td>\n      <td>17</td>\n      <td>2</td>\n      <td>1</td>\n      <td>0</td>\n      <td>20</td>\n    </tr>\n    <tr>\n      <th>1974440</th>\n      <td>OOP</td>\n      <td>20</td>\n      <td>17</td>\n      <td>29</td>\n      <td>28</td>\n      <td>94</td>\n    </tr>\n    <tr>\n      <th>1816207</th>\n      <td>OOP</td>\n      <td>0</td>\n      <td>0</td>\n      <td>0</td>\n      <td>0</td>\n      <td>0</td>\n    </tr>\n    <tr>\n      <th>1820158</th>\n      <td>OOP</td>\n      <td>20</td>\n      <td>13</td>\n      <td>19</td>\n      <td>29</td>\n      <td>81</td>\n    </tr>\n    <tr>\n      <th>1806474</th>\n      <td>OOP</td>\n      <td>20</td>\n      <td>9</td>\n      <td>7</td>\n      <td>4</td>\n      <td>40</td>\n    </tr>\n    <tr>\n      <th>1836508</th>\n      <td>OOP</td>\n      <td>20</td>\n      <td>11</td>\n      <td>17</td>\n      <td>13</td>\n      <td>61</td>\n    </tr>\n    <tr>\n      <th>1717040</th>\n      <td>OOP</td>\n      <td>0</td>\n      <td>0</td>\n      <td>0</td>\n      <td>0</td>\n      <td>0</td>\n    </tr>\n    <tr>\n      <th>1818588</th>\n      <td>OOP</td>\n      <td>20</td>\n      <td>16</td>\n      <td>5</td>\n      <td>3</td>\n      <td>44</td>\n    </tr>\n    <tr>\n      <th>1943825</th>\n      <td>OOP</td>\n      <td>20</td>\n      <td>20</td>\n      <td>27</td>\n      <td>10</td>\n      <td>77</td>\n    </tr>\n    <tr>\n      <th>1914788</th>\n      <td>OOP</td>\n      <td>0</td>\n      <td>0</td>\n      <td>0</td>\n      <td>0</td>\n      <td>0</td>\n    </tr>\n    <tr>\n      <th>1864612</th>\n      <td>OOP</td>\n      <td>20</td>\n      <td>14</td>\n      <td>13</td>\n      <td>2</td>\n      <td>49</td>\n    </tr>\n    <tr>\n      <th>1831484</th>\n      <td>OOP</td>\n      <td>20</td>\n      <td>10</td>\n      <td>11</td>\n      <td>5</td>\n      <td>46</td>\n    </tr>\n    <tr>\n      <th>1741933</th>\n      <td>OOP</td>\n      <td>20</td>\n      <td>10</td>\n      <td>6</td>\n      <td>1</td>\n      <td>37</td>\n    </tr>\n    <tr>\n      <th>1710335</th>\n      <td>OOP</td>\n      <td>20</td>\n      <td>13</td>\n      <td>2</td>\n      <td>4</td>\n      <td>39</td>\n    </tr>\n    <tr>\n      <th>1911496</th>\n      <td>OOP</td>\n      <td>20</td>\n      <td>10</td>\n      <td>8</td>\n      <td>2</td>\n      <td>40</td>\n    </tr>\n    <tr>\n      <th>1788542</th>\n      <td>OOP</td>\n      <td>20</td>\n      <td>18</td>\n      <td>19</td>\n      <td>6</td>\n      <td>63</td>\n    </tr>\n    <tr>\n      <th>1873632</th>\n      <td>OOP</td>\n      <td>15</td>\n      <td>12</td>\n      <td>8</td>\n      <td>4</td>\n      <td>39</td>\n    </tr>\n    <tr>\n      <th>1920569</th>\n      <td>OOP</td>\n      <td>20</td>\n      <td>14</td>\n      <td>10</td>\n      <td>15</td>\n      <td>59</td>\n    </tr>\n    <tr>\n      <th>1760212</th>\n      <td>OOP</td>\n      <td>20</td>\n      <td>15</td>\n      <td>7</td>\n      <td>3</td>\n      <td>45</td>\n    </tr>\n    <tr>\n      <th>1835080</th>\n      <td>OOP</td>\n      <td>20</td>\n      <td>12</td>\n      <td>12</td>\n      <td>4</td>\n      <td>48</td>\n    </tr>\n    <tr>\n      <th>1786659</th>\n      <td>OOP</td>\n      <td>20</td>\n      <td>17</td>\n      <td>13</td>\n      <td>4</td>\n      <td>54</td>\n    </tr>\n    <tr>\n      <th>1775658</th>\n      <td>OOP</td>\n      <td>20</td>\n      <td>12</td>\n      <td>2</td>\n      <td>2</td>\n      <td>36</td>\n    </tr>\n    <tr>\n      <th>1886038</th>\n      <td>OOP</td>\n      <td>20</td>\n      <td>16</td>\n      <td>18</td>\n      <td>23</td>\n      <td>77</td>\n    </tr>\n    <tr>\n      <th>1852486</th>\n      <td>OOP</td>\n      <td>20</td>\n      <td>13</td>\n      <td>3</td>\n      <td>1</td>\n      <td>37</td>\n    </tr>\n    <tr>\n      <th>1908921</th>\n      <td>OOP</td>\n      <td>0</td>\n      <td>0</td>\n      <td>0</td>\n      <td>0</td>\n      <td>0</td>\n    </tr>\n  </tbody>\n</table>\n</div>"
     },
     "execution_count": 47,
     "metadata": {},
     "output_type": "execute_result"
    }
   ],
   "source": [
    "# 2\n",
    "df = pd.read_csv('OOP_results.csv', index_col = 'StdNum')\n",
    "df"
   ],
   "metadata": {
    "collapsed": false,
    "pycharm": {
     "name": "#%%\n"
    }
   }
  },
  {
   "cell_type": "code",
   "execution_count": 4,
   "outputs": [
    {
     "data": {
      "text/plain": "        SubjectName  AttdPoint  Homework  Midterm  Finalterm  Total\nStdNum                                                             \n1809349         OOP         20        19       25         11     75\n1968144         OOP         20        17       25         29     91\n1993289         OOP         20        18       16         28     82\n1891044         OOP         20        16       21         12     69\n1879982         OOP         20        17       26         29     92\n1726380         OOP         20         9       20         26     75\n1724481         OOP          0         0        0          0      0\n1804630         OOP         20        12       10          5     47\n1989046         OOP          0         0        0          0      0\n1974935         OOP         20        15       15         11     61",
      "text/html": "<div>\n<style scoped>\n    .dataframe tbody tr th:only-of-type {\n        vertical-align: middle;\n    }\n\n    .dataframe tbody tr th {\n        vertical-align: top;\n    }\n\n    .dataframe thead th {\n        text-align: right;\n    }\n</style>\n<table border=\"1\" class=\"dataframe\">\n  <thead>\n    <tr style=\"text-align: right;\">\n      <th></th>\n      <th>SubjectName</th>\n      <th>AttdPoint</th>\n      <th>Homework</th>\n      <th>Midterm</th>\n      <th>Finalterm</th>\n      <th>Total</th>\n    </tr>\n    <tr>\n      <th>StdNum</th>\n      <th></th>\n      <th></th>\n      <th></th>\n      <th></th>\n      <th></th>\n      <th></th>\n    </tr>\n  </thead>\n  <tbody>\n    <tr>\n      <th>1809349</th>\n      <td>OOP</td>\n      <td>20</td>\n      <td>19</td>\n      <td>25</td>\n      <td>11</td>\n      <td>75</td>\n    </tr>\n    <tr>\n      <th>1968144</th>\n      <td>OOP</td>\n      <td>20</td>\n      <td>17</td>\n      <td>25</td>\n      <td>29</td>\n      <td>91</td>\n    </tr>\n    <tr>\n      <th>1993289</th>\n      <td>OOP</td>\n      <td>20</td>\n      <td>18</td>\n      <td>16</td>\n      <td>28</td>\n      <td>82</td>\n    </tr>\n    <tr>\n      <th>1891044</th>\n      <td>OOP</td>\n      <td>20</td>\n      <td>16</td>\n      <td>21</td>\n      <td>12</td>\n      <td>69</td>\n    </tr>\n    <tr>\n      <th>1879982</th>\n      <td>OOP</td>\n      <td>20</td>\n      <td>17</td>\n      <td>26</td>\n      <td>29</td>\n      <td>92</td>\n    </tr>\n    <tr>\n      <th>1726380</th>\n      <td>OOP</td>\n      <td>20</td>\n      <td>9</td>\n      <td>20</td>\n      <td>26</td>\n      <td>75</td>\n    </tr>\n    <tr>\n      <th>1724481</th>\n      <td>OOP</td>\n      <td>0</td>\n      <td>0</td>\n      <td>0</td>\n      <td>0</td>\n      <td>0</td>\n    </tr>\n    <tr>\n      <th>1804630</th>\n      <td>OOP</td>\n      <td>20</td>\n      <td>12</td>\n      <td>10</td>\n      <td>5</td>\n      <td>47</td>\n    </tr>\n    <tr>\n      <th>1989046</th>\n      <td>OOP</td>\n      <td>0</td>\n      <td>0</td>\n      <td>0</td>\n      <td>0</td>\n      <td>0</td>\n    </tr>\n    <tr>\n      <th>1974935</th>\n      <td>OOP</td>\n      <td>20</td>\n      <td>15</td>\n      <td>15</td>\n      <td>11</td>\n      <td>61</td>\n    </tr>\n  </tbody>\n</table>\n</div>"
     },
     "execution_count": 4,
     "metadata": {},
     "output_type": "execute_result"
    }
   ],
   "source": [
    "# 3\n",
    "df.head(10)"
   ],
   "metadata": {
    "collapsed": false,
    "pycharm": {
     "name": "#%%\n"
    }
   }
  },
  {
   "cell_type": "code",
   "execution_count": 6,
   "outputs": [
    {
     "data": {
      "text/plain": "SubjectName    object\nAttdPoint       int64\nHomework        int64\nMidterm         int64\nFinalterm       int64\nTotal           int64\ndtype: object"
     },
     "execution_count": 6,
     "metadata": {},
     "output_type": "execute_result"
    }
   ],
   "source": [
    "# 4\n",
    "df.dtypes"
   ],
   "metadata": {
    "collapsed": false,
    "pycharm": {
     "name": "#%%\n"
    }
   }
  },
  {
   "cell_type": "code",
   "execution_count": 61,
   "outputs": [
    {
     "data": {
      "text/plain": "(47, 8)"
     },
     "execution_count": 61,
     "metadata": {},
     "output_type": "execute_result"
    }
   ],
   "source": [
    "df.shape\n",
    "# 5번"
   ],
   "metadata": {
    "collapsed": false,
    "pycharm": {
     "name": "#%%\n"
    }
   }
  },
  {
   "cell_type": "code",
   "execution_count": 7,
   "outputs": [
    {
     "data": {
      "text/plain": "30"
     },
     "execution_count": 7,
     "metadata": {},
     "output_type": "execute_result"
    }
   ],
   "source": [
    "# 6\n",
    "df['Finalterm'].max()"
   ],
   "metadata": {
    "collapsed": false,
    "pycharm": {
     "name": "#%%\n"
    }
   }
  },
  {
   "cell_type": "code",
   "execution_count": 8,
   "outputs": [
    {
     "data": {
      "text/plain": "StdNum\n1809349    25\n1968144    25\n1993289    16\n1891044    21\n1879982    26\n1726380    20\n1724481     0\n1804630    10\n1989046     0\n1974935    15\n1857008    12\n1993809    17\n1897281    30\n1875290    12\n1954022    19\n1934243    26\n1811646    22\n1721470     0\n1769727     9\n1950136     1\n1974440    29\n1816207     0\n1820158    19\n1806474     7\n1836508    17\n1717040     0\n1818588     5\n1943825    27\n1914788     0\n1864612    13\n1831484    11\n1741933     6\n1710335     2\n1911496     8\n1788542    19\n1873632     8\n1920569    10\n1760212     7\n1835080    12\n1786659    13\n1775658     2\n1886038    18\n1852486     3\n1908921     0\nName: Midterm, dtype: int64"
     },
     "execution_count": 8,
     "metadata": {},
     "output_type": "execute_result"
    }
   ],
   "source": [
    "# 7\n",
    "df['Midterm']"
   ],
   "metadata": {
    "collapsed": false,
    "pycharm": {
     "name": "#%%\n"
    }
   }
  },
  {
   "cell_type": "code",
   "execution_count": 9,
   "outputs": [
    {
     "data": {
      "text/plain": "         Midterm  Finalterm\nStdNum                     \n1809349       25         11\n1968144       25         29\n1993289       16         28\n1891044       21         12\n1879982       26         29\n1726380       20         26\n1724481        0          0\n1804630       10          5\n1989046        0          0\n1974935       15         11\n1857008       12          8\n1993809       17          4\n1897281       30         30\n1875290       12          8\n1954022       19         14\n1934243       26         30\n1811646       22         22\n1721470        0          0\n1769727        9          3\n1950136        1          0\n1974440       29         28\n1816207        0          0\n1820158       19         29\n1806474        7          4\n1836508       17         13\n1717040        0          0\n1818588        5          3\n1943825       27         10\n1914788        0          0\n1864612       13          2\n1831484       11          5\n1741933        6          1\n1710335        2          4\n1911496        8          2\n1788542       19          6\n1873632        8          4\n1920569       10         15\n1760212        7          3\n1835080       12          4\n1786659       13          4\n1775658        2          2\n1886038       18         23\n1852486        3          1\n1908921        0          0",
      "text/html": "<div>\n<style scoped>\n    .dataframe tbody tr th:only-of-type {\n        vertical-align: middle;\n    }\n\n    .dataframe tbody tr th {\n        vertical-align: top;\n    }\n\n    .dataframe thead th {\n        text-align: right;\n    }\n</style>\n<table border=\"1\" class=\"dataframe\">\n  <thead>\n    <tr style=\"text-align: right;\">\n      <th></th>\n      <th>Midterm</th>\n      <th>Finalterm</th>\n    </tr>\n    <tr>\n      <th>StdNum</th>\n      <th></th>\n      <th></th>\n    </tr>\n  </thead>\n  <tbody>\n    <tr>\n      <th>1809349</th>\n      <td>25</td>\n      <td>11</td>\n    </tr>\n    <tr>\n      <th>1968144</th>\n      <td>25</td>\n      <td>29</td>\n    </tr>\n    <tr>\n      <th>1993289</th>\n      <td>16</td>\n      <td>28</td>\n    </tr>\n    <tr>\n      <th>1891044</th>\n      <td>21</td>\n      <td>12</td>\n    </tr>\n    <tr>\n      <th>1879982</th>\n      <td>26</td>\n      <td>29</td>\n    </tr>\n    <tr>\n      <th>1726380</th>\n      <td>20</td>\n      <td>26</td>\n    </tr>\n    <tr>\n      <th>1724481</th>\n      <td>0</td>\n      <td>0</td>\n    </tr>\n    <tr>\n      <th>1804630</th>\n      <td>10</td>\n      <td>5</td>\n    </tr>\n    <tr>\n      <th>1989046</th>\n      <td>0</td>\n      <td>0</td>\n    </tr>\n    <tr>\n      <th>1974935</th>\n      <td>15</td>\n      <td>11</td>\n    </tr>\n    <tr>\n      <th>1857008</th>\n      <td>12</td>\n      <td>8</td>\n    </tr>\n    <tr>\n      <th>1993809</th>\n      <td>17</td>\n      <td>4</td>\n    </tr>\n    <tr>\n      <th>1897281</th>\n      <td>30</td>\n      <td>30</td>\n    </tr>\n    <tr>\n      <th>1875290</th>\n      <td>12</td>\n      <td>8</td>\n    </tr>\n    <tr>\n      <th>1954022</th>\n      <td>19</td>\n      <td>14</td>\n    </tr>\n    <tr>\n      <th>1934243</th>\n      <td>26</td>\n      <td>30</td>\n    </tr>\n    <tr>\n      <th>1811646</th>\n      <td>22</td>\n      <td>22</td>\n    </tr>\n    <tr>\n      <th>1721470</th>\n      <td>0</td>\n      <td>0</td>\n    </tr>\n    <tr>\n      <th>1769727</th>\n      <td>9</td>\n      <td>3</td>\n    </tr>\n    <tr>\n      <th>1950136</th>\n      <td>1</td>\n      <td>0</td>\n    </tr>\n    <tr>\n      <th>1974440</th>\n      <td>29</td>\n      <td>28</td>\n    </tr>\n    <tr>\n      <th>1816207</th>\n      <td>0</td>\n      <td>0</td>\n    </tr>\n    <tr>\n      <th>1820158</th>\n      <td>19</td>\n      <td>29</td>\n    </tr>\n    <tr>\n      <th>1806474</th>\n      <td>7</td>\n      <td>4</td>\n    </tr>\n    <tr>\n      <th>1836508</th>\n      <td>17</td>\n      <td>13</td>\n    </tr>\n    <tr>\n      <th>1717040</th>\n      <td>0</td>\n      <td>0</td>\n    </tr>\n    <tr>\n      <th>1818588</th>\n      <td>5</td>\n      <td>3</td>\n    </tr>\n    <tr>\n      <th>1943825</th>\n      <td>27</td>\n      <td>10</td>\n    </tr>\n    <tr>\n      <th>1914788</th>\n      <td>0</td>\n      <td>0</td>\n    </tr>\n    <tr>\n      <th>1864612</th>\n      <td>13</td>\n      <td>2</td>\n    </tr>\n    <tr>\n      <th>1831484</th>\n      <td>11</td>\n      <td>5</td>\n    </tr>\n    <tr>\n      <th>1741933</th>\n      <td>6</td>\n      <td>1</td>\n    </tr>\n    <tr>\n      <th>1710335</th>\n      <td>2</td>\n      <td>4</td>\n    </tr>\n    <tr>\n      <th>1911496</th>\n      <td>8</td>\n      <td>2</td>\n    </tr>\n    <tr>\n      <th>1788542</th>\n      <td>19</td>\n      <td>6</td>\n    </tr>\n    <tr>\n      <th>1873632</th>\n      <td>8</td>\n      <td>4</td>\n    </tr>\n    <tr>\n      <th>1920569</th>\n      <td>10</td>\n      <td>15</td>\n    </tr>\n    <tr>\n      <th>1760212</th>\n      <td>7</td>\n      <td>3</td>\n    </tr>\n    <tr>\n      <th>1835080</th>\n      <td>12</td>\n      <td>4</td>\n    </tr>\n    <tr>\n      <th>1786659</th>\n      <td>13</td>\n      <td>4</td>\n    </tr>\n    <tr>\n      <th>1775658</th>\n      <td>2</td>\n      <td>2</td>\n    </tr>\n    <tr>\n      <th>1886038</th>\n      <td>18</td>\n      <td>23</td>\n    </tr>\n    <tr>\n      <th>1852486</th>\n      <td>3</td>\n      <td>1</td>\n    </tr>\n    <tr>\n      <th>1908921</th>\n      <td>0</td>\n      <td>0</td>\n    </tr>\n  </tbody>\n</table>\n</div>"
     },
     "execution_count": 9,
     "metadata": {},
     "output_type": "execute_result"
    }
   ],
   "source": [
    "# 8\n",
    "df[['Midterm','Finalterm']]"
   ],
   "metadata": {
    "collapsed": false,
    "pycharm": {
     "name": "#%%\n"
    }
   }
  },
  {
   "cell_type": "code",
   "execution_count": 12,
   "outputs": [
    {
     "data": {
      "text/plain": "StdNum\n1809349    25\n1968144    25\n1879982    26\n1897281    30\n1934243    26\n1974440    29\n1943825    27\nName: Midterm, dtype: int64"
     },
     "execution_count": 12,
     "metadata": {},
     "output_type": "execute_result"
    }
   ],
   "source": [
    "# 9\n",
    "filt = df['Midterm'] >= 25\n",
    "df.loc[filt,'Midterm']"
   ],
   "metadata": {
    "collapsed": false,
    "pycharm": {
     "name": "#%%\n"
    }
   }
  },
  {
   "cell_type": "code",
   "execution_count": 67,
   "outputs": [
    {
     "ename": "KeyError",
     "evalue": "'Midterm'",
     "output_type": "error",
     "traceback": [
      "\u001B[0;31m---------------------------------------------------------------------------\u001B[0m",
      "\u001B[0;31mKeyError\u001B[0m                                  Traceback (most recent call last)",
      "\u001B[0;32m~/opt/anaconda3/envs/jupy/lib/python3.7/site-packages/pandas/core/indexes/base.py\u001B[0m in \u001B[0;36mget_loc\u001B[0;34m(self, key, method, tolerance)\u001B[0m\n\u001B[1;32m   3360\u001B[0m             \u001B[0;32mtry\u001B[0m\u001B[0;34m:\u001B[0m\u001B[0;34m\u001B[0m\u001B[0;34m\u001B[0m\u001B[0m\n\u001B[0;32m-> 3361\u001B[0;31m                 \u001B[0;32mreturn\u001B[0m \u001B[0mself\u001B[0m\u001B[0;34m.\u001B[0m\u001B[0m_engine\u001B[0m\u001B[0;34m.\u001B[0m\u001B[0mget_loc\u001B[0m\u001B[0;34m(\u001B[0m\u001B[0mcasted_key\u001B[0m\u001B[0;34m)\u001B[0m\u001B[0;34m\u001B[0m\u001B[0;34m\u001B[0m\u001B[0m\n\u001B[0m\u001B[1;32m   3362\u001B[0m             \u001B[0;32mexcept\u001B[0m \u001B[0mKeyError\u001B[0m \u001B[0;32mas\u001B[0m \u001B[0merr\u001B[0m\u001B[0;34m:\u001B[0m\u001B[0;34m\u001B[0m\u001B[0;34m\u001B[0m\u001B[0m\n",
      "\u001B[0;32m~/opt/anaconda3/envs/jupy/lib/python3.7/site-packages/pandas/_libs/index.pyx\u001B[0m in \u001B[0;36mpandas._libs.index.IndexEngine.get_loc\u001B[0;34m()\u001B[0m\n",
      "\u001B[0;32mpandas/_libs/index_class_helper.pxi\u001B[0m in \u001B[0;36mpandas._libs.index.Int64Engine._check_type\u001B[0;34m()\u001B[0m\n",
      "\u001B[0;32mpandas/_libs/index_class_helper.pxi\u001B[0m in \u001B[0;36mpandas._libs.index.Int64Engine._check_type\u001B[0;34m()\u001B[0m\n",
      "\u001B[0;31mKeyError\u001B[0m: 'Midterm'",
      "\nThe above exception was the direct cause of the following exception:\n",
      "\u001B[0;31mKeyError\u001B[0m                                  Traceback (most recent call last)",
      "\u001B[0;32m/var/folders/v0/x6lqj72s59n7bnrhzzty2str0000gn/T/ipykernel_59884/3047841585.py\u001B[0m in \u001B[0;36m<module>\u001B[0;34m\u001B[0m\n\u001B[1;32m      1\u001B[0m \u001B[0;31m# 10번\u001B[0m\u001B[0;34m\u001B[0m\u001B[0;34m\u001B[0m\u001B[0;34m\u001B[0m\u001B[0m\n\u001B[0;32m----> 2\u001B[0;31m \u001B[0mfilt\u001B[0m \u001B[0;34m=\u001B[0m \u001B[0mdf\u001B[0m\u001B[0;34m.\u001B[0m\u001B[0mloc\u001B[0m\u001B[0;34m[\u001B[0m\u001B[0;34m'Midterm'\u001B[0m\u001B[0;34m]\u001B[0m \u001B[0;34m>=\u001B[0m \u001B[0;36m25\u001B[0m\u001B[0;34m\u001B[0m\u001B[0;34m\u001B[0m\u001B[0m\n\u001B[0m\u001B[1;32m      3\u001B[0m \u001B[0mfilt2\u001B[0m \u001B[0;34m=\u001B[0m \u001B[0mdf\u001B[0m\u001B[0;34m.\u001B[0m\u001B[0mloc\u001B[0m\u001B[0;34m[\u001B[0m\u001B[0mfilt\u001B[0m\u001B[0;34m,\u001B[0m \u001B[0;34m'Finalterm'\u001B[0m\u001B[0;34m]\u001B[0m \u001B[0;34m>=\u001B[0m \u001B[0;36m25\u001B[0m\u001B[0;34m\u001B[0m\u001B[0;34m\u001B[0m\u001B[0m\n\u001B[1;32m      4\u001B[0m \u001B[0mdf\u001B[0m\u001B[0;34m.\u001B[0m\u001B[0mloc\u001B[0m\u001B[0;34m[\u001B[0m\u001B[0mfilt2\u001B[0m\u001B[0;34m]\u001B[0m\u001B[0;34m\u001B[0m\u001B[0;34m\u001B[0m\u001B[0m\n",
      "\u001B[0;32m~/opt/anaconda3/envs/jupy/lib/python3.7/site-packages/pandas/core/indexing.py\u001B[0m in \u001B[0;36m__getitem__\u001B[0;34m(self, key)\u001B[0m\n\u001B[1;32m    929\u001B[0m \u001B[0;34m\u001B[0m\u001B[0m\n\u001B[1;32m    930\u001B[0m             \u001B[0mmaybe_callable\u001B[0m \u001B[0;34m=\u001B[0m \u001B[0mcom\u001B[0m\u001B[0;34m.\u001B[0m\u001B[0mapply_if_callable\u001B[0m\u001B[0;34m(\u001B[0m\u001B[0mkey\u001B[0m\u001B[0;34m,\u001B[0m \u001B[0mself\u001B[0m\u001B[0;34m.\u001B[0m\u001B[0mobj\u001B[0m\u001B[0;34m)\u001B[0m\u001B[0;34m\u001B[0m\u001B[0;34m\u001B[0m\u001B[0m\n\u001B[0;32m--> 931\u001B[0;31m             \u001B[0;32mreturn\u001B[0m \u001B[0mself\u001B[0m\u001B[0;34m.\u001B[0m\u001B[0m_getitem_axis\u001B[0m\u001B[0;34m(\u001B[0m\u001B[0mmaybe_callable\u001B[0m\u001B[0;34m,\u001B[0m \u001B[0maxis\u001B[0m\u001B[0;34m=\u001B[0m\u001B[0maxis\u001B[0m\u001B[0;34m)\u001B[0m\u001B[0;34m\u001B[0m\u001B[0;34m\u001B[0m\u001B[0m\n\u001B[0m\u001B[1;32m    932\u001B[0m \u001B[0;34m\u001B[0m\u001B[0m\n\u001B[1;32m    933\u001B[0m     \u001B[0;32mdef\u001B[0m \u001B[0m_is_scalar_access\u001B[0m\u001B[0;34m(\u001B[0m\u001B[0mself\u001B[0m\u001B[0;34m,\u001B[0m \u001B[0mkey\u001B[0m\u001B[0;34m:\u001B[0m \u001B[0mtuple\u001B[0m\u001B[0;34m)\u001B[0m\u001B[0;34m:\u001B[0m\u001B[0;34m\u001B[0m\u001B[0;34m\u001B[0m\u001B[0m\n",
      "\u001B[0;32m~/opt/anaconda3/envs/jupy/lib/python3.7/site-packages/pandas/core/indexing.py\u001B[0m in \u001B[0;36m_getitem_axis\u001B[0;34m(self, key, axis)\u001B[0m\n\u001B[1;32m   1162\u001B[0m         \u001B[0;31m# fall thru to straight lookup\u001B[0m\u001B[0;34m\u001B[0m\u001B[0;34m\u001B[0m\u001B[0;34m\u001B[0m\u001B[0m\n\u001B[1;32m   1163\u001B[0m         \u001B[0mself\u001B[0m\u001B[0;34m.\u001B[0m\u001B[0m_validate_key\u001B[0m\u001B[0;34m(\u001B[0m\u001B[0mkey\u001B[0m\u001B[0;34m,\u001B[0m \u001B[0maxis\u001B[0m\u001B[0;34m)\u001B[0m\u001B[0;34m\u001B[0m\u001B[0;34m\u001B[0m\u001B[0m\n\u001B[0;32m-> 1164\u001B[0;31m         \u001B[0;32mreturn\u001B[0m \u001B[0mself\u001B[0m\u001B[0;34m.\u001B[0m\u001B[0m_get_label\u001B[0m\u001B[0;34m(\u001B[0m\u001B[0mkey\u001B[0m\u001B[0;34m,\u001B[0m \u001B[0maxis\u001B[0m\u001B[0;34m=\u001B[0m\u001B[0maxis\u001B[0m\u001B[0;34m)\u001B[0m\u001B[0;34m\u001B[0m\u001B[0;34m\u001B[0m\u001B[0m\n\u001B[0m\u001B[1;32m   1165\u001B[0m \u001B[0;34m\u001B[0m\u001B[0m\n\u001B[1;32m   1166\u001B[0m     \u001B[0;32mdef\u001B[0m \u001B[0m_get_slice_axis\u001B[0m\u001B[0;34m(\u001B[0m\u001B[0mself\u001B[0m\u001B[0;34m,\u001B[0m \u001B[0mslice_obj\u001B[0m\u001B[0;34m:\u001B[0m \u001B[0mslice\u001B[0m\u001B[0;34m,\u001B[0m \u001B[0maxis\u001B[0m\u001B[0;34m:\u001B[0m \u001B[0mint\u001B[0m\u001B[0;34m)\u001B[0m\u001B[0;34m:\u001B[0m\u001B[0;34m\u001B[0m\u001B[0;34m\u001B[0m\u001B[0m\n",
      "\u001B[0;32m~/opt/anaconda3/envs/jupy/lib/python3.7/site-packages/pandas/core/indexing.py\u001B[0m in \u001B[0;36m_get_label\u001B[0;34m(self, label, axis)\u001B[0m\n\u001B[1;32m   1111\u001B[0m     \u001B[0;32mdef\u001B[0m \u001B[0m_get_label\u001B[0m\u001B[0;34m(\u001B[0m\u001B[0mself\u001B[0m\u001B[0;34m,\u001B[0m \u001B[0mlabel\u001B[0m\u001B[0;34m,\u001B[0m \u001B[0maxis\u001B[0m\u001B[0;34m:\u001B[0m \u001B[0mint\u001B[0m\u001B[0;34m)\u001B[0m\u001B[0;34m:\u001B[0m\u001B[0;34m\u001B[0m\u001B[0;34m\u001B[0m\u001B[0m\n\u001B[1;32m   1112\u001B[0m         \u001B[0;31m# GH#5667 this will fail if the label is not present in the axis.\u001B[0m\u001B[0;34m\u001B[0m\u001B[0;34m\u001B[0m\u001B[0;34m\u001B[0m\u001B[0m\n\u001B[0;32m-> 1113\u001B[0;31m         \u001B[0;32mreturn\u001B[0m \u001B[0mself\u001B[0m\u001B[0;34m.\u001B[0m\u001B[0mobj\u001B[0m\u001B[0;34m.\u001B[0m\u001B[0mxs\u001B[0m\u001B[0;34m(\u001B[0m\u001B[0mlabel\u001B[0m\u001B[0;34m,\u001B[0m \u001B[0maxis\u001B[0m\u001B[0;34m=\u001B[0m\u001B[0maxis\u001B[0m\u001B[0;34m)\u001B[0m\u001B[0;34m\u001B[0m\u001B[0;34m\u001B[0m\u001B[0m\n\u001B[0m\u001B[1;32m   1114\u001B[0m \u001B[0;34m\u001B[0m\u001B[0m\n\u001B[1;32m   1115\u001B[0m     \u001B[0;32mdef\u001B[0m \u001B[0m_handle_lowerdim_multi_index_axis0\u001B[0m\u001B[0;34m(\u001B[0m\u001B[0mself\u001B[0m\u001B[0;34m,\u001B[0m \u001B[0mtup\u001B[0m\u001B[0;34m:\u001B[0m \u001B[0mtuple\u001B[0m\u001B[0;34m)\u001B[0m\u001B[0;34m:\u001B[0m\u001B[0;34m\u001B[0m\u001B[0;34m\u001B[0m\u001B[0m\n",
      "\u001B[0;32m~/opt/anaconda3/envs/jupy/lib/python3.7/site-packages/pandas/core/generic.py\u001B[0m in \u001B[0;36mxs\u001B[0;34m(self, key, axis, level, drop_level)\u001B[0m\n\u001B[1;32m   3774\u001B[0m                 \u001B[0;32mraise\u001B[0m \u001B[0mTypeError\u001B[0m\u001B[0;34m(\u001B[0m\u001B[0;34mf\"Expected label or tuple of labels, got {key}\"\u001B[0m\u001B[0;34m)\u001B[0m \u001B[0;32mfrom\u001B[0m \u001B[0me\u001B[0m\u001B[0;34m\u001B[0m\u001B[0;34m\u001B[0m\u001B[0m\n\u001B[1;32m   3775\u001B[0m         \u001B[0;32melse\u001B[0m\u001B[0;34m:\u001B[0m\u001B[0;34m\u001B[0m\u001B[0;34m\u001B[0m\u001B[0m\n\u001B[0;32m-> 3776\u001B[0;31m             \u001B[0mloc\u001B[0m \u001B[0;34m=\u001B[0m \u001B[0mindex\u001B[0m\u001B[0;34m.\u001B[0m\u001B[0mget_loc\u001B[0m\u001B[0;34m(\u001B[0m\u001B[0mkey\u001B[0m\u001B[0;34m)\u001B[0m\u001B[0;34m\u001B[0m\u001B[0;34m\u001B[0m\u001B[0m\n\u001B[0m\u001B[1;32m   3777\u001B[0m \u001B[0;34m\u001B[0m\u001B[0m\n\u001B[1;32m   3778\u001B[0m             \u001B[0;32mif\u001B[0m \u001B[0misinstance\u001B[0m\u001B[0;34m(\u001B[0m\u001B[0mloc\u001B[0m\u001B[0;34m,\u001B[0m \u001B[0mnp\u001B[0m\u001B[0;34m.\u001B[0m\u001B[0mndarray\u001B[0m\u001B[0;34m)\u001B[0m\u001B[0;34m:\u001B[0m\u001B[0;34m\u001B[0m\u001B[0;34m\u001B[0m\u001B[0m\n",
      "\u001B[0;32m~/opt/anaconda3/envs/jupy/lib/python3.7/site-packages/pandas/core/indexes/base.py\u001B[0m in \u001B[0;36mget_loc\u001B[0;34m(self, key, method, tolerance)\u001B[0m\n\u001B[1;32m   3361\u001B[0m                 \u001B[0;32mreturn\u001B[0m \u001B[0mself\u001B[0m\u001B[0;34m.\u001B[0m\u001B[0m_engine\u001B[0m\u001B[0;34m.\u001B[0m\u001B[0mget_loc\u001B[0m\u001B[0;34m(\u001B[0m\u001B[0mcasted_key\u001B[0m\u001B[0;34m)\u001B[0m\u001B[0;34m\u001B[0m\u001B[0;34m\u001B[0m\u001B[0m\n\u001B[1;32m   3362\u001B[0m             \u001B[0;32mexcept\u001B[0m \u001B[0mKeyError\u001B[0m \u001B[0;32mas\u001B[0m \u001B[0merr\u001B[0m\u001B[0;34m:\u001B[0m\u001B[0;34m\u001B[0m\u001B[0;34m\u001B[0m\u001B[0m\n\u001B[0;32m-> 3363\u001B[0;31m                 \u001B[0;32mraise\u001B[0m \u001B[0mKeyError\u001B[0m\u001B[0;34m(\u001B[0m\u001B[0mkey\u001B[0m\u001B[0;34m)\u001B[0m \u001B[0;32mfrom\u001B[0m \u001B[0merr\u001B[0m\u001B[0;34m\u001B[0m\u001B[0;34m\u001B[0m\u001B[0m\n\u001B[0m\u001B[1;32m   3364\u001B[0m \u001B[0;34m\u001B[0m\u001B[0m\n\u001B[1;32m   3365\u001B[0m         \u001B[0;32mif\u001B[0m \u001B[0mis_scalar\u001B[0m\u001B[0;34m(\u001B[0m\u001B[0mkey\u001B[0m\u001B[0;34m)\u001B[0m \u001B[0;32mand\u001B[0m \u001B[0misna\u001B[0m\u001B[0;34m(\u001B[0m\u001B[0mkey\u001B[0m\u001B[0;34m)\u001B[0m \u001B[0;32mand\u001B[0m \u001B[0;32mnot\u001B[0m \u001B[0mself\u001B[0m\u001B[0;34m.\u001B[0m\u001B[0mhasnans\u001B[0m\u001B[0;34m:\u001B[0m\u001B[0;34m\u001B[0m\u001B[0;34m\u001B[0m\u001B[0m\n",
      "\u001B[0;31mKeyError\u001B[0m: 'Midterm'"
     ]
    }
   ],
   "source": [
    "# 10번\n",
    "filt = df.loc['Midterm'] >= 25\n",
    "filt2 = df.loc[filt, 'Finalterm'] >= 25\n",
    "df.loc[filt2]"
   ],
   "metadata": {
    "collapsed": false,
    "pycharm": {
     "name": "#%%\n"
    }
   }
  },
  {
   "cell_type": "code",
   "execution_count": 16,
   "outputs": [
    {
     "data": {
      "text/plain": "StdNum\n1968144    91\n1993289    82\n1879982    92\n1726380    75\n1897281    97\n1934243    93\n1974440    94\n1820158    81\nName: Total, dtype: int64"
     },
     "execution_count": 16,
     "metadata": {},
     "output_type": "execute_result"
    }
   ],
   "source": [
    "# 11\n",
    "filt = df['Finalterm'] >= 25\n",
    "df.loc[filt, 'Total']"
   ],
   "metadata": {
    "collapsed": false,
    "pycharm": {
     "name": "#%%\n"
    }
   }
  },
  {
   "cell_type": "code",
   "execution_count": 17,
   "outputs": [
    {
     "data": {
      "text/plain": "        SubjectName  AttdPoint  Homework  Midterm  Finalterm  Total\nStdNum                                                             \n1934243         OOP         20        17       26         30     93\n1968144         OOP         20        17       25         29     91",
      "text/html": "<div>\n<style scoped>\n    .dataframe tbody tr th:only-of-type {\n        vertical-align: middle;\n    }\n\n    .dataframe tbody tr th {\n        vertical-align: top;\n    }\n\n    .dataframe thead th {\n        text-align: right;\n    }\n</style>\n<table border=\"1\" class=\"dataframe\">\n  <thead>\n    <tr style=\"text-align: right;\">\n      <th></th>\n      <th>SubjectName</th>\n      <th>AttdPoint</th>\n      <th>Homework</th>\n      <th>Midterm</th>\n      <th>Finalterm</th>\n      <th>Total</th>\n    </tr>\n    <tr>\n      <th>StdNum</th>\n      <th></th>\n      <th></th>\n      <th></th>\n      <th></th>\n      <th></th>\n      <th></th>\n    </tr>\n  </thead>\n  <tbody>\n    <tr>\n      <th>1934243</th>\n      <td>OOP</td>\n      <td>20</td>\n      <td>17</td>\n      <td>26</td>\n      <td>30</td>\n      <td>93</td>\n    </tr>\n    <tr>\n      <th>1968144</th>\n      <td>OOP</td>\n      <td>20</td>\n      <td>17</td>\n      <td>25</td>\n      <td>29</td>\n      <td>91</td>\n    </tr>\n  </tbody>\n</table>\n</div>"
     },
     "execution_count": 17,
     "metadata": {},
     "output_type": "execute_result"
    }
   ],
   "source": [
    "# 12\n",
    "df.loc[[1934243, 1968144]]"
   ],
   "metadata": {
    "collapsed": false,
    "pycharm": {
     "name": "#%%\n"
    }
   }
  },
  {
   "cell_type": "code",
   "execution_count": 18,
   "outputs": [
    {
     "data": {
      "text/plain": "        SubjectName  AttdPoint  Homework  Midterm  Finalterm  Total\nStdNum                                                             \n1724481         OOP          0         0        0          0      0\n1989046         OOP          0         0        0          0      0\n1721470         OOP          0         0        0          0      0\n1816207         OOP          0         0        0          0      0\n1717040         OOP          0         0        0          0      0\n1914788         OOP          0         0        0          0      0\n1908921         OOP          0         0        0          0      0",
      "text/html": "<div>\n<style scoped>\n    .dataframe tbody tr th:only-of-type {\n        vertical-align: middle;\n    }\n\n    .dataframe tbody tr th {\n        vertical-align: top;\n    }\n\n    .dataframe thead th {\n        text-align: right;\n    }\n</style>\n<table border=\"1\" class=\"dataframe\">\n  <thead>\n    <tr style=\"text-align: right;\">\n      <th></th>\n      <th>SubjectName</th>\n      <th>AttdPoint</th>\n      <th>Homework</th>\n      <th>Midterm</th>\n      <th>Finalterm</th>\n      <th>Total</th>\n    </tr>\n    <tr>\n      <th>StdNum</th>\n      <th></th>\n      <th></th>\n      <th></th>\n      <th></th>\n      <th></th>\n      <th></th>\n    </tr>\n  </thead>\n  <tbody>\n    <tr>\n      <th>1724481</th>\n      <td>OOP</td>\n      <td>0</td>\n      <td>0</td>\n      <td>0</td>\n      <td>0</td>\n      <td>0</td>\n    </tr>\n    <tr>\n      <th>1989046</th>\n      <td>OOP</td>\n      <td>0</td>\n      <td>0</td>\n      <td>0</td>\n      <td>0</td>\n      <td>0</td>\n    </tr>\n    <tr>\n      <th>1721470</th>\n      <td>OOP</td>\n      <td>0</td>\n      <td>0</td>\n      <td>0</td>\n      <td>0</td>\n      <td>0</td>\n    </tr>\n    <tr>\n      <th>1816207</th>\n      <td>OOP</td>\n      <td>0</td>\n      <td>0</td>\n      <td>0</td>\n      <td>0</td>\n      <td>0</td>\n    </tr>\n    <tr>\n      <th>1717040</th>\n      <td>OOP</td>\n      <td>0</td>\n      <td>0</td>\n      <td>0</td>\n      <td>0</td>\n      <td>0</td>\n    </tr>\n    <tr>\n      <th>1914788</th>\n      <td>OOP</td>\n      <td>0</td>\n      <td>0</td>\n      <td>0</td>\n      <td>0</td>\n      <td>0</td>\n    </tr>\n    <tr>\n      <th>1908921</th>\n      <td>OOP</td>\n      <td>0</td>\n      <td>0</td>\n      <td>0</td>\n      <td>0</td>\n      <td>0</td>\n    </tr>\n  </tbody>\n</table>\n</div>"
     },
     "execution_count": 18,
     "metadata": {},
     "output_type": "execute_result"
    }
   ],
   "source": [
    "# 13\n",
    "filt = df['Total'] == 0\n",
    "df[filt]"
   ],
   "metadata": {
    "collapsed": false,
    "pycharm": {
     "name": "#%%\n"
    }
   }
  },
  {
   "cell_type": "code",
   "execution_count": 23,
   "outputs": [
    {
     "data": {
      "text/plain": "        SubjectName  AttdPoint  Homework  Midterm  Finalterm  Total\nStdNum                                                             \n1724481         OOP          0         0        0          0      0\n1989046         OOP          0         0        0          0      0\n1721470         OOP          0         0        0          0      0\n1816207         OOP          0         0        0          0      0\n1717040         OOP          0         0        0          0      0\n1914788         OOP          0         0        0          0      0\n1908921         OOP          0         0        0          0      0",
      "text/html": "<div>\n<style scoped>\n    .dataframe tbody tr th:only-of-type {\n        vertical-align: middle;\n    }\n\n    .dataframe tbody tr th {\n        vertical-align: top;\n    }\n\n    .dataframe thead th {\n        text-align: right;\n    }\n</style>\n<table border=\"1\" class=\"dataframe\">\n  <thead>\n    <tr style=\"text-align: right;\">\n      <th></th>\n      <th>SubjectName</th>\n      <th>AttdPoint</th>\n      <th>Homework</th>\n      <th>Midterm</th>\n      <th>Finalterm</th>\n      <th>Total</th>\n    </tr>\n    <tr>\n      <th>StdNum</th>\n      <th></th>\n      <th></th>\n      <th></th>\n      <th></th>\n      <th></th>\n      <th></th>\n    </tr>\n  </thead>\n  <tbody>\n    <tr>\n      <th>1724481</th>\n      <td>OOP</td>\n      <td>0</td>\n      <td>0</td>\n      <td>0</td>\n      <td>0</td>\n      <td>0</td>\n    </tr>\n    <tr>\n      <th>1989046</th>\n      <td>OOP</td>\n      <td>0</td>\n      <td>0</td>\n      <td>0</td>\n      <td>0</td>\n      <td>0</td>\n    </tr>\n    <tr>\n      <th>1721470</th>\n      <td>OOP</td>\n      <td>0</td>\n      <td>0</td>\n      <td>0</td>\n      <td>0</td>\n      <td>0</td>\n    </tr>\n    <tr>\n      <th>1816207</th>\n      <td>OOP</td>\n      <td>0</td>\n      <td>0</td>\n      <td>0</td>\n      <td>0</td>\n      <td>0</td>\n    </tr>\n    <tr>\n      <th>1717040</th>\n      <td>OOP</td>\n      <td>0</td>\n      <td>0</td>\n      <td>0</td>\n      <td>0</td>\n      <td>0</td>\n    </tr>\n    <tr>\n      <th>1914788</th>\n      <td>OOP</td>\n      <td>0</td>\n      <td>0</td>\n      <td>0</td>\n      <td>0</td>\n      <td>0</td>\n    </tr>\n    <tr>\n      <th>1908921</th>\n      <td>OOP</td>\n      <td>0</td>\n      <td>0</td>\n      <td>0</td>\n      <td>0</td>\n      <td>0</td>\n    </tr>\n  </tbody>\n</table>\n</div>"
     },
     "execution_count": 23,
     "metadata": {},
     "output_type": "execute_result"
    }
   ],
   "source": [
    "# 14\n",
    "import numpy as np\n",
    "filt = df['Total'] == 0\n",
    "df.loc[filt,['AttdPoint', 'Homework', 'Midterm', 'Finalterm','Total']] = [np.NaN,np.NaN,np.NaN,np.NaN,np.NaN]"
   ],
   "metadata": {
    "collapsed": false,
    "pycharm": {
     "name": "#%%\n"
    }
   }
  },
  {
   "cell_type": "code",
   "execution_count": 24,
   "outputs": [
    {
     "data": {
      "text/plain": "Empty DataFrame\nColumns: [SubjectName, AttdPoint, Homework, Midterm, Finalterm, Total]\nIndex: []",
      "text/html": "<div>\n<style scoped>\n    .dataframe tbody tr th:only-of-type {\n        vertical-align: middle;\n    }\n\n    .dataframe tbody tr th {\n        vertical-align: top;\n    }\n\n    .dataframe thead th {\n        text-align: right;\n    }\n</style>\n<table border=\"1\" class=\"dataframe\">\n  <thead>\n    <tr style=\"text-align: right;\">\n      <th></th>\n      <th>SubjectName</th>\n      <th>AttdPoint</th>\n      <th>Homework</th>\n      <th>Midterm</th>\n      <th>Finalterm</th>\n      <th>Total</th>\n    </tr>\n    <tr>\n      <th>StdNum</th>\n      <th></th>\n      <th></th>\n      <th></th>\n      <th></th>\n      <th></th>\n      <th></th>\n    </tr>\n  </thead>\n  <tbody>\n  </tbody>\n</table>\n</div>"
     },
     "execution_count": 24,
     "metadata": {},
     "output_type": "execute_result"
    }
   ],
   "source": [
    "# 15\n",
    "filt = df['Total'] == np.NaN\n",
    "df[filt]"
   ],
   "metadata": {
    "collapsed": false,
    "pycharm": {
     "name": "#%%\n"
    }
   }
  },
  {
   "cell_type": "code",
   "execution_count": 27,
   "outputs": [
    {
     "data": {
      "text/plain": "        SubjectName  AttdPoint  Homework  Midterm  Finalterm  Total\nStdNum                                                             \n1710335         OOP         20        13        2          4     39\n1717040         OOP          0         0        0          0      0\n1721470         OOP          0         0        0          0      0\n1724481         OOP          0         0        0          0      0\n1726380         OOP         20         9       20         26     75\n1741933         OOP         20        10        6          1     37\n1760212         OOP         20        15        7          3     45\n1769727         OOP         20        14        9          3     46\n1775658         OOP         20        12        2          2     36\n1786659         OOP         20        17       13          4     54\n1788542         OOP         20        18       19          6     63\n1804630         OOP         20        12       10          5     47\n1806474         OOP         20         9        7          4     40\n1809349         OOP         20        19       25         11     75\n1811646         OOP         20        14       22         22     78\n1816207         OOP          0         0        0          0      0\n1818588         OOP         20        16        5          3     44\n1820158         OOP         20        13       19         29     81\n1831484         OOP         20        10       11          5     46\n1835080         OOP         20        12       12          4     48\n1836508         OOP         20        11       17         13     61\n1852486         OOP         20        13        3          1     37\n1857008         OOP         19         9       12          8     48\n1864612         OOP         20        14       13          2     49\n1873632         OOP         15        12        8          4     39\n1875290         OOP         20        15       12          8     55\n1879982         OOP         20        17       26         29     92\n1886038         OOP         20        16       18         23     77\n1891044         OOP         20        16       21         12     69\n1897281         OOP         20        17       30         30     97\n1908921         OOP          0         0        0          0      0\n1911496         OOP         20        10        8          2     40\n1914788         OOP          0         0        0          0      0\n1920569         OOP         20        14       10         15     59\n1934243         OOP         20        17       26         30     93\n1943825         OOP         20        20       27         10     77\n1950136         OOP         17         2        1          0     20\n1954022         OOP         20        15       19         14     68\n1968144         OOP         20        17       25         29     91\n1974440         OOP         20        17       29         28     94\n1974935         OOP         20        15       15         11     61\n1989046         OOP          0         0        0          0      0\n1993289         OOP         20        18       16         28     82\n1993809         OOP         16         2       17          4     39",
      "text/html": "<div>\n<style scoped>\n    .dataframe tbody tr th:only-of-type {\n        vertical-align: middle;\n    }\n\n    .dataframe tbody tr th {\n        vertical-align: top;\n    }\n\n    .dataframe thead th {\n        text-align: right;\n    }\n</style>\n<table border=\"1\" class=\"dataframe\">\n  <thead>\n    <tr style=\"text-align: right;\">\n      <th></th>\n      <th>SubjectName</th>\n      <th>AttdPoint</th>\n      <th>Homework</th>\n      <th>Midterm</th>\n      <th>Finalterm</th>\n      <th>Total</th>\n    </tr>\n    <tr>\n      <th>StdNum</th>\n      <th></th>\n      <th></th>\n      <th></th>\n      <th></th>\n      <th></th>\n      <th></th>\n    </tr>\n  </thead>\n  <tbody>\n    <tr>\n      <th>1710335</th>\n      <td>OOP</td>\n      <td>20</td>\n      <td>13</td>\n      <td>2</td>\n      <td>4</td>\n      <td>39</td>\n    </tr>\n    <tr>\n      <th>1717040</th>\n      <td>OOP</td>\n      <td>0</td>\n      <td>0</td>\n      <td>0</td>\n      <td>0</td>\n      <td>0</td>\n    </tr>\n    <tr>\n      <th>1721470</th>\n      <td>OOP</td>\n      <td>0</td>\n      <td>0</td>\n      <td>0</td>\n      <td>0</td>\n      <td>0</td>\n    </tr>\n    <tr>\n      <th>1724481</th>\n      <td>OOP</td>\n      <td>0</td>\n      <td>0</td>\n      <td>0</td>\n      <td>0</td>\n      <td>0</td>\n    </tr>\n    <tr>\n      <th>1726380</th>\n      <td>OOP</td>\n      <td>20</td>\n      <td>9</td>\n      <td>20</td>\n      <td>26</td>\n      <td>75</td>\n    </tr>\n    <tr>\n      <th>1741933</th>\n      <td>OOP</td>\n      <td>20</td>\n      <td>10</td>\n      <td>6</td>\n      <td>1</td>\n      <td>37</td>\n    </tr>\n    <tr>\n      <th>1760212</th>\n      <td>OOP</td>\n      <td>20</td>\n      <td>15</td>\n      <td>7</td>\n      <td>3</td>\n      <td>45</td>\n    </tr>\n    <tr>\n      <th>1769727</th>\n      <td>OOP</td>\n      <td>20</td>\n      <td>14</td>\n      <td>9</td>\n      <td>3</td>\n      <td>46</td>\n    </tr>\n    <tr>\n      <th>1775658</th>\n      <td>OOP</td>\n      <td>20</td>\n      <td>12</td>\n      <td>2</td>\n      <td>2</td>\n      <td>36</td>\n    </tr>\n    <tr>\n      <th>1786659</th>\n      <td>OOP</td>\n      <td>20</td>\n      <td>17</td>\n      <td>13</td>\n      <td>4</td>\n      <td>54</td>\n    </tr>\n    <tr>\n      <th>1788542</th>\n      <td>OOP</td>\n      <td>20</td>\n      <td>18</td>\n      <td>19</td>\n      <td>6</td>\n      <td>63</td>\n    </tr>\n    <tr>\n      <th>1804630</th>\n      <td>OOP</td>\n      <td>20</td>\n      <td>12</td>\n      <td>10</td>\n      <td>5</td>\n      <td>47</td>\n    </tr>\n    <tr>\n      <th>1806474</th>\n      <td>OOP</td>\n      <td>20</td>\n      <td>9</td>\n      <td>7</td>\n      <td>4</td>\n      <td>40</td>\n    </tr>\n    <tr>\n      <th>1809349</th>\n      <td>OOP</td>\n      <td>20</td>\n      <td>19</td>\n      <td>25</td>\n      <td>11</td>\n      <td>75</td>\n    </tr>\n    <tr>\n      <th>1811646</th>\n      <td>OOP</td>\n      <td>20</td>\n      <td>14</td>\n      <td>22</td>\n      <td>22</td>\n      <td>78</td>\n    </tr>\n    <tr>\n      <th>1816207</th>\n      <td>OOP</td>\n      <td>0</td>\n      <td>0</td>\n      <td>0</td>\n      <td>0</td>\n      <td>0</td>\n    </tr>\n    <tr>\n      <th>1818588</th>\n      <td>OOP</td>\n      <td>20</td>\n      <td>16</td>\n      <td>5</td>\n      <td>3</td>\n      <td>44</td>\n    </tr>\n    <tr>\n      <th>1820158</th>\n      <td>OOP</td>\n      <td>20</td>\n      <td>13</td>\n      <td>19</td>\n      <td>29</td>\n      <td>81</td>\n    </tr>\n    <tr>\n      <th>1831484</th>\n      <td>OOP</td>\n      <td>20</td>\n      <td>10</td>\n      <td>11</td>\n      <td>5</td>\n      <td>46</td>\n    </tr>\n    <tr>\n      <th>1835080</th>\n      <td>OOP</td>\n      <td>20</td>\n      <td>12</td>\n      <td>12</td>\n      <td>4</td>\n      <td>48</td>\n    </tr>\n    <tr>\n      <th>1836508</th>\n      <td>OOP</td>\n      <td>20</td>\n      <td>11</td>\n      <td>17</td>\n      <td>13</td>\n      <td>61</td>\n    </tr>\n    <tr>\n      <th>1852486</th>\n      <td>OOP</td>\n      <td>20</td>\n      <td>13</td>\n      <td>3</td>\n      <td>1</td>\n      <td>37</td>\n    </tr>\n    <tr>\n      <th>1857008</th>\n      <td>OOP</td>\n      <td>19</td>\n      <td>9</td>\n      <td>12</td>\n      <td>8</td>\n      <td>48</td>\n    </tr>\n    <tr>\n      <th>1864612</th>\n      <td>OOP</td>\n      <td>20</td>\n      <td>14</td>\n      <td>13</td>\n      <td>2</td>\n      <td>49</td>\n    </tr>\n    <tr>\n      <th>1873632</th>\n      <td>OOP</td>\n      <td>15</td>\n      <td>12</td>\n      <td>8</td>\n      <td>4</td>\n      <td>39</td>\n    </tr>\n    <tr>\n      <th>1875290</th>\n      <td>OOP</td>\n      <td>20</td>\n      <td>15</td>\n      <td>12</td>\n      <td>8</td>\n      <td>55</td>\n    </tr>\n    <tr>\n      <th>1879982</th>\n      <td>OOP</td>\n      <td>20</td>\n      <td>17</td>\n      <td>26</td>\n      <td>29</td>\n      <td>92</td>\n    </tr>\n    <tr>\n      <th>1886038</th>\n      <td>OOP</td>\n      <td>20</td>\n      <td>16</td>\n      <td>18</td>\n      <td>23</td>\n      <td>77</td>\n    </tr>\n    <tr>\n      <th>1891044</th>\n      <td>OOP</td>\n      <td>20</td>\n      <td>16</td>\n      <td>21</td>\n      <td>12</td>\n      <td>69</td>\n    </tr>\n    <tr>\n      <th>1897281</th>\n      <td>OOP</td>\n      <td>20</td>\n      <td>17</td>\n      <td>30</td>\n      <td>30</td>\n      <td>97</td>\n    </tr>\n    <tr>\n      <th>1908921</th>\n      <td>OOP</td>\n      <td>0</td>\n      <td>0</td>\n      <td>0</td>\n      <td>0</td>\n      <td>0</td>\n    </tr>\n    <tr>\n      <th>1911496</th>\n      <td>OOP</td>\n      <td>20</td>\n      <td>10</td>\n      <td>8</td>\n      <td>2</td>\n      <td>40</td>\n    </tr>\n    <tr>\n      <th>1914788</th>\n      <td>OOP</td>\n      <td>0</td>\n      <td>0</td>\n      <td>0</td>\n      <td>0</td>\n      <td>0</td>\n    </tr>\n    <tr>\n      <th>1920569</th>\n      <td>OOP</td>\n      <td>20</td>\n      <td>14</td>\n      <td>10</td>\n      <td>15</td>\n      <td>59</td>\n    </tr>\n    <tr>\n      <th>1934243</th>\n      <td>OOP</td>\n      <td>20</td>\n      <td>17</td>\n      <td>26</td>\n      <td>30</td>\n      <td>93</td>\n    </tr>\n    <tr>\n      <th>1943825</th>\n      <td>OOP</td>\n      <td>20</td>\n      <td>20</td>\n      <td>27</td>\n      <td>10</td>\n      <td>77</td>\n    </tr>\n    <tr>\n      <th>1950136</th>\n      <td>OOP</td>\n      <td>17</td>\n      <td>2</td>\n      <td>1</td>\n      <td>0</td>\n      <td>20</td>\n    </tr>\n    <tr>\n      <th>1954022</th>\n      <td>OOP</td>\n      <td>20</td>\n      <td>15</td>\n      <td>19</td>\n      <td>14</td>\n      <td>68</td>\n    </tr>\n    <tr>\n      <th>1968144</th>\n      <td>OOP</td>\n      <td>20</td>\n      <td>17</td>\n      <td>25</td>\n      <td>29</td>\n      <td>91</td>\n    </tr>\n    <tr>\n      <th>1974440</th>\n      <td>OOP</td>\n      <td>20</td>\n      <td>17</td>\n      <td>29</td>\n      <td>28</td>\n      <td>94</td>\n    </tr>\n    <tr>\n      <th>1974935</th>\n      <td>OOP</td>\n      <td>20</td>\n      <td>15</td>\n      <td>15</td>\n      <td>11</td>\n      <td>61</td>\n    </tr>\n    <tr>\n      <th>1989046</th>\n      <td>OOP</td>\n      <td>0</td>\n      <td>0</td>\n      <td>0</td>\n      <td>0</td>\n      <td>0</td>\n    </tr>\n    <tr>\n      <th>1993289</th>\n      <td>OOP</td>\n      <td>20</td>\n      <td>18</td>\n      <td>16</td>\n      <td>28</td>\n      <td>82</td>\n    </tr>\n    <tr>\n      <th>1993809</th>\n      <td>OOP</td>\n      <td>16</td>\n      <td>2</td>\n      <td>17</td>\n      <td>4</td>\n      <td>39</td>\n    </tr>\n  </tbody>\n</table>\n</div>"
     },
     "execution_count": 27,
     "metadata": {},
     "output_type": "execute_result"
    }
   ],
   "source": [
    "# 16\n",
    "df.sort_values(by = 'StdNum', inplace=True)\n",
    "df"
   ],
   "metadata": {
    "collapsed": false,
    "pycharm": {
     "name": "#%%\n"
    }
   }
  },
  {
   "cell_type": "code",
   "execution_count": 33,
   "outputs": [],
   "source": [
    "# 17 18"
   ],
   "metadata": {
    "collapsed": false,
    "pycharm": {
     "name": "#%%\n"
    }
   }
  },
  {
   "cell_type": "code",
   "execution_count": 48,
   "outputs": [
    {
     "data": {
      "text/plain": "         과목명  출결점수  과제  중간고사  기말고사  총점\nStdNum                                \n1809349  OOP    20  19    25    11  75\n1968144  OOP    20  17    25    29  91\n1993289  OOP    20  18    16    28  82\n1891044  OOP    20  16    21    12  69\n1879982  OOP    20  17    26    29  92\n1726380  OOP    20   9    20    26  75\n1724481  OOP     0   0     0     0   0\n1804630  OOP    20  12    10     5  47\n1989046  OOP     0   0     0     0   0\n1974935  OOP    20  15    15    11  61\n1857008  OOP    19   9    12     8  48\n1993809  OOP    16   2    17     4  39\n1897281  OOP    20  17    30    30  97\n1875290  OOP    20  15    12     8  55\n1954022  OOP    20  15    19    14  68\n1934243  OOP    20  17    26    30  93\n1811646  OOP    20  14    22    22  78\n1721470  OOP     0   0     0     0   0\n1769727  OOP    20  14     9     3  46\n1950136  OOP    17   2     1     0  20\n1974440  OOP    20  17    29    28  94\n1816207  OOP     0   0     0     0   0\n1820158  OOP    20  13    19    29  81\n1806474  OOP    20   9     7     4  40\n1836508  OOP    20  11    17    13  61\n1717040  OOP     0   0     0     0   0\n1818588  OOP    20  16     5     3  44\n1943825  OOP    20  20    27    10  77\n1914788  OOP     0   0     0     0   0\n1864612  OOP    20  14    13     2  49\n1831484  OOP    20  10    11     5  46\n1741933  OOP    20  10     6     1  37\n1710335  OOP    20  13     2     4  39\n1911496  OOP    20  10     8     2  40\n1788542  OOP    20  18    19     6  63\n1873632  OOP    15  12     8     4  39\n1920569  OOP    20  14    10    15  59\n1760212  OOP    20  15     7     3  45\n1835080  OOP    20  12    12     4  48\n1786659  OOP    20  17    13     4  54\n1775658  OOP    20  12     2     2  36\n1886038  OOP    20  16    18    23  77\n1852486  OOP    20  13     3     1  37\n1908921  OOP     0   0     0     0   0",
      "text/html": "<div>\n<style scoped>\n    .dataframe tbody tr th:only-of-type {\n        vertical-align: middle;\n    }\n\n    .dataframe tbody tr th {\n        vertical-align: top;\n    }\n\n    .dataframe thead th {\n        text-align: right;\n    }\n</style>\n<table border=\"1\" class=\"dataframe\">\n  <thead>\n    <tr style=\"text-align: right;\">\n      <th></th>\n      <th>과목명</th>\n      <th>출결점수</th>\n      <th>과제</th>\n      <th>중간고사</th>\n      <th>기말고사</th>\n      <th>총점</th>\n    </tr>\n    <tr>\n      <th>StdNum</th>\n      <th></th>\n      <th></th>\n      <th></th>\n      <th></th>\n      <th></th>\n      <th></th>\n    </tr>\n  </thead>\n  <tbody>\n    <tr>\n      <th>1809349</th>\n      <td>OOP</td>\n      <td>20</td>\n      <td>19</td>\n      <td>25</td>\n      <td>11</td>\n      <td>75</td>\n    </tr>\n    <tr>\n      <th>1968144</th>\n      <td>OOP</td>\n      <td>20</td>\n      <td>17</td>\n      <td>25</td>\n      <td>29</td>\n      <td>91</td>\n    </tr>\n    <tr>\n      <th>1993289</th>\n      <td>OOP</td>\n      <td>20</td>\n      <td>18</td>\n      <td>16</td>\n      <td>28</td>\n      <td>82</td>\n    </tr>\n    <tr>\n      <th>1891044</th>\n      <td>OOP</td>\n      <td>20</td>\n      <td>16</td>\n      <td>21</td>\n      <td>12</td>\n      <td>69</td>\n    </tr>\n    <tr>\n      <th>1879982</th>\n      <td>OOP</td>\n      <td>20</td>\n      <td>17</td>\n      <td>26</td>\n      <td>29</td>\n      <td>92</td>\n    </tr>\n    <tr>\n      <th>1726380</th>\n      <td>OOP</td>\n      <td>20</td>\n      <td>9</td>\n      <td>20</td>\n      <td>26</td>\n      <td>75</td>\n    </tr>\n    <tr>\n      <th>1724481</th>\n      <td>OOP</td>\n      <td>0</td>\n      <td>0</td>\n      <td>0</td>\n      <td>0</td>\n      <td>0</td>\n    </tr>\n    <tr>\n      <th>1804630</th>\n      <td>OOP</td>\n      <td>20</td>\n      <td>12</td>\n      <td>10</td>\n      <td>5</td>\n      <td>47</td>\n    </tr>\n    <tr>\n      <th>1989046</th>\n      <td>OOP</td>\n      <td>0</td>\n      <td>0</td>\n      <td>0</td>\n      <td>0</td>\n      <td>0</td>\n    </tr>\n    <tr>\n      <th>1974935</th>\n      <td>OOP</td>\n      <td>20</td>\n      <td>15</td>\n      <td>15</td>\n      <td>11</td>\n      <td>61</td>\n    </tr>\n    <tr>\n      <th>1857008</th>\n      <td>OOP</td>\n      <td>19</td>\n      <td>9</td>\n      <td>12</td>\n      <td>8</td>\n      <td>48</td>\n    </tr>\n    <tr>\n      <th>1993809</th>\n      <td>OOP</td>\n      <td>16</td>\n      <td>2</td>\n      <td>17</td>\n      <td>4</td>\n      <td>39</td>\n    </tr>\n    <tr>\n      <th>1897281</th>\n      <td>OOP</td>\n      <td>20</td>\n      <td>17</td>\n      <td>30</td>\n      <td>30</td>\n      <td>97</td>\n    </tr>\n    <tr>\n      <th>1875290</th>\n      <td>OOP</td>\n      <td>20</td>\n      <td>15</td>\n      <td>12</td>\n      <td>8</td>\n      <td>55</td>\n    </tr>\n    <tr>\n      <th>1954022</th>\n      <td>OOP</td>\n      <td>20</td>\n      <td>15</td>\n      <td>19</td>\n      <td>14</td>\n      <td>68</td>\n    </tr>\n    <tr>\n      <th>1934243</th>\n      <td>OOP</td>\n      <td>20</td>\n      <td>17</td>\n      <td>26</td>\n      <td>30</td>\n      <td>93</td>\n    </tr>\n    <tr>\n      <th>1811646</th>\n      <td>OOP</td>\n      <td>20</td>\n      <td>14</td>\n      <td>22</td>\n      <td>22</td>\n      <td>78</td>\n    </tr>\n    <tr>\n      <th>1721470</th>\n      <td>OOP</td>\n      <td>0</td>\n      <td>0</td>\n      <td>0</td>\n      <td>0</td>\n      <td>0</td>\n    </tr>\n    <tr>\n      <th>1769727</th>\n      <td>OOP</td>\n      <td>20</td>\n      <td>14</td>\n      <td>9</td>\n      <td>3</td>\n      <td>46</td>\n    </tr>\n    <tr>\n      <th>1950136</th>\n      <td>OOP</td>\n      <td>17</td>\n      <td>2</td>\n      <td>1</td>\n      <td>0</td>\n      <td>20</td>\n    </tr>\n    <tr>\n      <th>1974440</th>\n      <td>OOP</td>\n      <td>20</td>\n      <td>17</td>\n      <td>29</td>\n      <td>28</td>\n      <td>94</td>\n    </tr>\n    <tr>\n      <th>1816207</th>\n      <td>OOP</td>\n      <td>0</td>\n      <td>0</td>\n      <td>0</td>\n      <td>0</td>\n      <td>0</td>\n    </tr>\n    <tr>\n      <th>1820158</th>\n      <td>OOP</td>\n      <td>20</td>\n      <td>13</td>\n      <td>19</td>\n      <td>29</td>\n      <td>81</td>\n    </tr>\n    <tr>\n      <th>1806474</th>\n      <td>OOP</td>\n      <td>20</td>\n      <td>9</td>\n      <td>7</td>\n      <td>4</td>\n      <td>40</td>\n    </tr>\n    <tr>\n      <th>1836508</th>\n      <td>OOP</td>\n      <td>20</td>\n      <td>11</td>\n      <td>17</td>\n      <td>13</td>\n      <td>61</td>\n    </tr>\n    <tr>\n      <th>1717040</th>\n      <td>OOP</td>\n      <td>0</td>\n      <td>0</td>\n      <td>0</td>\n      <td>0</td>\n      <td>0</td>\n    </tr>\n    <tr>\n      <th>1818588</th>\n      <td>OOP</td>\n      <td>20</td>\n      <td>16</td>\n      <td>5</td>\n      <td>3</td>\n      <td>44</td>\n    </tr>\n    <tr>\n      <th>1943825</th>\n      <td>OOP</td>\n      <td>20</td>\n      <td>20</td>\n      <td>27</td>\n      <td>10</td>\n      <td>77</td>\n    </tr>\n    <tr>\n      <th>1914788</th>\n      <td>OOP</td>\n      <td>0</td>\n      <td>0</td>\n      <td>0</td>\n      <td>0</td>\n      <td>0</td>\n    </tr>\n    <tr>\n      <th>1864612</th>\n      <td>OOP</td>\n      <td>20</td>\n      <td>14</td>\n      <td>13</td>\n      <td>2</td>\n      <td>49</td>\n    </tr>\n    <tr>\n      <th>1831484</th>\n      <td>OOP</td>\n      <td>20</td>\n      <td>10</td>\n      <td>11</td>\n      <td>5</td>\n      <td>46</td>\n    </tr>\n    <tr>\n      <th>1741933</th>\n      <td>OOP</td>\n      <td>20</td>\n      <td>10</td>\n      <td>6</td>\n      <td>1</td>\n      <td>37</td>\n    </tr>\n    <tr>\n      <th>1710335</th>\n      <td>OOP</td>\n      <td>20</td>\n      <td>13</td>\n      <td>2</td>\n      <td>4</td>\n      <td>39</td>\n    </tr>\n    <tr>\n      <th>1911496</th>\n      <td>OOP</td>\n      <td>20</td>\n      <td>10</td>\n      <td>8</td>\n      <td>2</td>\n      <td>40</td>\n    </tr>\n    <tr>\n      <th>1788542</th>\n      <td>OOP</td>\n      <td>20</td>\n      <td>18</td>\n      <td>19</td>\n      <td>6</td>\n      <td>63</td>\n    </tr>\n    <tr>\n      <th>1873632</th>\n      <td>OOP</td>\n      <td>15</td>\n      <td>12</td>\n      <td>8</td>\n      <td>4</td>\n      <td>39</td>\n    </tr>\n    <tr>\n      <th>1920569</th>\n      <td>OOP</td>\n      <td>20</td>\n      <td>14</td>\n      <td>10</td>\n      <td>15</td>\n      <td>59</td>\n    </tr>\n    <tr>\n      <th>1760212</th>\n      <td>OOP</td>\n      <td>20</td>\n      <td>15</td>\n      <td>7</td>\n      <td>3</td>\n      <td>45</td>\n    </tr>\n    <tr>\n      <th>1835080</th>\n      <td>OOP</td>\n      <td>20</td>\n      <td>12</td>\n      <td>12</td>\n      <td>4</td>\n      <td>48</td>\n    </tr>\n    <tr>\n      <th>1786659</th>\n      <td>OOP</td>\n      <td>20</td>\n      <td>17</td>\n      <td>13</td>\n      <td>4</td>\n      <td>54</td>\n    </tr>\n    <tr>\n      <th>1775658</th>\n      <td>OOP</td>\n      <td>20</td>\n      <td>12</td>\n      <td>2</td>\n      <td>2</td>\n      <td>36</td>\n    </tr>\n    <tr>\n      <th>1886038</th>\n      <td>OOP</td>\n      <td>20</td>\n      <td>16</td>\n      <td>18</td>\n      <td>23</td>\n      <td>77</td>\n    </tr>\n    <tr>\n      <th>1852486</th>\n      <td>OOP</td>\n      <td>20</td>\n      <td>13</td>\n      <td>3</td>\n      <td>1</td>\n      <td>37</td>\n    </tr>\n    <tr>\n      <th>1908921</th>\n      <td>OOP</td>\n      <td>0</td>\n      <td>0</td>\n      <td>0</td>\n      <td>0</td>\n      <td>0</td>\n    </tr>\n  </tbody>\n</table>\n</div>"
     },
     "execution_count": 48,
     "metadata": {},
     "output_type": "execute_result"
    }
   ],
   "source": [
    "# 19\n",
    "df.rename(columns = {'StdName' : '학번', 'SubjectName' : '과목명', 'AttdPoint' : '출결점수', 'Homework' : '과제', 'Midterm' : '중간고사', 'Finalterm': '기말고사', 'Total' : '총점'},inplace=True)\n",
    "df"
   ],
   "metadata": {
    "collapsed": false,
    "pycharm": {
     "name": "#%%\n"
    }
   }
  },
  {
   "cell_type": "code",
   "execution_count": 36,
   "outputs": [
    {
     "data": {
      "text/plain": "'A'"
     },
     "execution_count": 36,
     "metadata": {},
     "output_type": "execute_result"
    }
   ],
   "source": [
    "# 20\n",
    "def get_grade(num):\n",
    "    if 95 <= num <= 100:\n",
    "        return 'A+'\n",
    "    elif 90 <= num <= 94:\n",
    "        return 'A'\n",
    "    elif 85 <= num <= 89:\n",
    "        return 'B+'\n",
    "    elif 80 <= num <=84:\n",
    "        return 'B'\n",
    "    elif 75 <= num <= 79:\n",
    "        return 'C+'\n",
    "    elif 70 <= num <=74:\n",
    "        return 'C'\n",
    "    elif 65 <= num <= 69:\n",
    "        return 'D+'\n",
    "    elif 60 <= num <=64:\n",
    "        return 'D-'\n",
    "    else:\n",
    "        return 'F'\n",
    "\n",
    "get_grade(93)"
   ],
   "metadata": {
    "collapsed": false,
    "pycharm": {
     "name": "#%%\n"
    }
   }
  },
  {
   "cell_type": "code",
   "execution_count": 37,
   "outputs": [
    {
     "data": {
      "text/plain": "'B+'"
     },
     "execution_count": 37,
     "metadata": {},
     "output_type": "execute_result"
    }
   ],
   "source": [
    "get_grade(88)"
   ],
   "metadata": {
    "collapsed": false,
    "pycharm": {
     "name": "#%%\n"
    }
   }
  },
  {
   "cell_type": "code",
   "execution_count": 39,
   "outputs": [
    {
     "data": {
      "text/plain": "         과목명  출결점수  과제  중간고사  기말고사  총점  학점\nStdNum                                    \n1710335  OOP    20  13     2     4  39  39\n1717040  OOP     0   0     0     0   0   0\n1721470  OOP     0   0     0     0   0   0\n1724481  OOP     0   0     0     0   0   0\n1726380  OOP    20   9    20    26  75  75\n1741933  OOP    20  10     6     1  37  37\n1760212  OOP    20  15     7     3  45  45\n1769727  OOP    20  14     9     3  46  46\n1775658  OOP    20  12     2     2  36  36\n1786659  OOP    20  17    13     4  54  54\n1788542  OOP    20  18    19     6  63  63\n1804630  OOP    20  12    10     5  47  47\n1806474  OOP    20   9     7     4  40  40\n1809349  OOP    20  19    25    11  75  75\n1811646  OOP    20  14    22    22  78  78\n1816207  OOP     0   0     0     0   0   0\n1818588  OOP    20  16     5     3  44  44\n1820158  OOP    20  13    19    29  81  81\n1831484  OOP    20  10    11     5  46  46\n1835080  OOP    20  12    12     4  48  48\n1836508  OOP    20  11    17    13  61  61\n1852486  OOP    20  13     3     1  37  37\n1857008  OOP    19   9    12     8  48  48\n1864612  OOP    20  14    13     2  49  49\n1873632  OOP    15  12     8     4  39  39\n1875290  OOP    20  15    12     8  55  55\n1879982  OOP    20  17    26    29  92  92\n1886038  OOP    20  16    18    23  77  77\n1891044  OOP    20  16    21    12  69  69\n1897281  OOP    20  17    30    30  97  97\n1908921  OOP     0   0     0     0   0   0\n1911496  OOP    20  10     8     2  40  40\n1914788  OOP     0   0     0     0   0   0\n1920569  OOP    20  14    10    15  59  59\n1934243  OOP    20  17    26    30  93  93\n1943825  OOP    20  20    27    10  77  77\n1950136  OOP    17   2     1     0  20  20\n1954022  OOP    20  15    19    14  68  68\n1968144  OOP    20  17    25    29  91  91\n1974440  OOP    20  17    29    28  94  94\n1974935  OOP    20  15    15    11  61  61\n1989046  OOP     0   0     0     0   0   0\n1993289  OOP    20  18    16    28  82  82\n1993809  OOP    16   2    17     4  39  39",
      "text/html": "<div>\n<style scoped>\n    .dataframe tbody tr th:only-of-type {\n        vertical-align: middle;\n    }\n\n    .dataframe tbody tr th {\n        vertical-align: top;\n    }\n\n    .dataframe thead th {\n        text-align: right;\n    }\n</style>\n<table border=\"1\" class=\"dataframe\">\n  <thead>\n    <tr style=\"text-align: right;\">\n      <th></th>\n      <th>과목명</th>\n      <th>출결점수</th>\n      <th>과제</th>\n      <th>중간고사</th>\n      <th>기말고사</th>\n      <th>총점</th>\n      <th>학점</th>\n    </tr>\n    <tr>\n      <th>StdNum</th>\n      <th></th>\n      <th></th>\n      <th></th>\n      <th></th>\n      <th></th>\n      <th></th>\n      <th></th>\n    </tr>\n  </thead>\n  <tbody>\n    <tr>\n      <th>1710335</th>\n      <td>OOP</td>\n      <td>20</td>\n      <td>13</td>\n      <td>2</td>\n      <td>4</td>\n      <td>39</td>\n      <td>39</td>\n    </tr>\n    <tr>\n      <th>1717040</th>\n      <td>OOP</td>\n      <td>0</td>\n      <td>0</td>\n      <td>0</td>\n      <td>0</td>\n      <td>0</td>\n      <td>0</td>\n    </tr>\n    <tr>\n      <th>1721470</th>\n      <td>OOP</td>\n      <td>0</td>\n      <td>0</td>\n      <td>0</td>\n      <td>0</td>\n      <td>0</td>\n      <td>0</td>\n    </tr>\n    <tr>\n      <th>1724481</th>\n      <td>OOP</td>\n      <td>0</td>\n      <td>0</td>\n      <td>0</td>\n      <td>0</td>\n      <td>0</td>\n      <td>0</td>\n    </tr>\n    <tr>\n      <th>1726380</th>\n      <td>OOP</td>\n      <td>20</td>\n      <td>9</td>\n      <td>20</td>\n      <td>26</td>\n      <td>75</td>\n      <td>75</td>\n    </tr>\n    <tr>\n      <th>1741933</th>\n      <td>OOP</td>\n      <td>20</td>\n      <td>10</td>\n      <td>6</td>\n      <td>1</td>\n      <td>37</td>\n      <td>37</td>\n    </tr>\n    <tr>\n      <th>1760212</th>\n      <td>OOP</td>\n      <td>20</td>\n      <td>15</td>\n      <td>7</td>\n      <td>3</td>\n      <td>45</td>\n      <td>45</td>\n    </tr>\n    <tr>\n      <th>1769727</th>\n      <td>OOP</td>\n      <td>20</td>\n      <td>14</td>\n      <td>9</td>\n      <td>3</td>\n      <td>46</td>\n      <td>46</td>\n    </tr>\n    <tr>\n      <th>1775658</th>\n      <td>OOP</td>\n      <td>20</td>\n      <td>12</td>\n      <td>2</td>\n      <td>2</td>\n      <td>36</td>\n      <td>36</td>\n    </tr>\n    <tr>\n      <th>1786659</th>\n      <td>OOP</td>\n      <td>20</td>\n      <td>17</td>\n      <td>13</td>\n      <td>4</td>\n      <td>54</td>\n      <td>54</td>\n    </tr>\n    <tr>\n      <th>1788542</th>\n      <td>OOP</td>\n      <td>20</td>\n      <td>18</td>\n      <td>19</td>\n      <td>6</td>\n      <td>63</td>\n      <td>63</td>\n    </tr>\n    <tr>\n      <th>1804630</th>\n      <td>OOP</td>\n      <td>20</td>\n      <td>12</td>\n      <td>10</td>\n      <td>5</td>\n      <td>47</td>\n      <td>47</td>\n    </tr>\n    <tr>\n      <th>1806474</th>\n      <td>OOP</td>\n      <td>20</td>\n      <td>9</td>\n      <td>7</td>\n      <td>4</td>\n      <td>40</td>\n      <td>40</td>\n    </tr>\n    <tr>\n      <th>1809349</th>\n      <td>OOP</td>\n      <td>20</td>\n      <td>19</td>\n      <td>25</td>\n      <td>11</td>\n      <td>75</td>\n      <td>75</td>\n    </tr>\n    <tr>\n      <th>1811646</th>\n      <td>OOP</td>\n      <td>20</td>\n      <td>14</td>\n      <td>22</td>\n      <td>22</td>\n      <td>78</td>\n      <td>78</td>\n    </tr>\n    <tr>\n      <th>1816207</th>\n      <td>OOP</td>\n      <td>0</td>\n      <td>0</td>\n      <td>0</td>\n      <td>0</td>\n      <td>0</td>\n      <td>0</td>\n    </tr>\n    <tr>\n      <th>1818588</th>\n      <td>OOP</td>\n      <td>20</td>\n      <td>16</td>\n      <td>5</td>\n      <td>3</td>\n      <td>44</td>\n      <td>44</td>\n    </tr>\n    <tr>\n      <th>1820158</th>\n      <td>OOP</td>\n      <td>20</td>\n      <td>13</td>\n      <td>19</td>\n      <td>29</td>\n      <td>81</td>\n      <td>81</td>\n    </tr>\n    <tr>\n      <th>1831484</th>\n      <td>OOP</td>\n      <td>20</td>\n      <td>10</td>\n      <td>11</td>\n      <td>5</td>\n      <td>46</td>\n      <td>46</td>\n    </tr>\n    <tr>\n      <th>1835080</th>\n      <td>OOP</td>\n      <td>20</td>\n      <td>12</td>\n      <td>12</td>\n      <td>4</td>\n      <td>48</td>\n      <td>48</td>\n    </tr>\n    <tr>\n      <th>1836508</th>\n      <td>OOP</td>\n      <td>20</td>\n      <td>11</td>\n      <td>17</td>\n      <td>13</td>\n      <td>61</td>\n      <td>61</td>\n    </tr>\n    <tr>\n      <th>1852486</th>\n      <td>OOP</td>\n      <td>20</td>\n      <td>13</td>\n      <td>3</td>\n      <td>1</td>\n      <td>37</td>\n      <td>37</td>\n    </tr>\n    <tr>\n      <th>1857008</th>\n      <td>OOP</td>\n      <td>19</td>\n      <td>9</td>\n      <td>12</td>\n      <td>8</td>\n      <td>48</td>\n      <td>48</td>\n    </tr>\n    <tr>\n      <th>1864612</th>\n      <td>OOP</td>\n      <td>20</td>\n      <td>14</td>\n      <td>13</td>\n      <td>2</td>\n      <td>49</td>\n      <td>49</td>\n    </tr>\n    <tr>\n      <th>1873632</th>\n      <td>OOP</td>\n      <td>15</td>\n      <td>12</td>\n      <td>8</td>\n      <td>4</td>\n      <td>39</td>\n      <td>39</td>\n    </tr>\n    <tr>\n      <th>1875290</th>\n      <td>OOP</td>\n      <td>20</td>\n      <td>15</td>\n      <td>12</td>\n      <td>8</td>\n      <td>55</td>\n      <td>55</td>\n    </tr>\n    <tr>\n      <th>1879982</th>\n      <td>OOP</td>\n      <td>20</td>\n      <td>17</td>\n      <td>26</td>\n      <td>29</td>\n      <td>92</td>\n      <td>92</td>\n    </tr>\n    <tr>\n      <th>1886038</th>\n      <td>OOP</td>\n      <td>20</td>\n      <td>16</td>\n      <td>18</td>\n      <td>23</td>\n      <td>77</td>\n      <td>77</td>\n    </tr>\n    <tr>\n      <th>1891044</th>\n      <td>OOP</td>\n      <td>20</td>\n      <td>16</td>\n      <td>21</td>\n      <td>12</td>\n      <td>69</td>\n      <td>69</td>\n    </tr>\n    <tr>\n      <th>1897281</th>\n      <td>OOP</td>\n      <td>20</td>\n      <td>17</td>\n      <td>30</td>\n      <td>30</td>\n      <td>97</td>\n      <td>97</td>\n    </tr>\n    <tr>\n      <th>1908921</th>\n      <td>OOP</td>\n      <td>0</td>\n      <td>0</td>\n      <td>0</td>\n      <td>0</td>\n      <td>0</td>\n      <td>0</td>\n    </tr>\n    <tr>\n      <th>1911496</th>\n      <td>OOP</td>\n      <td>20</td>\n      <td>10</td>\n      <td>8</td>\n      <td>2</td>\n      <td>40</td>\n      <td>40</td>\n    </tr>\n    <tr>\n      <th>1914788</th>\n      <td>OOP</td>\n      <td>0</td>\n      <td>0</td>\n      <td>0</td>\n      <td>0</td>\n      <td>0</td>\n      <td>0</td>\n    </tr>\n    <tr>\n      <th>1920569</th>\n      <td>OOP</td>\n      <td>20</td>\n      <td>14</td>\n      <td>10</td>\n      <td>15</td>\n      <td>59</td>\n      <td>59</td>\n    </tr>\n    <tr>\n      <th>1934243</th>\n      <td>OOP</td>\n      <td>20</td>\n      <td>17</td>\n      <td>26</td>\n      <td>30</td>\n      <td>93</td>\n      <td>93</td>\n    </tr>\n    <tr>\n      <th>1943825</th>\n      <td>OOP</td>\n      <td>20</td>\n      <td>20</td>\n      <td>27</td>\n      <td>10</td>\n      <td>77</td>\n      <td>77</td>\n    </tr>\n    <tr>\n      <th>1950136</th>\n      <td>OOP</td>\n      <td>17</td>\n      <td>2</td>\n      <td>1</td>\n      <td>0</td>\n      <td>20</td>\n      <td>20</td>\n    </tr>\n    <tr>\n      <th>1954022</th>\n      <td>OOP</td>\n      <td>20</td>\n      <td>15</td>\n      <td>19</td>\n      <td>14</td>\n      <td>68</td>\n      <td>68</td>\n    </tr>\n    <tr>\n      <th>1968144</th>\n      <td>OOP</td>\n      <td>20</td>\n      <td>17</td>\n      <td>25</td>\n      <td>29</td>\n      <td>91</td>\n      <td>91</td>\n    </tr>\n    <tr>\n      <th>1974440</th>\n      <td>OOP</td>\n      <td>20</td>\n      <td>17</td>\n      <td>29</td>\n      <td>28</td>\n      <td>94</td>\n      <td>94</td>\n    </tr>\n    <tr>\n      <th>1974935</th>\n      <td>OOP</td>\n      <td>20</td>\n      <td>15</td>\n      <td>15</td>\n      <td>11</td>\n      <td>61</td>\n      <td>61</td>\n    </tr>\n    <tr>\n      <th>1989046</th>\n      <td>OOP</td>\n      <td>0</td>\n      <td>0</td>\n      <td>0</td>\n      <td>0</td>\n      <td>0</td>\n      <td>0</td>\n    </tr>\n    <tr>\n      <th>1993289</th>\n      <td>OOP</td>\n      <td>20</td>\n      <td>18</td>\n      <td>16</td>\n      <td>28</td>\n      <td>82</td>\n      <td>82</td>\n    </tr>\n    <tr>\n      <th>1993809</th>\n      <td>OOP</td>\n      <td>16</td>\n      <td>2</td>\n      <td>17</td>\n      <td>4</td>\n      <td>39</td>\n      <td>39</td>\n    </tr>\n  </tbody>\n</table>\n</div>"
     },
     "execution_count": 39,
     "metadata": {},
     "output_type": "execute_result"
    }
   ],
   "source": [
    "# 21\n",
    "df['학점'] = df['총점']\n",
    "df"
   ],
   "metadata": {
    "collapsed": false,
    "pycharm": {
     "name": "#%%\n"
    }
   }
  },
  {
   "cell_type": "code",
   "execution_count": 41,
   "outputs": [
    {
     "data": {
      "text/plain": "         과목명  출결점수  과제  중간고사  기말고사  총점  학점\nStdNum                                    \n1710335  OOP    20  13     2     4  39   F\n1717040  OOP     0   0     0     0   0   F\n1721470  OOP     0   0     0     0   0   F\n1724481  OOP     0   0     0     0   0   F\n1726380  OOP    20   9    20    26  75  C+\n1741933  OOP    20  10     6     1  37   F\n1760212  OOP    20  15     7     3  45   F\n1769727  OOP    20  14     9     3  46   F\n1775658  OOP    20  12     2     2  36   F\n1786659  OOP    20  17    13     4  54   F\n1788542  OOP    20  18    19     6  63  D-\n1804630  OOP    20  12    10     5  47   F\n1806474  OOP    20   9     7     4  40   F\n1809349  OOP    20  19    25    11  75  C+\n1811646  OOP    20  14    22    22  78  C+\n1816207  OOP     0   0     0     0   0   F\n1818588  OOP    20  16     5     3  44   F\n1820158  OOP    20  13    19    29  81   B\n1831484  OOP    20  10    11     5  46   F\n1835080  OOP    20  12    12     4  48   F\n1836508  OOP    20  11    17    13  61  D-\n1852486  OOP    20  13     3     1  37   F\n1857008  OOP    19   9    12     8  48   F\n1864612  OOP    20  14    13     2  49   F\n1873632  OOP    15  12     8     4  39   F\n1875290  OOP    20  15    12     8  55   F\n1879982  OOP    20  17    26    29  92   A\n1886038  OOP    20  16    18    23  77  C+\n1891044  OOP    20  16    21    12  69  D+\n1897281  OOP    20  17    30    30  97  A+\n1908921  OOP     0   0     0     0   0   F\n1911496  OOP    20  10     8     2  40   F\n1914788  OOP     0   0     0     0   0   F\n1920569  OOP    20  14    10    15  59   F\n1934243  OOP    20  17    26    30  93   A\n1943825  OOP    20  20    27    10  77  C+\n1950136  OOP    17   2     1     0  20   F\n1954022  OOP    20  15    19    14  68  D+\n1968144  OOP    20  17    25    29  91   A\n1974440  OOP    20  17    29    28  94   A\n1974935  OOP    20  15    15    11  61  D-\n1989046  OOP     0   0     0     0   0   F\n1993289  OOP    20  18    16    28  82   B\n1993809  OOP    16   2    17     4  39   F",
      "text/html": "<div>\n<style scoped>\n    .dataframe tbody tr th:only-of-type {\n        vertical-align: middle;\n    }\n\n    .dataframe tbody tr th {\n        vertical-align: top;\n    }\n\n    .dataframe thead th {\n        text-align: right;\n    }\n</style>\n<table border=\"1\" class=\"dataframe\">\n  <thead>\n    <tr style=\"text-align: right;\">\n      <th></th>\n      <th>과목명</th>\n      <th>출결점수</th>\n      <th>과제</th>\n      <th>중간고사</th>\n      <th>기말고사</th>\n      <th>총점</th>\n      <th>학점</th>\n    </tr>\n    <tr>\n      <th>StdNum</th>\n      <th></th>\n      <th></th>\n      <th></th>\n      <th></th>\n      <th></th>\n      <th></th>\n      <th></th>\n    </tr>\n  </thead>\n  <tbody>\n    <tr>\n      <th>1710335</th>\n      <td>OOP</td>\n      <td>20</td>\n      <td>13</td>\n      <td>2</td>\n      <td>4</td>\n      <td>39</td>\n      <td>F</td>\n    </tr>\n    <tr>\n      <th>1717040</th>\n      <td>OOP</td>\n      <td>0</td>\n      <td>0</td>\n      <td>0</td>\n      <td>0</td>\n      <td>0</td>\n      <td>F</td>\n    </tr>\n    <tr>\n      <th>1721470</th>\n      <td>OOP</td>\n      <td>0</td>\n      <td>0</td>\n      <td>0</td>\n      <td>0</td>\n      <td>0</td>\n      <td>F</td>\n    </tr>\n    <tr>\n      <th>1724481</th>\n      <td>OOP</td>\n      <td>0</td>\n      <td>0</td>\n      <td>0</td>\n      <td>0</td>\n      <td>0</td>\n      <td>F</td>\n    </tr>\n    <tr>\n      <th>1726380</th>\n      <td>OOP</td>\n      <td>20</td>\n      <td>9</td>\n      <td>20</td>\n      <td>26</td>\n      <td>75</td>\n      <td>C+</td>\n    </tr>\n    <tr>\n      <th>1741933</th>\n      <td>OOP</td>\n      <td>20</td>\n      <td>10</td>\n      <td>6</td>\n      <td>1</td>\n      <td>37</td>\n      <td>F</td>\n    </tr>\n    <tr>\n      <th>1760212</th>\n      <td>OOP</td>\n      <td>20</td>\n      <td>15</td>\n      <td>7</td>\n      <td>3</td>\n      <td>45</td>\n      <td>F</td>\n    </tr>\n    <tr>\n      <th>1769727</th>\n      <td>OOP</td>\n      <td>20</td>\n      <td>14</td>\n      <td>9</td>\n      <td>3</td>\n      <td>46</td>\n      <td>F</td>\n    </tr>\n    <tr>\n      <th>1775658</th>\n      <td>OOP</td>\n      <td>20</td>\n      <td>12</td>\n      <td>2</td>\n      <td>2</td>\n      <td>36</td>\n      <td>F</td>\n    </tr>\n    <tr>\n      <th>1786659</th>\n      <td>OOP</td>\n      <td>20</td>\n      <td>17</td>\n      <td>13</td>\n      <td>4</td>\n      <td>54</td>\n      <td>F</td>\n    </tr>\n    <tr>\n      <th>1788542</th>\n      <td>OOP</td>\n      <td>20</td>\n      <td>18</td>\n      <td>19</td>\n      <td>6</td>\n      <td>63</td>\n      <td>D-</td>\n    </tr>\n    <tr>\n      <th>1804630</th>\n      <td>OOP</td>\n      <td>20</td>\n      <td>12</td>\n      <td>10</td>\n      <td>5</td>\n      <td>47</td>\n      <td>F</td>\n    </tr>\n    <tr>\n      <th>1806474</th>\n      <td>OOP</td>\n      <td>20</td>\n      <td>9</td>\n      <td>7</td>\n      <td>4</td>\n      <td>40</td>\n      <td>F</td>\n    </tr>\n    <tr>\n      <th>1809349</th>\n      <td>OOP</td>\n      <td>20</td>\n      <td>19</td>\n      <td>25</td>\n      <td>11</td>\n      <td>75</td>\n      <td>C+</td>\n    </tr>\n    <tr>\n      <th>1811646</th>\n      <td>OOP</td>\n      <td>20</td>\n      <td>14</td>\n      <td>22</td>\n      <td>22</td>\n      <td>78</td>\n      <td>C+</td>\n    </tr>\n    <tr>\n      <th>1816207</th>\n      <td>OOP</td>\n      <td>0</td>\n      <td>0</td>\n      <td>0</td>\n      <td>0</td>\n      <td>0</td>\n      <td>F</td>\n    </tr>\n    <tr>\n      <th>1818588</th>\n      <td>OOP</td>\n      <td>20</td>\n      <td>16</td>\n      <td>5</td>\n      <td>3</td>\n      <td>44</td>\n      <td>F</td>\n    </tr>\n    <tr>\n      <th>1820158</th>\n      <td>OOP</td>\n      <td>20</td>\n      <td>13</td>\n      <td>19</td>\n      <td>29</td>\n      <td>81</td>\n      <td>B</td>\n    </tr>\n    <tr>\n      <th>1831484</th>\n      <td>OOP</td>\n      <td>20</td>\n      <td>10</td>\n      <td>11</td>\n      <td>5</td>\n      <td>46</td>\n      <td>F</td>\n    </tr>\n    <tr>\n      <th>1835080</th>\n      <td>OOP</td>\n      <td>20</td>\n      <td>12</td>\n      <td>12</td>\n      <td>4</td>\n      <td>48</td>\n      <td>F</td>\n    </tr>\n    <tr>\n      <th>1836508</th>\n      <td>OOP</td>\n      <td>20</td>\n      <td>11</td>\n      <td>17</td>\n      <td>13</td>\n      <td>61</td>\n      <td>D-</td>\n    </tr>\n    <tr>\n      <th>1852486</th>\n      <td>OOP</td>\n      <td>20</td>\n      <td>13</td>\n      <td>3</td>\n      <td>1</td>\n      <td>37</td>\n      <td>F</td>\n    </tr>\n    <tr>\n      <th>1857008</th>\n      <td>OOP</td>\n      <td>19</td>\n      <td>9</td>\n      <td>12</td>\n      <td>8</td>\n      <td>48</td>\n      <td>F</td>\n    </tr>\n    <tr>\n      <th>1864612</th>\n      <td>OOP</td>\n      <td>20</td>\n      <td>14</td>\n      <td>13</td>\n      <td>2</td>\n      <td>49</td>\n      <td>F</td>\n    </tr>\n    <tr>\n      <th>1873632</th>\n      <td>OOP</td>\n      <td>15</td>\n      <td>12</td>\n      <td>8</td>\n      <td>4</td>\n      <td>39</td>\n      <td>F</td>\n    </tr>\n    <tr>\n      <th>1875290</th>\n      <td>OOP</td>\n      <td>20</td>\n      <td>15</td>\n      <td>12</td>\n      <td>8</td>\n      <td>55</td>\n      <td>F</td>\n    </tr>\n    <tr>\n      <th>1879982</th>\n      <td>OOP</td>\n      <td>20</td>\n      <td>17</td>\n      <td>26</td>\n      <td>29</td>\n      <td>92</td>\n      <td>A</td>\n    </tr>\n    <tr>\n      <th>1886038</th>\n      <td>OOP</td>\n      <td>20</td>\n      <td>16</td>\n      <td>18</td>\n      <td>23</td>\n      <td>77</td>\n      <td>C+</td>\n    </tr>\n    <tr>\n      <th>1891044</th>\n      <td>OOP</td>\n      <td>20</td>\n      <td>16</td>\n      <td>21</td>\n      <td>12</td>\n      <td>69</td>\n      <td>D+</td>\n    </tr>\n    <tr>\n      <th>1897281</th>\n      <td>OOP</td>\n      <td>20</td>\n      <td>17</td>\n      <td>30</td>\n      <td>30</td>\n      <td>97</td>\n      <td>A+</td>\n    </tr>\n    <tr>\n      <th>1908921</th>\n      <td>OOP</td>\n      <td>0</td>\n      <td>0</td>\n      <td>0</td>\n      <td>0</td>\n      <td>0</td>\n      <td>F</td>\n    </tr>\n    <tr>\n      <th>1911496</th>\n      <td>OOP</td>\n      <td>20</td>\n      <td>10</td>\n      <td>8</td>\n      <td>2</td>\n      <td>40</td>\n      <td>F</td>\n    </tr>\n    <tr>\n      <th>1914788</th>\n      <td>OOP</td>\n      <td>0</td>\n      <td>0</td>\n      <td>0</td>\n      <td>0</td>\n      <td>0</td>\n      <td>F</td>\n    </tr>\n    <tr>\n      <th>1920569</th>\n      <td>OOP</td>\n      <td>20</td>\n      <td>14</td>\n      <td>10</td>\n      <td>15</td>\n      <td>59</td>\n      <td>F</td>\n    </tr>\n    <tr>\n      <th>1934243</th>\n      <td>OOP</td>\n      <td>20</td>\n      <td>17</td>\n      <td>26</td>\n      <td>30</td>\n      <td>93</td>\n      <td>A</td>\n    </tr>\n    <tr>\n      <th>1943825</th>\n      <td>OOP</td>\n      <td>20</td>\n      <td>20</td>\n      <td>27</td>\n      <td>10</td>\n      <td>77</td>\n      <td>C+</td>\n    </tr>\n    <tr>\n      <th>1950136</th>\n      <td>OOP</td>\n      <td>17</td>\n      <td>2</td>\n      <td>1</td>\n      <td>0</td>\n      <td>20</td>\n      <td>F</td>\n    </tr>\n    <tr>\n      <th>1954022</th>\n      <td>OOP</td>\n      <td>20</td>\n      <td>15</td>\n      <td>19</td>\n      <td>14</td>\n      <td>68</td>\n      <td>D+</td>\n    </tr>\n    <tr>\n      <th>1968144</th>\n      <td>OOP</td>\n      <td>20</td>\n      <td>17</td>\n      <td>25</td>\n      <td>29</td>\n      <td>91</td>\n      <td>A</td>\n    </tr>\n    <tr>\n      <th>1974440</th>\n      <td>OOP</td>\n      <td>20</td>\n      <td>17</td>\n      <td>29</td>\n      <td>28</td>\n      <td>94</td>\n      <td>A</td>\n    </tr>\n    <tr>\n      <th>1974935</th>\n      <td>OOP</td>\n      <td>20</td>\n      <td>15</td>\n      <td>15</td>\n      <td>11</td>\n      <td>61</td>\n      <td>D-</td>\n    </tr>\n    <tr>\n      <th>1989046</th>\n      <td>OOP</td>\n      <td>0</td>\n      <td>0</td>\n      <td>0</td>\n      <td>0</td>\n      <td>0</td>\n      <td>F</td>\n    </tr>\n    <tr>\n      <th>1993289</th>\n      <td>OOP</td>\n      <td>20</td>\n      <td>18</td>\n      <td>16</td>\n      <td>28</td>\n      <td>82</td>\n      <td>B</td>\n    </tr>\n    <tr>\n      <th>1993809</th>\n      <td>OOP</td>\n      <td>16</td>\n      <td>2</td>\n      <td>17</td>\n      <td>4</td>\n      <td>39</td>\n      <td>F</td>\n    </tr>\n  </tbody>\n</table>\n</div>"
     },
     "execution_count": 41,
     "metadata": {},
     "output_type": "execute_result"
    }
   ],
   "source": [
    "# 22\n",
    "df['학점'] = [get_grade(i) for i in df['총점']]\n",
    "df"
   ],
   "metadata": {
    "collapsed": false,
    "pycharm": {
     "name": "#%%\n"
    }
   }
  },
  {
   "cell_type": "code",
   "execution_count": 42,
   "outputs": [],
   "source": [
    "# 23\n"
   ],
   "metadata": {
    "collapsed": false,
    "pycharm": {
     "name": "#%%\n"
    }
   }
  },
  {
   "cell_type": "code",
   "execution_count": 54,
   "outputs": [
    {
     "data": {
      "text/plain": "    과목명  출결점수  과제  중간고사  기말고사  총점     StdNum  중간기말총점   학점\n12  OOP    20  17    30    30  97        NaN      60  NaN\n20  OOP    20  17    29    28  94        NaN      57  NaN\n15  OOP    20  17    26    30  93        NaN      56  NaN\n4   OOP    20  17    26    29  92        NaN      55  NaN\n1   OOP    20  17    25    29  91        NaN      54  NaN\n44   AI    20  17    25    23  85  2000000.0      48   B+\n45   AI    20  17    25    23  85  2000000.0      48   B+\n2   OOP    20  18    16    28  82        NaN      44  NaN\n22  OOP    20  13    19    29  81        NaN      48  NaN\n16  OOP    20  14    22    22  78        NaN      44  NaN\n27  OOP    20  20    27    10  77        NaN      37  NaN\n41  OOP    20  16    18    23  77        NaN      41  NaN\n0   OOP    20  19    25    11  75        NaN      36  NaN\n5   OOP    20   9    20    26  75        NaN      46  NaN\n46   AI    19  16    22    27  74  2000001.0      49    C\n3   OOP    20  16    21    12  69        NaN      33  NaN\n14  OOP    20  15    19    14  68        NaN      33  NaN\n34  OOP    20  18    19     6  63        NaN      25  NaN\n9   OOP    20  15    15    11  61        NaN      26  NaN\n24  OOP    20  11    17    13  61        NaN      30  NaN\n36  OOP    20  14    10    15  59        NaN      25  NaN\n13  OOP    20  15    12     8  55        NaN      20  NaN\n39  OOP    20  17    13     4  54        NaN      17  NaN\n29  OOP    20  14    13     2  49        NaN      15  NaN\n10  OOP    19   9    12     8  48        NaN      20  NaN\n38  OOP    20  12    12     4  48        NaN      16  NaN\n7   OOP    20  12    10     5  47        NaN      15  NaN\n18  OOP    20  14     9     3  46        NaN      12  NaN\n30  OOP    20  10    11     5  46        NaN      16  NaN\n37  OOP    20  15     7     3  45        NaN      10  NaN\n26  OOP    20  16     5     3  44        NaN       8  NaN\n23  OOP    20   9     7     4  40        NaN      11  NaN\n33  OOP    20  10     8     2  40        NaN      10  NaN\n11  OOP    16   2    17     4  39        NaN      21  NaN\n32  OOP    20  13     2     4  39        NaN       6  NaN\n35  OOP    15  12     8     4  39        NaN      12  NaN\n31  OOP    20  10     6     1  37        NaN       7  NaN\n42  OOP    20  13     3     1  37        NaN       4  NaN\n40  OOP    20  12     2     2  36        NaN       4  NaN\n19  OOP    17   2     1     0  20        NaN       1  NaN\n6   OOP     0   0     0     0   0        NaN       0  NaN\n8   OOP     0   0     0     0   0        NaN       0  NaN\n17  OOP     0   0     0     0   0        NaN       0  NaN\n21  OOP     0   0     0     0   0        NaN       0  NaN\n25  OOP     0   0     0     0   0        NaN       0  NaN\n28  OOP     0   0     0     0   0        NaN       0  NaN\n43  OOP     0   0     0     0   0        NaN       0  NaN",
      "text/html": "<div>\n<style scoped>\n    .dataframe tbody tr th:only-of-type {\n        vertical-align: middle;\n    }\n\n    .dataframe tbody tr th {\n        vertical-align: top;\n    }\n\n    .dataframe thead th {\n        text-align: right;\n    }\n</style>\n<table border=\"1\" class=\"dataframe\">\n  <thead>\n    <tr style=\"text-align: right;\">\n      <th></th>\n      <th>과목명</th>\n      <th>출결점수</th>\n      <th>과제</th>\n      <th>중간고사</th>\n      <th>기말고사</th>\n      <th>총점</th>\n      <th>StdNum</th>\n      <th>중간기말총점</th>\n      <th>학점</th>\n    </tr>\n  </thead>\n  <tbody>\n    <tr>\n      <th>12</th>\n      <td>OOP</td>\n      <td>20</td>\n      <td>17</td>\n      <td>30</td>\n      <td>30</td>\n      <td>97</td>\n      <td>NaN</td>\n      <td>60</td>\n      <td>NaN</td>\n    </tr>\n    <tr>\n      <th>20</th>\n      <td>OOP</td>\n      <td>20</td>\n      <td>17</td>\n      <td>29</td>\n      <td>28</td>\n      <td>94</td>\n      <td>NaN</td>\n      <td>57</td>\n      <td>NaN</td>\n    </tr>\n    <tr>\n      <th>15</th>\n      <td>OOP</td>\n      <td>20</td>\n      <td>17</td>\n      <td>26</td>\n      <td>30</td>\n      <td>93</td>\n      <td>NaN</td>\n      <td>56</td>\n      <td>NaN</td>\n    </tr>\n    <tr>\n      <th>4</th>\n      <td>OOP</td>\n      <td>20</td>\n      <td>17</td>\n      <td>26</td>\n      <td>29</td>\n      <td>92</td>\n      <td>NaN</td>\n      <td>55</td>\n      <td>NaN</td>\n    </tr>\n    <tr>\n      <th>1</th>\n      <td>OOP</td>\n      <td>20</td>\n      <td>17</td>\n      <td>25</td>\n      <td>29</td>\n      <td>91</td>\n      <td>NaN</td>\n      <td>54</td>\n      <td>NaN</td>\n    </tr>\n    <tr>\n      <th>44</th>\n      <td>AI</td>\n      <td>20</td>\n      <td>17</td>\n      <td>25</td>\n      <td>23</td>\n      <td>85</td>\n      <td>2000000.0</td>\n      <td>48</td>\n      <td>B+</td>\n    </tr>\n    <tr>\n      <th>45</th>\n      <td>AI</td>\n      <td>20</td>\n      <td>17</td>\n      <td>25</td>\n      <td>23</td>\n      <td>85</td>\n      <td>2000000.0</td>\n      <td>48</td>\n      <td>B+</td>\n    </tr>\n    <tr>\n      <th>2</th>\n      <td>OOP</td>\n      <td>20</td>\n      <td>18</td>\n      <td>16</td>\n      <td>28</td>\n      <td>82</td>\n      <td>NaN</td>\n      <td>44</td>\n      <td>NaN</td>\n    </tr>\n    <tr>\n      <th>22</th>\n      <td>OOP</td>\n      <td>20</td>\n      <td>13</td>\n      <td>19</td>\n      <td>29</td>\n      <td>81</td>\n      <td>NaN</td>\n      <td>48</td>\n      <td>NaN</td>\n    </tr>\n    <tr>\n      <th>16</th>\n      <td>OOP</td>\n      <td>20</td>\n      <td>14</td>\n      <td>22</td>\n      <td>22</td>\n      <td>78</td>\n      <td>NaN</td>\n      <td>44</td>\n      <td>NaN</td>\n    </tr>\n    <tr>\n      <th>27</th>\n      <td>OOP</td>\n      <td>20</td>\n      <td>20</td>\n      <td>27</td>\n      <td>10</td>\n      <td>77</td>\n      <td>NaN</td>\n      <td>37</td>\n      <td>NaN</td>\n    </tr>\n    <tr>\n      <th>41</th>\n      <td>OOP</td>\n      <td>20</td>\n      <td>16</td>\n      <td>18</td>\n      <td>23</td>\n      <td>77</td>\n      <td>NaN</td>\n      <td>41</td>\n      <td>NaN</td>\n    </tr>\n    <tr>\n      <th>0</th>\n      <td>OOP</td>\n      <td>20</td>\n      <td>19</td>\n      <td>25</td>\n      <td>11</td>\n      <td>75</td>\n      <td>NaN</td>\n      <td>36</td>\n      <td>NaN</td>\n    </tr>\n    <tr>\n      <th>5</th>\n      <td>OOP</td>\n      <td>20</td>\n      <td>9</td>\n      <td>20</td>\n      <td>26</td>\n      <td>75</td>\n      <td>NaN</td>\n      <td>46</td>\n      <td>NaN</td>\n    </tr>\n    <tr>\n      <th>46</th>\n      <td>AI</td>\n      <td>19</td>\n      <td>16</td>\n      <td>22</td>\n      <td>27</td>\n      <td>74</td>\n      <td>2000001.0</td>\n      <td>49</td>\n      <td>C</td>\n    </tr>\n    <tr>\n      <th>3</th>\n      <td>OOP</td>\n      <td>20</td>\n      <td>16</td>\n      <td>21</td>\n      <td>12</td>\n      <td>69</td>\n      <td>NaN</td>\n      <td>33</td>\n      <td>NaN</td>\n    </tr>\n    <tr>\n      <th>14</th>\n      <td>OOP</td>\n      <td>20</td>\n      <td>15</td>\n      <td>19</td>\n      <td>14</td>\n      <td>68</td>\n      <td>NaN</td>\n      <td>33</td>\n      <td>NaN</td>\n    </tr>\n    <tr>\n      <th>34</th>\n      <td>OOP</td>\n      <td>20</td>\n      <td>18</td>\n      <td>19</td>\n      <td>6</td>\n      <td>63</td>\n      <td>NaN</td>\n      <td>25</td>\n      <td>NaN</td>\n    </tr>\n    <tr>\n      <th>9</th>\n      <td>OOP</td>\n      <td>20</td>\n      <td>15</td>\n      <td>15</td>\n      <td>11</td>\n      <td>61</td>\n      <td>NaN</td>\n      <td>26</td>\n      <td>NaN</td>\n    </tr>\n    <tr>\n      <th>24</th>\n      <td>OOP</td>\n      <td>20</td>\n      <td>11</td>\n      <td>17</td>\n      <td>13</td>\n      <td>61</td>\n      <td>NaN</td>\n      <td>30</td>\n      <td>NaN</td>\n    </tr>\n    <tr>\n      <th>36</th>\n      <td>OOP</td>\n      <td>20</td>\n      <td>14</td>\n      <td>10</td>\n      <td>15</td>\n      <td>59</td>\n      <td>NaN</td>\n      <td>25</td>\n      <td>NaN</td>\n    </tr>\n    <tr>\n      <th>13</th>\n      <td>OOP</td>\n      <td>20</td>\n      <td>15</td>\n      <td>12</td>\n      <td>8</td>\n      <td>55</td>\n      <td>NaN</td>\n      <td>20</td>\n      <td>NaN</td>\n    </tr>\n    <tr>\n      <th>39</th>\n      <td>OOP</td>\n      <td>20</td>\n      <td>17</td>\n      <td>13</td>\n      <td>4</td>\n      <td>54</td>\n      <td>NaN</td>\n      <td>17</td>\n      <td>NaN</td>\n    </tr>\n    <tr>\n      <th>29</th>\n      <td>OOP</td>\n      <td>20</td>\n      <td>14</td>\n      <td>13</td>\n      <td>2</td>\n      <td>49</td>\n      <td>NaN</td>\n      <td>15</td>\n      <td>NaN</td>\n    </tr>\n    <tr>\n      <th>10</th>\n      <td>OOP</td>\n      <td>19</td>\n      <td>9</td>\n      <td>12</td>\n      <td>8</td>\n      <td>48</td>\n      <td>NaN</td>\n      <td>20</td>\n      <td>NaN</td>\n    </tr>\n    <tr>\n      <th>38</th>\n      <td>OOP</td>\n      <td>20</td>\n      <td>12</td>\n      <td>12</td>\n      <td>4</td>\n      <td>48</td>\n      <td>NaN</td>\n      <td>16</td>\n      <td>NaN</td>\n    </tr>\n    <tr>\n      <th>7</th>\n      <td>OOP</td>\n      <td>20</td>\n      <td>12</td>\n      <td>10</td>\n      <td>5</td>\n      <td>47</td>\n      <td>NaN</td>\n      <td>15</td>\n      <td>NaN</td>\n    </tr>\n    <tr>\n      <th>18</th>\n      <td>OOP</td>\n      <td>20</td>\n      <td>14</td>\n      <td>9</td>\n      <td>3</td>\n      <td>46</td>\n      <td>NaN</td>\n      <td>12</td>\n      <td>NaN</td>\n    </tr>\n    <tr>\n      <th>30</th>\n      <td>OOP</td>\n      <td>20</td>\n      <td>10</td>\n      <td>11</td>\n      <td>5</td>\n      <td>46</td>\n      <td>NaN</td>\n      <td>16</td>\n      <td>NaN</td>\n    </tr>\n    <tr>\n      <th>37</th>\n      <td>OOP</td>\n      <td>20</td>\n      <td>15</td>\n      <td>7</td>\n      <td>3</td>\n      <td>45</td>\n      <td>NaN</td>\n      <td>10</td>\n      <td>NaN</td>\n    </tr>\n    <tr>\n      <th>26</th>\n      <td>OOP</td>\n      <td>20</td>\n      <td>16</td>\n      <td>5</td>\n      <td>3</td>\n      <td>44</td>\n      <td>NaN</td>\n      <td>8</td>\n      <td>NaN</td>\n    </tr>\n    <tr>\n      <th>23</th>\n      <td>OOP</td>\n      <td>20</td>\n      <td>9</td>\n      <td>7</td>\n      <td>4</td>\n      <td>40</td>\n      <td>NaN</td>\n      <td>11</td>\n      <td>NaN</td>\n    </tr>\n    <tr>\n      <th>33</th>\n      <td>OOP</td>\n      <td>20</td>\n      <td>10</td>\n      <td>8</td>\n      <td>2</td>\n      <td>40</td>\n      <td>NaN</td>\n      <td>10</td>\n      <td>NaN</td>\n    </tr>\n    <tr>\n      <th>11</th>\n      <td>OOP</td>\n      <td>16</td>\n      <td>2</td>\n      <td>17</td>\n      <td>4</td>\n      <td>39</td>\n      <td>NaN</td>\n      <td>21</td>\n      <td>NaN</td>\n    </tr>\n    <tr>\n      <th>32</th>\n      <td>OOP</td>\n      <td>20</td>\n      <td>13</td>\n      <td>2</td>\n      <td>4</td>\n      <td>39</td>\n      <td>NaN</td>\n      <td>6</td>\n      <td>NaN</td>\n    </tr>\n    <tr>\n      <th>35</th>\n      <td>OOP</td>\n      <td>15</td>\n      <td>12</td>\n      <td>8</td>\n      <td>4</td>\n      <td>39</td>\n      <td>NaN</td>\n      <td>12</td>\n      <td>NaN</td>\n    </tr>\n    <tr>\n      <th>31</th>\n      <td>OOP</td>\n      <td>20</td>\n      <td>10</td>\n      <td>6</td>\n      <td>1</td>\n      <td>37</td>\n      <td>NaN</td>\n      <td>7</td>\n      <td>NaN</td>\n    </tr>\n    <tr>\n      <th>42</th>\n      <td>OOP</td>\n      <td>20</td>\n      <td>13</td>\n      <td>3</td>\n      <td>1</td>\n      <td>37</td>\n      <td>NaN</td>\n      <td>4</td>\n      <td>NaN</td>\n    </tr>\n    <tr>\n      <th>40</th>\n      <td>OOP</td>\n      <td>20</td>\n      <td>12</td>\n      <td>2</td>\n      <td>2</td>\n      <td>36</td>\n      <td>NaN</td>\n      <td>4</td>\n      <td>NaN</td>\n    </tr>\n    <tr>\n      <th>19</th>\n      <td>OOP</td>\n      <td>17</td>\n      <td>2</td>\n      <td>1</td>\n      <td>0</td>\n      <td>20</td>\n      <td>NaN</td>\n      <td>1</td>\n      <td>NaN</td>\n    </tr>\n    <tr>\n      <th>6</th>\n      <td>OOP</td>\n      <td>0</td>\n      <td>0</td>\n      <td>0</td>\n      <td>0</td>\n      <td>0</td>\n      <td>NaN</td>\n      <td>0</td>\n      <td>NaN</td>\n    </tr>\n    <tr>\n      <th>8</th>\n      <td>OOP</td>\n      <td>0</td>\n      <td>0</td>\n      <td>0</td>\n      <td>0</td>\n      <td>0</td>\n      <td>NaN</td>\n      <td>0</td>\n      <td>NaN</td>\n    </tr>\n    <tr>\n      <th>17</th>\n      <td>OOP</td>\n      <td>0</td>\n      <td>0</td>\n      <td>0</td>\n      <td>0</td>\n      <td>0</td>\n      <td>NaN</td>\n      <td>0</td>\n      <td>NaN</td>\n    </tr>\n    <tr>\n      <th>21</th>\n      <td>OOP</td>\n      <td>0</td>\n      <td>0</td>\n      <td>0</td>\n      <td>0</td>\n      <td>0</td>\n      <td>NaN</td>\n      <td>0</td>\n      <td>NaN</td>\n    </tr>\n    <tr>\n      <th>25</th>\n      <td>OOP</td>\n      <td>0</td>\n      <td>0</td>\n      <td>0</td>\n      <td>0</td>\n      <td>0</td>\n      <td>NaN</td>\n      <td>0</td>\n      <td>NaN</td>\n    </tr>\n    <tr>\n      <th>28</th>\n      <td>OOP</td>\n      <td>0</td>\n      <td>0</td>\n      <td>0</td>\n      <td>0</td>\n      <td>0</td>\n      <td>NaN</td>\n      <td>0</td>\n      <td>NaN</td>\n    </tr>\n    <tr>\n      <th>43</th>\n      <td>OOP</td>\n      <td>0</td>\n      <td>0</td>\n      <td>0</td>\n      <td>0</td>\n      <td>0</td>\n      <td>NaN</td>\n      <td>0</td>\n      <td>NaN</td>\n    </tr>\n  </tbody>\n</table>\n</div>"
     },
     "execution_count": 54,
     "metadata": {},
     "output_type": "execute_result"
    }
   ],
   "source": [
    "# 24\n",
    "df['중간기말총점'] = df['중간고사'] + df['기말고사']\n",
    "df"
   ],
   "metadata": {
    "collapsed": false,
    "pycharm": {
     "name": "#%%\n"
    }
   }
  },
  {
   "cell_type": "code",
   "execution_count": 50,
   "outputs": [
    {
     "data": {
      "text/plain": "    과목명  출결점수  과제  중간고사  기말고사  총점     StdNum  중간기말총점   학점\n0   OOP    20  19    25    11  75        NaN     NaN  NaN\n1   OOP    20  17    25    29  91        NaN     NaN  NaN\n2   OOP    20  18    16    28  82        NaN     NaN  NaN\n3   OOP    20  16    21    12  69        NaN     NaN  NaN\n4   OOP    20  17    26    29  92        NaN     NaN  NaN\n5   OOP    20   9    20    26  75        NaN     NaN  NaN\n6   OOP     0   0     0     0   0        NaN     NaN  NaN\n7   OOP    20  12    10     5  47        NaN     NaN  NaN\n8   OOP     0   0     0     0   0        NaN     NaN  NaN\n9   OOP    20  15    15    11  61        NaN     NaN  NaN\n10  OOP    19   9    12     8  48        NaN     NaN  NaN\n11  OOP    16   2    17     4  39        NaN     NaN  NaN\n12  OOP    20  17    30    30  97        NaN     NaN  NaN\n13  OOP    20  15    12     8  55        NaN     NaN  NaN\n14  OOP    20  15    19    14  68        NaN     NaN  NaN\n15  OOP    20  17    26    30  93        NaN     NaN  NaN\n16  OOP    20  14    22    22  78        NaN     NaN  NaN\n17  OOP     0   0     0     0   0        NaN     NaN  NaN\n18  OOP    20  14     9     3  46        NaN     NaN  NaN\n19  OOP    17   2     1     0  20        NaN     NaN  NaN\n20  OOP    20  17    29    28  94        NaN     NaN  NaN\n21  OOP     0   0     0     0   0        NaN     NaN  NaN\n22  OOP    20  13    19    29  81        NaN     NaN  NaN\n23  OOP    20   9     7     4  40        NaN     NaN  NaN\n24  OOP    20  11    17    13  61        NaN     NaN  NaN\n25  OOP     0   0     0     0   0        NaN     NaN  NaN\n26  OOP    20  16     5     3  44        NaN     NaN  NaN\n27  OOP    20  20    27    10  77        NaN     NaN  NaN\n28  OOP     0   0     0     0   0        NaN     NaN  NaN\n29  OOP    20  14    13     2  49        NaN     NaN  NaN\n30  OOP    20  10    11     5  46        NaN     NaN  NaN\n31  OOP    20  10     6     1  37        NaN     NaN  NaN\n32  OOP    20  13     2     4  39        NaN     NaN  NaN\n33  OOP    20  10     8     2  40        NaN     NaN  NaN\n34  OOP    20  18    19     6  63        NaN     NaN  NaN\n35  OOP    15  12     8     4  39        NaN     NaN  NaN\n36  OOP    20  14    10    15  59        NaN     NaN  NaN\n37  OOP    20  15     7     3  45        NaN     NaN  NaN\n38  OOP    20  12    12     4  48        NaN     NaN  NaN\n39  OOP    20  17    13     4  54        NaN     NaN  NaN\n40  OOP    20  12     2     2  36        NaN     NaN  NaN\n41  OOP    20  16    18    23  77        NaN     NaN  NaN\n42  OOP    20  13     3     1  37        NaN     NaN  NaN\n43  OOP     0   0     0     0   0        NaN     NaN  NaN\n44   AI    20  17    25    23  85  2000000.0    48.0   B+\n45   AI    20  17    25    23  85  2000000.0    48.0   B+\n46   AI    19  16    22    27  74  2000001.0    39.0    C",
      "text/html": "<div>\n<style scoped>\n    .dataframe tbody tr th:only-of-type {\n        vertical-align: middle;\n    }\n\n    .dataframe tbody tr th {\n        vertical-align: top;\n    }\n\n    .dataframe thead th {\n        text-align: right;\n    }\n</style>\n<table border=\"1\" class=\"dataframe\">\n  <thead>\n    <tr style=\"text-align: right;\">\n      <th></th>\n      <th>과목명</th>\n      <th>출결점수</th>\n      <th>과제</th>\n      <th>중간고사</th>\n      <th>기말고사</th>\n      <th>총점</th>\n      <th>StdNum</th>\n      <th>중간기말총점</th>\n      <th>학점</th>\n    </tr>\n  </thead>\n  <tbody>\n    <tr>\n      <th>0</th>\n      <td>OOP</td>\n      <td>20</td>\n      <td>19</td>\n      <td>25</td>\n      <td>11</td>\n      <td>75</td>\n      <td>NaN</td>\n      <td>NaN</td>\n      <td>NaN</td>\n    </tr>\n    <tr>\n      <th>1</th>\n      <td>OOP</td>\n      <td>20</td>\n      <td>17</td>\n      <td>25</td>\n      <td>29</td>\n      <td>91</td>\n      <td>NaN</td>\n      <td>NaN</td>\n      <td>NaN</td>\n    </tr>\n    <tr>\n      <th>2</th>\n      <td>OOP</td>\n      <td>20</td>\n      <td>18</td>\n      <td>16</td>\n      <td>28</td>\n      <td>82</td>\n      <td>NaN</td>\n      <td>NaN</td>\n      <td>NaN</td>\n    </tr>\n    <tr>\n      <th>3</th>\n      <td>OOP</td>\n      <td>20</td>\n      <td>16</td>\n      <td>21</td>\n      <td>12</td>\n      <td>69</td>\n      <td>NaN</td>\n      <td>NaN</td>\n      <td>NaN</td>\n    </tr>\n    <tr>\n      <th>4</th>\n      <td>OOP</td>\n      <td>20</td>\n      <td>17</td>\n      <td>26</td>\n      <td>29</td>\n      <td>92</td>\n      <td>NaN</td>\n      <td>NaN</td>\n      <td>NaN</td>\n    </tr>\n    <tr>\n      <th>5</th>\n      <td>OOP</td>\n      <td>20</td>\n      <td>9</td>\n      <td>20</td>\n      <td>26</td>\n      <td>75</td>\n      <td>NaN</td>\n      <td>NaN</td>\n      <td>NaN</td>\n    </tr>\n    <tr>\n      <th>6</th>\n      <td>OOP</td>\n      <td>0</td>\n      <td>0</td>\n      <td>0</td>\n      <td>0</td>\n      <td>0</td>\n      <td>NaN</td>\n      <td>NaN</td>\n      <td>NaN</td>\n    </tr>\n    <tr>\n      <th>7</th>\n      <td>OOP</td>\n      <td>20</td>\n      <td>12</td>\n      <td>10</td>\n      <td>5</td>\n      <td>47</td>\n      <td>NaN</td>\n      <td>NaN</td>\n      <td>NaN</td>\n    </tr>\n    <tr>\n      <th>8</th>\n      <td>OOP</td>\n      <td>0</td>\n      <td>0</td>\n      <td>0</td>\n      <td>0</td>\n      <td>0</td>\n      <td>NaN</td>\n      <td>NaN</td>\n      <td>NaN</td>\n    </tr>\n    <tr>\n      <th>9</th>\n      <td>OOP</td>\n      <td>20</td>\n      <td>15</td>\n      <td>15</td>\n      <td>11</td>\n      <td>61</td>\n      <td>NaN</td>\n      <td>NaN</td>\n      <td>NaN</td>\n    </tr>\n    <tr>\n      <th>10</th>\n      <td>OOP</td>\n      <td>19</td>\n      <td>9</td>\n      <td>12</td>\n      <td>8</td>\n      <td>48</td>\n      <td>NaN</td>\n      <td>NaN</td>\n      <td>NaN</td>\n    </tr>\n    <tr>\n      <th>11</th>\n      <td>OOP</td>\n      <td>16</td>\n      <td>2</td>\n      <td>17</td>\n      <td>4</td>\n      <td>39</td>\n      <td>NaN</td>\n      <td>NaN</td>\n      <td>NaN</td>\n    </tr>\n    <tr>\n      <th>12</th>\n      <td>OOP</td>\n      <td>20</td>\n      <td>17</td>\n      <td>30</td>\n      <td>30</td>\n      <td>97</td>\n      <td>NaN</td>\n      <td>NaN</td>\n      <td>NaN</td>\n    </tr>\n    <tr>\n      <th>13</th>\n      <td>OOP</td>\n      <td>20</td>\n      <td>15</td>\n      <td>12</td>\n      <td>8</td>\n      <td>55</td>\n      <td>NaN</td>\n      <td>NaN</td>\n      <td>NaN</td>\n    </tr>\n    <tr>\n      <th>14</th>\n      <td>OOP</td>\n      <td>20</td>\n      <td>15</td>\n      <td>19</td>\n      <td>14</td>\n      <td>68</td>\n      <td>NaN</td>\n      <td>NaN</td>\n      <td>NaN</td>\n    </tr>\n    <tr>\n      <th>15</th>\n      <td>OOP</td>\n      <td>20</td>\n      <td>17</td>\n      <td>26</td>\n      <td>30</td>\n      <td>93</td>\n      <td>NaN</td>\n      <td>NaN</td>\n      <td>NaN</td>\n    </tr>\n    <tr>\n      <th>16</th>\n      <td>OOP</td>\n      <td>20</td>\n      <td>14</td>\n      <td>22</td>\n      <td>22</td>\n      <td>78</td>\n      <td>NaN</td>\n      <td>NaN</td>\n      <td>NaN</td>\n    </tr>\n    <tr>\n      <th>17</th>\n      <td>OOP</td>\n      <td>0</td>\n      <td>0</td>\n      <td>0</td>\n      <td>0</td>\n      <td>0</td>\n      <td>NaN</td>\n      <td>NaN</td>\n      <td>NaN</td>\n    </tr>\n    <tr>\n      <th>18</th>\n      <td>OOP</td>\n      <td>20</td>\n      <td>14</td>\n      <td>9</td>\n      <td>3</td>\n      <td>46</td>\n      <td>NaN</td>\n      <td>NaN</td>\n      <td>NaN</td>\n    </tr>\n    <tr>\n      <th>19</th>\n      <td>OOP</td>\n      <td>17</td>\n      <td>2</td>\n      <td>1</td>\n      <td>0</td>\n      <td>20</td>\n      <td>NaN</td>\n      <td>NaN</td>\n      <td>NaN</td>\n    </tr>\n    <tr>\n      <th>20</th>\n      <td>OOP</td>\n      <td>20</td>\n      <td>17</td>\n      <td>29</td>\n      <td>28</td>\n      <td>94</td>\n      <td>NaN</td>\n      <td>NaN</td>\n      <td>NaN</td>\n    </tr>\n    <tr>\n      <th>21</th>\n      <td>OOP</td>\n      <td>0</td>\n      <td>0</td>\n      <td>0</td>\n      <td>0</td>\n      <td>0</td>\n      <td>NaN</td>\n      <td>NaN</td>\n      <td>NaN</td>\n    </tr>\n    <tr>\n      <th>22</th>\n      <td>OOP</td>\n      <td>20</td>\n      <td>13</td>\n      <td>19</td>\n      <td>29</td>\n      <td>81</td>\n      <td>NaN</td>\n      <td>NaN</td>\n      <td>NaN</td>\n    </tr>\n    <tr>\n      <th>23</th>\n      <td>OOP</td>\n      <td>20</td>\n      <td>9</td>\n      <td>7</td>\n      <td>4</td>\n      <td>40</td>\n      <td>NaN</td>\n      <td>NaN</td>\n      <td>NaN</td>\n    </tr>\n    <tr>\n      <th>24</th>\n      <td>OOP</td>\n      <td>20</td>\n      <td>11</td>\n      <td>17</td>\n      <td>13</td>\n      <td>61</td>\n      <td>NaN</td>\n      <td>NaN</td>\n      <td>NaN</td>\n    </tr>\n    <tr>\n      <th>25</th>\n      <td>OOP</td>\n      <td>0</td>\n      <td>0</td>\n      <td>0</td>\n      <td>0</td>\n      <td>0</td>\n      <td>NaN</td>\n      <td>NaN</td>\n      <td>NaN</td>\n    </tr>\n    <tr>\n      <th>26</th>\n      <td>OOP</td>\n      <td>20</td>\n      <td>16</td>\n      <td>5</td>\n      <td>3</td>\n      <td>44</td>\n      <td>NaN</td>\n      <td>NaN</td>\n      <td>NaN</td>\n    </tr>\n    <tr>\n      <th>27</th>\n      <td>OOP</td>\n      <td>20</td>\n      <td>20</td>\n      <td>27</td>\n      <td>10</td>\n      <td>77</td>\n      <td>NaN</td>\n      <td>NaN</td>\n      <td>NaN</td>\n    </tr>\n    <tr>\n      <th>28</th>\n      <td>OOP</td>\n      <td>0</td>\n      <td>0</td>\n      <td>0</td>\n      <td>0</td>\n      <td>0</td>\n      <td>NaN</td>\n      <td>NaN</td>\n      <td>NaN</td>\n    </tr>\n    <tr>\n      <th>29</th>\n      <td>OOP</td>\n      <td>20</td>\n      <td>14</td>\n      <td>13</td>\n      <td>2</td>\n      <td>49</td>\n      <td>NaN</td>\n      <td>NaN</td>\n      <td>NaN</td>\n    </tr>\n    <tr>\n      <th>30</th>\n      <td>OOP</td>\n      <td>20</td>\n      <td>10</td>\n      <td>11</td>\n      <td>5</td>\n      <td>46</td>\n      <td>NaN</td>\n      <td>NaN</td>\n      <td>NaN</td>\n    </tr>\n    <tr>\n      <th>31</th>\n      <td>OOP</td>\n      <td>20</td>\n      <td>10</td>\n      <td>6</td>\n      <td>1</td>\n      <td>37</td>\n      <td>NaN</td>\n      <td>NaN</td>\n      <td>NaN</td>\n    </tr>\n    <tr>\n      <th>32</th>\n      <td>OOP</td>\n      <td>20</td>\n      <td>13</td>\n      <td>2</td>\n      <td>4</td>\n      <td>39</td>\n      <td>NaN</td>\n      <td>NaN</td>\n      <td>NaN</td>\n    </tr>\n    <tr>\n      <th>33</th>\n      <td>OOP</td>\n      <td>20</td>\n      <td>10</td>\n      <td>8</td>\n      <td>2</td>\n      <td>40</td>\n      <td>NaN</td>\n      <td>NaN</td>\n      <td>NaN</td>\n    </tr>\n    <tr>\n      <th>34</th>\n      <td>OOP</td>\n      <td>20</td>\n      <td>18</td>\n      <td>19</td>\n      <td>6</td>\n      <td>63</td>\n      <td>NaN</td>\n      <td>NaN</td>\n      <td>NaN</td>\n    </tr>\n    <tr>\n      <th>35</th>\n      <td>OOP</td>\n      <td>15</td>\n      <td>12</td>\n      <td>8</td>\n      <td>4</td>\n      <td>39</td>\n      <td>NaN</td>\n      <td>NaN</td>\n      <td>NaN</td>\n    </tr>\n    <tr>\n      <th>36</th>\n      <td>OOP</td>\n      <td>20</td>\n      <td>14</td>\n      <td>10</td>\n      <td>15</td>\n      <td>59</td>\n      <td>NaN</td>\n      <td>NaN</td>\n      <td>NaN</td>\n    </tr>\n    <tr>\n      <th>37</th>\n      <td>OOP</td>\n      <td>20</td>\n      <td>15</td>\n      <td>7</td>\n      <td>3</td>\n      <td>45</td>\n      <td>NaN</td>\n      <td>NaN</td>\n      <td>NaN</td>\n    </tr>\n    <tr>\n      <th>38</th>\n      <td>OOP</td>\n      <td>20</td>\n      <td>12</td>\n      <td>12</td>\n      <td>4</td>\n      <td>48</td>\n      <td>NaN</td>\n      <td>NaN</td>\n      <td>NaN</td>\n    </tr>\n    <tr>\n      <th>39</th>\n      <td>OOP</td>\n      <td>20</td>\n      <td>17</td>\n      <td>13</td>\n      <td>4</td>\n      <td>54</td>\n      <td>NaN</td>\n      <td>NaN</td>\n      <td>NaN</td>\n    </tr>\n    <tr>\n      <th>40</th>\n      <td>OOP</td>\n      <td>20</td>\n      <td>12</td>\n      <td>2</td>\n      <td>2</td>\n      <td>36</td>\n      <td>NaN</td>\n      <td>NaN</td>\n      <td>NaN</td>\n    </tr>\n    <tr>\n      <th>41</th>\n      <td>OOP</td>\n      <td>20</td>\n      <td>16</td>\n      <td>18</td>\n      <td>23</td>\n      <td>77</td>\n      <td>NaN</td>\n      <td>NaN</td>\n      <td>NaN</td>\n    </tr>\n    <tr>\n      <th>42</th>\n      <td>OOP</td>\n      <td>20</td>\n      <td>13</td>\n      <td>3</td>\n      <td>1</td>\n      <td>37</td>\n      <td>NaN</td>\n      <td>NaN</td>\n      <td>NaN</td>\n    </tr>\n    <tr>\n      <th>43</th>\n      <td>OOP</td>\n      <td>0</td>\n      <td>0</td>\n      <td>0</td>\n      <td>0</td>\n      <td>0</td>\n      <td>NaN</td>\n      <td>NaN</td>\n      <td>NaN</td>\n    </tr>\n    <tr>\n      <th>44</th>\n      <td>AI</td>\n      <td>20</td>\n      <td>17</td>\n      <td>25</td>\n      <td>23</td>\n      <td>85</td>\n      <td>2000000.0</td>\n      <td>48.0</td>\n      <td>B+</td>\n    </tr>\n    <tr>\n      <th>45</th>\n      <td>AI</td>\n      <td>20</td>\n      <td>17</td>\n      <td>25</td>\n      <td>23</td>\n      <td>85</td>\n      <td>2000000.0</td>\n      <td>48.0</td>\n      <td>B+</td>\n    </tr>\n    <tr>\n      <th>46</th>\n      <td>AI</td>\n      <td>19</td>\n      <td>16</td>\n      <td>22</td>\n      <td>27</td>\n      <td>74</td>\n      <td>2000001.0</td>\n      <td>39.0</td>\n      <td>C</td>\n    </tr>\n  </tbody>\n</table>\n</div>"
     },
     "execution_count": 50,
     "metadata": {},
     "output_type": "execute_result"
    }
   ],
   "source": [
    "# 25\n",
    "data = {\n",
    "    'StdNum' : 2000000,\n",
    "    '과목명' : 'AI',\n",
    "    '출결점수' : 20,\n",
    "    '과제' : 17,\n",
    "    '중간고사' : 25,\n",
    "    '기말고사' : 23,\n",
    "    '총점' : 85,\n",
    "    '학점' : 'B+',\n",
    "    '중간기말총점' : 48,\n",
    " }\n",
    "df = df.append(data, ignore_index = True)\n",
    "\n",
    "data = {\n",
    "    'StdNum' : 2000001,\n",
    "    '과목명' : 'AI',\n",
    "    '출결점수' : 19,\n",
    "    '과제' : 16,\n",
    "    '중간고사' : 22,\n",
    "    '기말고사' : 27,\n",
    "    '총점' : 74,\n",
    "    '학점' : 'C',\n",
    "    '중간기말총점' : 39,\n",
    " }\n",
    "df = df.append(data, ignore_index = True)\n",
    "df"
   ],
   "metadata": {
    "collapsed": false,
    "pycharm": {
     "name": "#%%\n"
    }
   }
  },
  {
   "cell_type": "code",
   "execution_count": 51,
   "outputs": [
    {
     "data": {
      "text/plain": "    과목명  출결점수  과제  중간고사  기말고사  총점     StdNum  중간기말총점   학점\n12  OOP    20  17    30    30  97        NaN     NaN  NaN\n20  OOP    20  17    29    28  94        NaN     NaN  NaN\n15  OOP    20  17    26    30  93        NaN     NaN  NaN\n4   OOP    20  17    26    29  92        NaN     NaN  NaN\n1   OOP    20  17    25    29  91        NaN     NaN  NaN\n44   AI    20  17    25    23  85  2000000.0    48.0   B+\n45   AI    20  17    25    23  85  2000000.0    48.0   B+\n2   OOP    20  18    16    28  82        NaN     NaN  NaN\n22  OOP    20  13    19    29  81        NaN     NaN  NaN\n16  OOP    20  14    22    22  78        NaN     NaN  NaN\n27  OOP    20  20    27    10  77        NaN     NaN  NaN\n41  OOP    20  16    18    23  77        NaN     NaN  NaN\n0   OOP    20  19    25    11  75        NaN     NaN  NaN\n5   OOP    20   9    20    26  75        NaN     NaN  NaN\n46   AI    19  16    22    27  74  2000001.0    39.0    C\n3   OOP    20  16    21    12  69        NaN     NaN  NaN\n14  OOP    20  15    19    14  68        NaN     NaN  NaN\n34  OOP    20  18    19     6  63        NaN     NaN  NaN\n9   OOP    20  15    15    11  61        NaN     NaN  NaN\n24  OOP    20  11    17    13  61        NaN     NaN  NaN\n36  OOP    20  14    10    15  59        NaN     NaN  NaN\n13  OOP    20  15    12     8  55        NaN     NaN  NaN\n39  OOP    20  17    13     4  54        NaN     NaN  NaN\n29  OOP    20  14    13     2  49        NaN     NaN  NaN\n10  OOP    19   9    12     8  48        NaN     NaN  NaN\n38  OOP    20  12    12     4  48        NaN     NaN  NaN\n7   OOP    20  12    10     5  47        NaN     NaN  NaN\n18  OOP    20  14     9     3  46        NaN     NaN  NaN\n30  OOP    20  10    11     5  46        NaN     NaN  NaN\n37  OOP    20  15     7     3  45        NaN     NaN  NaN\n26  OOP    20  16     5     3  44        NaN     NaN  NaN\n23  OOP    20   9     7     4  40        NaN     NaN  NaN\n33  OOP    20  10     8     2  40        NaN     NaN  NaN\n11  OOP    16   2    17     4  39        NaN     NaN  NaN\n32  OOP    20  13     2     4  39        NaN     NaN  NaN\n35  OOP    15  12     8     4  39        NaN     NaN  NaN\n31  OOP    20  10     6     1  37        NaN     NaN  NaN\n42  OOP    20  13     3     1  37        NaN     NaN  NaN\n40  OOP    20  12     2     2  36        NaN     NaN  NaN\n19  OOP    17   2     1     0  20        NaN     NaN  NaN\n6   OOP     0   0     0     0   0        NaN     NaN  NaN\n8   OOP     0   0     0     0   0        NaN     NaN  NaN\n17  OOP     0   0     0     0   0        NaN     NaN  NaN\n21  OOP     0   0     0     0   0        NaN     NaN  NaN\n25  OOP     0   0     0     0   0        NaN     NaN  NaN\n28  OOP     0   0     0     0   0        NaN     NaN  NaN\n43  OOP     0   0     0     0   0        NaN     NaN  NaN",
      "text/html": "<div>\n<style scoped>\n    .dataframe tbody tr th:only-of-type {\n        vertical-align: middle;\n    }\n\n    .dataframe tbody tr th {\n        vertical-align: top;\n    }\n\n    .dataframe thead th {\n        text-align: right;\n    }\n</style>\n<table border=\"1\" class=\"dataframe\">\n  <thead>\n    <tr style=\"text-align: right;\">\n      <th></th>\n      <th>과목명</th>\n      <th>출결점수</th>\n      <th>과제</th>\n      <th>중간고사</th>\n      <th>기말고사</th>\n      <th>총점</th>\n      <th>StdNum</th>\n      <th>중간기말총점</th>\n      <th>학점</th>\n    </tr>\n  </thead>\n  <tbody>\n    <tr>\n      <th>12</th>\n      <td>OOP</td>\n      <td>20</td>\n      <td>17</td>\n      <td>30</td>\n      <td>30</td>\n      <td>97</td>\n      <td>NaN</td>\n      <td>NaN</td>\n      <td>NaN</td>\n    </tr>\n    <tr>\n      <th>20</th>\n      <td>OOP</td>\n      <td>20</td>\n      <td>17</td>\n      <td>29</td>\n      <td>28</td>\n      <td>94</td>\n      <td>NaN</td>\n      <td>NaN</td>\n      <td>NaN</td>\n    </tr>\n    <tr>\n      <th>15</th>\n      <td>OOP</td>\n      <td>20</td>\n      <td>17</td>\n      <td>26</td>\n      <td>30</td>\n      <td>93</td>\n      <td>NaN</td>\n      <td>NaN</td>\n      <td>NaN</td>\n    </tr>\n    <tr>\n      <th>4</th>\n      <td>OOP</td>\n      <td>20</td>\n      <td>17</td>\n      <td>26</td>\n      <td>29</td>\n      <td>92</td>\n      <td>NaN</td>\n      <td>NaN</td>\n      <td>NaN</td>\n    </tr>\n    <tr>\n      <th>1</th>\n      <td>OOP</td>\n      <td>20</td>\n      <td>17</td>\n      <td>25</td>\n      <td>29</td>\n      <td>91</td>\n      <td>NaN</td>\n      <td>NaN</td>\n      <td>NaN</td>\n    </tr>\n    <tr>\n      <th>44</th>\n      <td>AI</td>\n      <td>20</td>\n      <td>17</td>\n      <td>25</td>\n      <td>23</td>\n      <td>85</td>\n      <td>2000000.0</td>\n      <td>48.0</td>\n      <td>B+</td>\n    </tr>\n    <tr>\n      <th>45</th>\n      <td>AI</td>\n      <td>20</td>\n      <td>17</td>\n      <td>25</td>\n      <td>23</td>\n      <td>85</td>\n      <td>2000000.0</td>\n      <td>48.0</td>\n      <td>B+</td>\n    </tr>\n    <tr>\n      <th>2</th>\n      <td>OOP</td>\n      <td>20</td>\n      <td>18</td>\n      <td>16</td>\n      <td>28</td>\n      <td>82</td>\n      <td>NaN</td>\n      <td>NaN</td>\n      <td>NaN</td>\n    </tr>\n    <tr>\n      <th>22</th>\n      <td>OOP</td>\n      <td>20</td>\n      <td>13</td>\n      <td>19</td>\n      <td>29</td>\n      <td>81</td>\n      <td>NaN</td>\n      <td>NaN</td>\n      <td>NaN</td>\n    </tr>\n    <tr>\n      <th>16</th>\n      <td>OOP</td>\n      <td>20</td>\n      <td>14</td>\n      <td>22</td>\n      <td>22</td>\n      <td>78</td>\n      <td>NaN</td>\n      <td>NaN</td>\n      <td>NaN</td>\n    </tr>\n    <tr>\n      <th>27</th>\n      <td>OOP</td>\n      <td>20</td>\n      <td>20</td>\n      <td>27</td>\n      <td>10</td>\n      <td>77</td>\n      <td>NaN</td>\n      <td>NaN</td>\n      <td>NaN</td>\n    </tr>\n    <tr>\n      <th>41</th>\n      <td>OOP</td>\n      <td>20</td>\n      <td>16</td>\n      <td>18</td>\n      <td>23</td>\n      <td>77</td>\n      <td>NaN</td>\n      <td>NaN</td>\n      <td>NaN</td>\n    </tr>\n    <tr>\n      <th>0</th>\n      <td>OOP</td>\n      <td>20</td>\n      <td>19</td>\n      <td>25</td>\n      <td>11</td>\n      <td>75</td>\n      <td>NaN</td>\n      <td>NaN</td>\n      <td>NaN</td>\n    </tr>\n    <tr>\n      <th>5</th>\n      <td>OOP</td>\n      <td>20</td>\n      <td>9</td>\n      <td>20</td>\n      <td>26</td>\n      <td>75</td>\n      <td>NaN</td>\n      <td>NaN</td>\n      <td>NaN</td>\n    </tr>\n    <tr>\n      <th>46</th>\n      <td>AI</td>\n      <td>19</td>\n      <td>16</td>\n      <td>22</td>\n      <td>27</td>\n      <td>74</td>\n      <td>2000001.0</td>\n      <td>39.0</td>\n      <td>C</td>\n    </tr>\n    <tr>\n      <th>3</th>\n      <td>OOP</td>\n      <td>20</td>\n      <td>16</td>\n      <td>21</td>\n      <td>12</td>\n      <td>69</td>\n      <td>NaN</td>\n      <td>NaN</td>\n      <td>NaN</td>\n    </tr>\n    <tr>\n      <th>14</th>\n      <td>OOP</td>\n      <td>20</td>\n      <td>15</td>\n      <td>19</td>\n      <td>14</td>\n      <td>68</td>\n      <td>NaN</td>\n      <td>NaN</td>\n      <td>NaN</td>\n    </tr>\n    <tr>\n      <th>34</th>\n      <td>OOP</td>\n      <td>20</td>\n      <td>18</td>\n      <td>19</td>\n      <td>6</td>\n      <td>63</td>\n      <td>NaN</td>\n      <td>NaN</td>\n      <td>NaN</td>\n    </tr>\n    <tr>\n      <th>9</th>\n      <td>OOP</td>\n      <td>20</td>\n      <td>15</td>\n      <td>15</td>\n      <td>11</td>\n      <td>61</td>\n      <td>NaN</td>\n      <td>NaN</td>\n      <td>NaN</td>\n    </tr>\n    <tr>\n      <th>24</th>\n      <td>OOP</td>\n      <td>20</td>\n      <td>11</td>\n      <td>17</td>\n      <td>13</td>\n      <td>61</td>\n      <td>NaN</td>\n      <td>NaN</td>\n      <td>NaN</td>\n    </tr>\n    <tr>\n      <th>36</th>\n      <td>OOP</td>\n      <td>20</td>\n      <td>14</td>\n      <td>10</td>\n      <td>15</td>\n      <td>59</td>\n      <td>NaN</td>\n      <td>NaN</td>\n      <td>NaN</td>\n    </tr>\n    <tr>\n      <th>13</th>\n      <td>OOP</td>\n      <td>20</td>\n      <td>15</td>\n      <td>12</td>\n      <td>8</td>\n      <td>55</td>\n      <td>NaN</td>\n      <td>NaN</td>\n      <td>NaN</td>\n    </tr>\n    <tr>\n      <th>39</th>\n      <td>OOP</td>\n      <td>20</td>\n      <td>17</td>\n      <td>13</td>\n      <td>4</td>\n      <td>54</td>\n      <td>NaN</td>\n      <td>NaN</td>\n      <td>NaN</td>\n    </tr>\n    <tr>\n      <th>29</th>\n      <td>OOP</td>\n      <td>20</td>\n      <td>14</td>\n      <td>13</td>\n      <td>2</td>\n      <td>49</td>\n      <td>NaN</td>\n      <td>NaN</td>\n      <td>NaN</td>\n    </tr>\n    <tr>\n      <th>10</th>\n      <td>OOP</td>\n      <td>19</td>\n      <td>9</td>\n      <td>12</td>\n      <td>8</td>\n      <td>48</td>\n      <td>NaN</td>\n      <td>NaN</td>\n      <td>NaN</td>\n    </tr>\n    <tr>\n      <th>38</th>\n      <td>OOP</td>\n      <td>20</td>\n      <td>12</td>\n      <td>12</td>\n      <td>4</td>\n      <td>48</td>\n      <td>NaN</td>\n      <td>NaN</td>\n      <td>NaN</td>\n    </tr>\n    <tr>\n      <th>7</th>\n      <td>OOP</td>\n      <td>20</td>\n      <td>12</td>\n      <td>10</td>\n      <td>5</td>\n      <td>47</td>\n      <td>NaN</td>\n      <td>NaN</td>\n      <td>NaN</td>\n    </tr>\n    <tr>\n      <th>18</th>\n      <td>OOP</td>\n      <td>20</td>\n      <td>14</td>\n      <td>9</td>\n      <td>3</td>\n      <td>46</td>\n      <td>NaN</td>\n      <td>NaN</td>\n      <td>NaN</td>\n    </tr>\n    <tr>\n      <th>30</th>\n      <td>OOP</td>\n      <td>20</td>\n      <td>10</td>\n      <td>11</td>\n      <td>5</td>\n      <td>46</td>\n      <td>NaN</td>\n      <td>NaN</td>\n      <td>NaN</td>\n    </tr>\n    <tr>\n      <th>37</th>\n      <td>OOP</td>\n      <td>20</td>\n      <td>15</td>\n      <td>7</td>\n      <td>3</td>\n      <td>45</td>\n      <td>NaN</td>\n      <td>NaN</td>\n      <td>NaN</td>\n    </tr>\n    <tr>\n      <th>26</th>\n      <td>OOP</td>\n      <td>20</td>\n      <td>16</td>\n      <td>5</td>\n      <td>3</td>\n      <td>44</td>\n      <td>NaN</td>\n      <td>NaN</td>\n      <td>NaN</td>\n    </tr>\n    <tr>\n      <th>23</th>\n      <td>OOP</td>\n      <td>20</td>\n      <td>9</td>\n      <td>7</td>\n      <td>4</td>\n      <td>40</td>\n      <td>NaN</td>\n      <td>NaN</td>\n      <td>NaN</td>\n    </tr>\n    <tr>\n      <th>33</th>\n      <td>OOP</td>\n      <td>20</td>\n      <td>10</td>\n      <td>8</td>\n      <td>2</td>\n      <td>40</td>\n      <td>NaN</td>\n      <td>NaN</td>\n      <td>NaN</td>\n    </tr>\n    <tr>\n      <th>11</th>\n      <td>OOP</td>\n      <td>16</td>\n      <td>2</td>\n      <td>17</td>\n      <td>4</td>\n      <td>39</td>\n      <td>NaN</td>\n      <td>NaN</td>\n      <td>NaN</td>\n    </tr>\n    <tr>\n      <th>32</th>\n      <td>OOP</td>\n      <td>20</td>\n      <td>13</td>\n      <td>2</td>\n      <td>4</td>\n      <td>39</td>\n      <td>NaN</td>\n      <td>NaN</td>\n      <td>NaN</td>\n    </tr>\n    <tr>\n      <th>35</th>\n      <td>OOP</td>\n      <td>15</td>\n      <td>12</td>\n      <td>8</td>\n      <td>4</td>\n      <td>39</td>\n      <td>NaN</td>\n      <td>NaN</td>\n      <td>NaN</td>\n    </tr>\n    <tr>\n      <th>31</th>\n      <td>OOP</td>\n      <td>20</td>\n      <td>10</td>\n      <td>6</td>\n      <td>1</td>\n      <td>37</td>\n      <td>NaN</td>\n      <td>NaN</td>\n      <td>NaN</td>\n    </tr>\n    <tr>\n      <th>42</th>\n      <td>OOP</td>\n      <td>20</td>\n      <td>13</td>\n      <td>3</td>\n      <td>1</td>\n      <td>37</td>\n      <td>NaN</td>\n      <td>NaN</td>\n      <td>NaN</td>\n    </tr>\n    <tr>\n      <th>40</th>\n      <td>OOP</td>\n      <td>20</td>\n      <td>12</td>\n      <td>2</td>\n      <td>2</td>\n      <td>36</td>\n      <td>NaN</td>\n      <td>NaN</td>\n      <td>NaN</td>\n    </tr>\n    <tr>\n      <th>19</th>\n      <td>OOP</td>\n      <td>17</td>\n      <td>2</td>\n      <td>1</td>\n      <td>0</td>\n      <td>20</td>\n      <td>NaN</td>\n      <td>NaN</td>\n      <td>NaN</td>\n    </tr>\n    <tr>\n      <th>6</th>\n      <td>OOP</td>\n      <td>0</td>\n      <td>0</td>\n      <td>0</td>\n      <td>0</td>\n      <td>0</td>\n      <td>NaN</td>\n      <td>NaN</td>\n      <td>NaN</td>\n    </tr>\n    <tr>\n      <th>8</th>\n      <td>OOP</td>\n      <td>0</td>\n      <td>0</td>\n      <td>0</td>\n      <td>0</td>\n      <td>0</td>\n      <td>NaN</td>\n      <td>NaN</td>\n      <td>NaN</td>\n    </tr>\n    <tr>\n      <th>17</th>\n      <td>OOP</td>\n      <td>0</td>\n      <td>0</td>\n      <td>0</td>\n      <td>0</td>\n      <td>0</td>\n      <td>NaN</td>\n      <td>NaN</td>\n      <td>NaN</td>\n    </tr>\n    <tr>\n      <th>21</th>\n      <td>OOP</td>\n      <td>0</td>\n      <td>0</td>\n      <td>0</td>\n      <td>0</td>\n      <td>0</td>\n      <td>NaN</td>\n      <td>NaN</td>\n      <td>NaN</td>\n    </tr>\n    <tr>\n      <th>25</th>\n      <td>OOP</td>\n      <td>0</td>\n      <td>0</td>\n      <td>0</td>\n      <td>0</td>\n      <td>0</td>\n      <td>NaN</td>\n      <td>NaN</td>\n      <td>NaN</td>\n    </tr>\n    <tr>\n      <th>28</th>\n      <td>OOP</td>\n      <td>0</td>\n      <td>0</td>\n      <td>0</td>\n      <td>0</td>\n      <td>0</td>\n      <td>NaN</td>\n      <td>NaN</td>\n      <td>NaN</td>\n    </tr>\n    <tr>\n      <th>43</th>\n      <td>OOP</td>\n      <td>0</td>\n      <td>0</td>\n      <td>0</td>\n      <td>0</td>\n      <td>0</td>\n      <td>NaN</td>\n      <td>NaN</td>\n      <td>NaN</td>\n    </tr>\n  </tbody>\n</table>\n</div>"
     },
     "execution_count": 51,
     "metadata": {},
     "output_type": "execute_result"
    }
   ],
   "source": [
    "# 26\n",
    "df.sort_values(by = ['총점', '중간기말총점'],ascending=[False, False], inplace=True)\n",
    "df"
   ],
   "metadata": {
    "collapsed": false,
    "pycharm": {
     "name": "#%%\n"
    }
   }
  },
  {
   "cell_type": "code",
   "execution_count": 53,
   "outputs": [
    {
     "data": {
      "text/plain": "    과목명  출결점수  과제  중간고사  기말고사  총점   학점  중간기말총점\n12  OOP    20  17    30    30  97  NaN     NaN\n20  OOP    20  17    29    28  94  NaN     NaN\n15  OOP    20  17    26    30  93  NaN     NaN\n4   OOP    20  17    26    29  92  NaN     NaN\n1   OOP    20  17    25    29  91  NaN     NaN",
      "text/html": "<div>\n<style scoped>\n    .dataframe tbody tr th:only-of-type {\n        vertical-align: middle;\n    }\n\n    .dataframe tbody tr th {\n        vertical-align: top;\n    }\n\n    .dataframe thead th {\n        text-align: right;\n    }\n</style>\n<table border=\"1\" class=\"dataframe\">\n  <thead>\n    <tr style=\"text-align: right;\">\n      <th></th>\n      <th>과목명</th>\n      <th>출결점수</th>\n      <th>과제</th>\n      <th>중간고사</th>\n      <th>기말고사</th>\n      <th>총점</th>\n      <th>학점</th>\n      <th>중간기말총점</th>\n    </tr>\n  </thead>\n  <tbody>\n    <tr>\n      <th>12</th>\n      <td>OOP</td>\n      <td>20</td>\n      <td>17</td>\n      <td>30</td>\n      <td>30</td>\n      <td>97</td>\n      <td>NaN</td>\n      <td>NaN</td>\n    </tr>\n    <tr>\n      <th>20</th>\n      <td>OOP</td>\n      <td>20</td>\n      <td>17</td>\n      <td>29</td>\n      <td>28</td>\n      <td>94</td>\n      <td>NaN</td>\n      <td>NaN</td>\n    </tr>\n    <tr>\n      <th>15</th>\n      <td>OOP</td>\n      <td>20</td>\n      <td>17</td>\n      <td>26</td>\n      <td>30</td>\n      <td>93</td>\n      <td>NaN</td>\n      <td>NaN</td>\n    </tr>\n    <tr>\n      <th>4</th>\n      <td>OOP</td>\n      <td>20</td>\n      <td>17</td>\n      <td>26</td>\n      <td>29</td>\n      <td>92</td>\n      <td>NaN</td>\n      <td>NaN</td>\n    </tr>\n    <tr>\n      <th>1</th>\n      <td>OOP</td>\n      <td>20</td>\n      <td>17</td>\n      <td>25</td>\n      <td>29</td>\n      <td>91</td>\n      <td>NaN</td>\n      <td>NaN</td>\n    </tr>\n  </tbody>\n</table>\n</div>"
     },
     "execution_count": 53,
     "metadata": {},
     "output_type": "execute_result"
    }
   ],
   "source": [
    "# 27\n",
    "df.nlargest(5, '총점')[['과목명','출결점수','과제','중간고사','기말고사','총점','학점','중간기말총점']]"
   ],
   "metadata": {
    "collapsed": false,
    "pycharm": {
     "name": "#%%\n"
    }
   }
  },
  {
   "cell_type": "code",
   "execution_count": 55,
   "outputs": [
    {
     "data": {
      "text/plain": "    과목명  출결점수  과제  중간고사  기말고사  총점     StdNum   학점\n12  OOP    20  17    30    30  97        NaN  NaN\n20  OOP    20  17    29    28  94        NaN  NaN\n15  OOP    20  17    26    30  93        NaN  NaN\n4   OOP    20  17    26    29  92        NaN  NaN\n1   OOP    20  17    25    29  91        NaN  NaN\n44   AI    20  17    25    23  85  2000000.0   B+\n45   AI    20  17    25    23  85  2000000.0   B+\n2   OOP    20  18    16    28  82        NaN  NaN\n22  OOP    20  13    19    29  81        NaN  NaN\n16  OOP    20  14    22    22  78        NaN  NaN\n27  OOP    20  20    27    10  77        NaN  NaN\n41  OOP    20  16    18    23  77        NaN  NaN\n0   OOP    20  19    25    11  75        NaN  NaN\n5   OOP    20   9    20    26  75        NaN  NaN\n46   AI    19  16    22    27  74  2000001.0    C\n3   OOP    20  16    21    12  69        NaN  NaN\n14  OOP    20  15    19    14  68        NaN  NaN\n34  OOP    20  18    19     6  63        NaN  NaN\n9   OOP    20  15    15    11  61        NaN  NaN\n24  OOP    20  11    17    13  61        NaN  NaN\n36  OOP    20  14    10    15  59        NaN  NaN\n13  OOP    20  15    12     8  55        NaN  NaN\n39  OOP    20  17    13     4  54        NaN  NaN\n29  OOP    20  14    13     2  49        NaN  NaN\n10  OOP    19   9    12     8  48        NaN  NaN\n38  OOP    20  12    12     4  48        NaN  NaN\n7   OOP    20  12    10     5  47        NaN  NaN\n18  OOP    20  14     9     3  46        NaN  NaN\n30  OOP    20  10    11     5  46        NaN  NaN\n37  OOP    20  15     7     3  45        NaN  NaN\n26  OOP    20  16     5     3  44        NaN  NaN\n23  OOP    20   9     7     4  40        NaN  NaN\n33  OOP    20  10     8     2  40        NaN  NaN\n11  OOP    16   2    17     4  39        NaN  NaN\n32  OOP    20  13     2     4  39        NaN  NaN\n35  OOP    15  12     8     4  39        NaN  NaN\n31  OOP    20  10     6     1  37        NaN  NaN\n42  OOP    20  13     3     1  37        NaN  NaN\n40  OOP    20  12     2     2  36        NaN  NaN\n19  OOP    17   2     1     0  20        NaN  NaN\n6   OOP     0   0     0     0   0        NaN  NaN\n8   OOP     0   0     0     0   0        NaN  NaN\n17  OOP     0   0     0     0   0        NaN  NaN\n21  OOP     0   0     0     0   0        NaN  NaN\n25  OOP     0   0     0     0   0        NaN  NaN\n28  OOP     0   0     0     0   0        NaN  NaN\n43  OOP     0   0     0     0   0        NaN  NaN",
      "text/html": "<div>\n<style scoped>\n    .dataframe tbody tr th:only-of-type {\n        vertical-align: middle;\n    }\n\n    .dataframe tbody tr th {\n        vertical-align: top;\n    }\n\n    .dataframe thead th {\n        text-align: right;\n    }\n</style>\n<table border=\"1\" class=\"dataframe\">\n  <thead>\n    <tr style=\"text-align: right;\">\n      <th></th>\n      <th>과목명</th>\n      <th>출결점수</th>\n      <th>과제</th>\n      <th>중간고사</th>\n      <th>기말고사</th>\n      <th>총점</th>\n      <th>StdNum</th>\n      <th>학점</th>\n    </tr>\n  </thead>\n  <tbody>\n    <tr>\n      <th>12</th>\n      <td>OOP</td>\n      <td>20</td>\n      <td>17</td>\n      <td>30</td>\n      <td>30</td>\n      <td>97</td>\n      <td>NaN</td>\n      <td>NaN</td>\n    </tr>\n    <tr>\n      <th>20</th>\n      <td>OOP</td>\n      <td>20</td>\n      <td>17</td>\n      <td>29</td>\n      <td>28</td>\n      <td>94</td>\n      <td>NaN</td>\n      <td>NaN</td>\n    </tr>\n    <tr>\n      <th>15</th>\n      <td>OOP</td>\n      <td>20</td>\n      <td>17</td>\n      <td>26</td>\n      <td>30</td>\n      <td>93</td>\n      <td>NaN</td>\n      <td>NaN</td>\n    </tr>\n    <tr>\n      <th>4</th>\n      <td>OOP</td>\n      <td>20</td>\n      <td>17</td>\n      <td>26</td>\n      <td>29</td>\n      <td>92</td>\n      <td>NaN</td>\n      <td>NaN</td>\n    </tr>\n    <tr>\n      <th>1</th>\n      <td>OOP</td>\n      <td>20</td>\n      <td>17</td>\n      <td>25</td>\n      <td>29</td>\n      <td>91</td>\n      <td>NaN</td>\n      <td>NaN</td>\n    </tr>\n    <tr>\n      <th>44</th>\n      <td>AI</td>\n      <td>20</td>\n      <td>17</td>\n      <td>25</td>\n      <td>23</td>\n      <td>85</td>\n      <td>2000000.0</td>\n      <td>B+</td>\n    </tr>\n    <tr>\n      <th>45</th>\n      <td>AI</td>\n      <td>20</td>\n      <td>17</td>\n      <td>25</td>\n      <td>23</td>\n      <td>85</td>\n      <td>2000000.0</td>\n      <td>B+</td>\n    </tr>\n    <tr>\n      <th>2</th>\n      <td>OOP</td>\n      <td>20</td>\n      <td>18</td>\n      <td>16</td>\n      <td>28</td>\n      <td>82</td>\n      <td>NaN</td>\n      <td>NaN</td>\n    </tr>\n    <tr>\n      <th>22</th>\n      <td>OOP</td>\n      <td>20</td>\n      <td>13</td>\n      <td>19</td>\n      <td>29</td>\n      <td>81</td>\n      <td>NaN</td>\n      <td>NaN</td>\n    </tr>\n    <tr>\n      <th>16</th>\n      <td>OOP</td>\n      <td>20</td>\n      <td>14</td>\n      <td>22</td>\n      <td>22</td>\n      <td>78</td>\n      <td>NaN</td>\n      <td>NaN</td>\n    </tr>\n    <tr>\n      <th>27</th>\n      <td>OOP</td>\n      <td>20</td>\n      <td>20</td>\n      <td>27</td>\n      <td>10</td>\n      <td>77</td>\n      <td>NaN</td>\n      <td>NaN</td>\n    </tr>\n    <tr>\n      <th>41</th>\n      <td>OOP</td>\n      <td>20</td>\n      <td>16</td>\n      <td>18</td>\n      <td>23</td>\n      <td>77</td>\n      <td>NaN</td>\n      <td>NaN</td>\n    </tr>\n    <tr>\n      <th>0</th>\n      <td>OOP</td>\n      <td>20</td>\n      <td>19</td>\n      <td>25</td>\n      <td>11</td>\n      <td>75</td>\n      <td>NaN</td>\n      <td>NaN</td>\n    </tr>\n    <tr>\n      <th>5</th>\n      <td>OOP</td>\n      <td>20</td>\n      <td>9</td>\n      <td>20</td>\n      <td>26</td>\n      <td>75</td>\n      <td>NaN</td>\n      <td>NaN</td>\n    </tr>\n    <tr>\n      <th>46</th>\n      <td>AI</td>\n      <td>19</td>\n      <td>16</td>\n      <td>22</td>\n      <td>27</td>\n      <td>74</td>\n      <td>2000001.0</td>\n      <td>C</td>\n    </tr>\n    <tr>\n      <th>3</th>\n      <td>OOP</td>\n      <td>20</td>\n      <td>16</td>\n      <td>21</td>\n      <td>12</td>\n      <td>69</td>\n      <td>NaN</td>\n      <td>NaN</td>\n    </tr>\n    <tr>\n      <th>14</th>\n      <td>OOP</td>\n      <td>20</td>\n      <td>15</td>\n      <td>19</td>\n      <td>14</td>\n      <td>68</td>\n      <td>NaN</td>\n      <td>NaN</td>\n    </tr>\n    <tr>\n      <th>34</th>\n      <td>OOP</td>\n      <td>20</td>\n      <td>18</td>\n      <td>19</td>\n      <td>6</td>\n      <td>63</td>\n      <td>NaN</td>\n      <td>NaN</td>\n    </tr>\n    <tr>\n      <th>9</th>\n      <td>OOP</td>\n      <td>20</td>\n      <td>15</td>\n      <td>15</td>\n      <td>11</td>\n      <td>61</td>\n      <td>NaN</td>\n      <td>NaN</td>\n    </tr>\n    <tr>\n      <th>24</th>\n      <td>OOP</td>\n      <td>20</td>\n      <td>11</td>\n      <td>17</td>\n      <td>13</td>\n      <td>61</td>\n      <td>NaN</td>\n      <td>NaN</td>\n    </tr>\n    <tr>\n      <th>36</th>\n      <td>OOP</td>\n      <td>20</td>\n      <td>14</td>\n      <td>10</td>\n      <td>15</td>\n      <td>59</td>\n      <td>NaN</td>\n      <td>NaN</td>\n    </tr>\n    <tr>\n      <th>13</th>\n      <td>OOP</td>\n      <td>20</td>\n      <td>15</td>\n      <td>12</td>\n      <td>8</td>\n      <td>55</td>\n      <td>NaN</td>\n      <td>NaN</td>\n    </tr>\n    <tr>\n      <th>39</th>\n      <td>OOP</td>\n      <td>20</td>\n      <td>17</td>\n      <td>13</td>\n      <td>4</td>\n      <td>54</td>\n      <td>NaN</td>\n      <td>NaN</td>\n    </tr>\n    <tr>\n      <th>29</th>\n      <td>OOP</td>\n      <td>20</td>\n      <td>14</td>\n      <td>13</td>\n      <td>2</td>\n      <td>49</td>\n      <td>NaN</td>\n      <td>NaN</td>\n    </tr>\n    <tr>\n      <th>10</th>\n      <td>OOP</td>\n      <td>19</td>\n      <td>9</td>\n      <td>12</td>\n      <td>8</td>\n      <td>48</td>\n      <td>NaN</td>\n      <td>NaN</td>\n    </tr>\n    <tr>\n      <th>38</th>\n      <td>OOP</td>\n      <td>20</td>\n      <td>12</td>\n      <td>12</td>\n      <td>4</td>\n      <td>48</td>\n      <td>NaN</td>\n      <td>NaN</td>\n    </tr>\n    <tr>\n      <th>7</th>\n      <td>OOP</td>\n      <td>20</td>\n      <td>12</td>\n      <td>10</td>\n      <td>5</td>\n      <td>47</td>\n      <td>NaN</td>\n      <td>NaN</td>\n    </tr>\n    <tr>\n      <th>18</th>\n      <td>OOP</td>\n      <td>20</td>\n      <td>14</td>\n      <td>9</td>\n      <td>3</td>\n      <td>46</td>\n      <td>NaN</td>\n      <td>NaN</td>\n    </tr>\n    <tr>\n      <th>30</th>\n      <td>OOP</td>\n      <td>20</td>\n      <td>10</td>\n      <td>11</td>\n      <td>5</td>\n      <td>46</td>\n      <td>NaN</td>\n      <td>NaN</td>\n    </tr>\n    <tr>\n      <th>37</th>\n      <td>OOP</td>\n      <td>20</td>\n      <td>15</td>\n      <td>7</td>\n      <td>3</td>\n      <td>45</td>\n      <td>NaN</td>\n      <td>NaN</td>\n    </tr>\n    <tr>\n      <th>26</th>\n      <td>OOP</td>\n      <td>20</td>\n      <td>16</td>\n      <td>5</td>\n      <td>3</td>\n      <td>44</td>\n      <td>NaN</td>\n      <td>NaN</td>\n    </tr>\n    <tr>\n      <th>23</th>\n      <td>OOP</td>\n      <td>20</td>\n      <td>9</td>\n      <td>7</td>\n      <td>4</td>\n      <td>40</td>\n      <td>NaN</td>\n      <td>NaN</td>\n    </tr>\n    <tr>\n      <th>33</th>\n      <td>OOP</td>\n      <td>20</td>\n      <td>10</td>\n      <td>8</td>\n      <td>2</td>\n      <td>40</td>\n      <td>NaN</td>\n      <td>NaN</td>\n    </tr>\n    <tr>\n      <th>11</th>\n      <td>OOP</td>\n      <td>16</td>\n      <td>2</td>\n      <td>17</td>\n      <td>4</td>\n      <td>39</td>\n      <td>NaN</td>\n      <td>NaN</td>\n    </tr>\n    <tr>\n      <th>32</th>\n      <td>OOP</td>\n      <td>20</td>\n      <td>13</td>\n      <td>2</td>\n      <td>4</td>\n      <td>39</td>\n      <td>NaN</td>\n      <td>NaN</td>\n    </tr>\n    <tr>\n      <th>35</th>\n      <td>OOP</td>\n      <td>15</td>\n      <td>12</td>\n      <td>8</td>\n      <td>4</td>\n      <td>39</td>\n      <td>NaN</td>\n      <td>NaN</td>\n    </tr>\n    <tr>\n      <th>31</th>\n      <td>OOP</td>\n      <td>20</td>\n      <td>10</td>\n      <td>6</td>\n      <td>1</td>\n      <td>37</td>\n      <td>NaN</td>\n      <td>NaN</td>\n    </tr>\n    <tr>\n      <th>42</th>\n      <td>OOP</td>\n      <td>20</td>\n      <td>13</td>\n      <td>3</td>\n      <td>1</td>\n      <td>37</td>\n      <td>NaN</td>\n      <td>NaN</td>\n    </tr>\n    <tr>\n      <th>40</th>\n      <td>OOP</td>\n      <td>20</td>\n      <td>12</td>\n      <td>2</td>\n      <td>2</td>\n      <td>36</td>\n      <td>NaN</td>\n      <td>NaN</td>\n    </tr>\n    <tr>\n      <th>19</th>\n      <td>OOP</td>\n      <td>17</td>\n      <td>2</td>\n      <td>1</td>\n      <td>0</td>\n      <td>20</td>\n      <td>NaN</td>\n      <td>NaN</td>\n    </tr>\n    <tr>\n      <th>6</th>\n      <td>OOP</td>\n      <td>0</td>\n      <td>0</td>\n      <td>0</td>\n      <td>0</td>\n      <td>0</td>\n      <td>NaN</td>\n      <td>NaN</td>\n    </tr>\n    <tr>\n      <th>8</th>\n      <td>OOP</td>\n      <td>0</td>\n      <td>0</td>\n      <td>0</td>\n      <td>0</td>\n      <td>0</td>\n      <td>NaN</td>\n      <td>NaN</td>\n    </tr>\n    <tr>\n      <th>17</th>\n      <td>OOP</td>\n      <td>0</td>\n      <td>0</td>\n      <td>0</td>\n      <td>0</td>\n      <td>0</td>\n      <td>NaN</td>\n      <td>NaN</td>\n    </tr>\n    <tr>\n      <th>21</th>\n      <td>OOP</td>\n      <td>0</td>\n      <td>0</td>\n      <td>0</td>\n      <td>0</td>\n      <td>0</td>\n      <td>NaN</td>\n      <td>NaN</td>\n    </tr>\n    <tr>\n      <th>25</th>\n      <td>OOP</td>\n      <td>0</td>\n      <td>0</td>\n      <td>0</td>\n      <td>0</td>\n      <td>0</td>\n      <td>NaN</td>\n      <td>NaN</td>\n    </tr>\n    <tr>\n      <th>28</th>\n      <td>OOP</td>\n      <td>0</td>\n      <td>0</td>\n      <td>0</td>\n      <td>0</td>\n      <td>0</td>\n      <td>NaN</td>\n      <td>NaN</td>\n    </tr>\n    <tr>\n      <th>43</th>\n      <td>OOP</td>\n      <td>0</td>\n      <td>0</td>\n      <td>0</td>\n      <td>0</td>\n      <td>0</td>\n      <td>NaN</td>\n      <td>NaN</td>\n    </tr>\n  </tbody>\n</table>\n</div>"
     },
     "execution_count": 55,
     "metadata": {},
     "output_type": "execute_result"
    }
   ],
   "source": [
    "# 28\n",
    "df.drop(columns = '중간기말총점', inplace=True)\n",
    "df"
   ],
   "metadata": {
    "collapsed": false,
    "pycharm": {
     "name": "#%%\n"
    }
   }
  },
  {
   "cell_type": "code",
   "execution_count": 63,
   "outputs": [
    {
     "data": {
      "text/plain": "    과목명  출결점수  과제  중간고사  기말고사  총점     StdNum   학점\n12  OOP    20  17    30    30  97        NaN  NaN\n20  OOP    20  17    29    28  94        NaN  NaN\n15  OOP    20  17    26    30  93        NaN  NaN\n4   OOP    20  17    26    29  92        NaN  NaN\n1   OOP    20  17    25    29  91        NaN  NaN\n44   AI    20  17    25    23  85  2000000.0   B+\n45   AI    20  17    25    23  85  2000000.0   B+\n2   OOP    20  18    16    28  82        NaN  NaN\n22  OOP    20  13    19    29  81        NaN  NaN\n16  OOP    20  14    22    22  78        NaN  NaN\n27  OOP    20  20    27    10  77        NaN  NaN\n41  OOP    20  16    18    23  77        NaN  NaN\n5   OOP    20   9    20    26  75        NaN  NaN\n46   AI    19  16    22    27  74  2000001.0    C\n3   OOP    20  16    21    12  69        NaN  NaN\n14  OOP    20  15    19    14  68        NaN  NaN\n34  OOP    20  18    19     6  63        NaN  NaN\n9   OOP    20  15    15    11  61        NaN  NaN\n24  OOP    20  11    17    13  61        NaN  NaN\n36  OOP    20  14    10    15  59        NaN  NaN\n13  OOP    20  15    12     8  55        NaN  NaN\n39  OOP    20  17    13     4  54        NaN  NaN\n29  OOP    20  14    13     2  49        NaN  NaN\n10  OOP    19   9    12     8  48        NaN  NaN\n38  OOP    20  12    12     4  48        NaN  NaN\n7   OOP    20  12    10     5  47        NaN  NaN\n18  OOP    20  14     9     3  46        NaN  NaN\n30  OOP    20  10    11     5  46        NaN  NaN\n37  OOP    20  15     7     3  45        NaN  NaN\n26  OOP    20  16     5     3  44        NaN  NaN\n23  OOP    20   9     7     4  40        NaN  NaN\n33  OOP    20  10     8     2  40        NaN  NaN\n11  OOP    16   2    17     4  39        NaN  NaN\n32  OOP    20  13     2     4  39        NaN  NaN\n35  OOP    15  12     8     4  39        NaN  NaN\n31  OOP    20  10     6     1  37        NaN  NaN\n42  OOP    20  13     3     1  37        NaN  NaN\n40  OOP    20  12     2     2  36        NaN  NaN\n19  OOP    17   2     1     0  20        NaN  NaN\n6   OOP     0   0     0     0   0        NaN  NaN\n8   OOP     0   0     0     0   0        NaN  NaN\n17  OOP     0   0     0     0   0        NaN  NaN\n21  OOP     0   0     0     0   0        NaN  NaN\n25  OOP     0   0     0     0   0        NaN  NaN\n28  OOP     0   0     0     0   0        NaN  NaN\n43  OOP     0   0     0     0   0        NaN  NaN",
      "text/html": "<div>\n<style scoped>\n    .dataframe tbody tr th:only-of-type {\n        vertical-align: middle;\n    }\n\n    .dataframe tbody tr th {\n        vertical-align: top;\n    }\n\n    .dataframe thead th {\n        text-align: right;\n    }\n</style>\n<table border=\"1\" class=\"dataframe\">\n  <thead>\n    <tr style=\"text-align: right;\">\n      <th></th>\n      <th>과목명</th>\n      <th>출결점수</th>\n      <th>과제</th>\n      <th>중간고사</th>\n      <th>기말고사</th>\n      <th>총점</th>\n      <th>StdNum</th>\n      <th>학점</th>\n    </tr>\n  </thead>\n  <tbody>\n    <tr>\n      <th>12</th>\n      <td>OOP</td>\n      <td>20</td>\n      <td>17</td>\n      <td>30</td>\n      <td>30</td>\n      <td>97</td>\n      <td>NaN</td>\n      <td>NaN</td>\n    </tr>\n    <tr>\n      <th>20</th>\n      <td>OOP</td>\n      <td>20</td>\n      <td>17</td>\n      <td>29</td>\n      <td>28</td>\n      <td>94</td>\n      <td>NaN</td>\n      <td>NaN</td>\n    </tr>\n    <tr>\n      <th>15</th>\n      <td>OOP</td>\n      <td>20</td>\n      <td>17</td>\n      <td>26</td>\n      <td>30</td>\n      <td>93</td>\n      <td>NaN</td>\n      <td>NaN</td>\n    </tr>\n    <tr>\n      <th>4</th>\n      <td>OOP</td>\n      <td>20</td>\n      <td>17</td>\n      <td>26</td>\n      <td>29</td>\n      <td>92</td>\n      <td>NaN</td>\n      <td>NaN</td>\n    </tr>\n    <tr>\n      <th>1</th>\n      <td>OOP</td>\n      <td>20</td>\n      <td>17</td>\n      <td>25</td>\n      <td>29</td>\n      <td>91</td>\n      <td>NaN</td>\n      <td>NaN</td>\n    </tr>\n    <tr>\n      <th>44</th>\n      <td>AI</td>\n      <td>20</td>\n      <td>17</td>\n      <td>25</td>\n      <td>23</td>\n      <td>85</td>\n      <td>2000000.0</td>\n      <td>B+</td>\n    </tr>\n    <tr>\n      <th>45</th>\n      <td>AI</td>\n      <td>20</td>\n      <td>17</td>\n      <td>25</td>\n      <td>23</td>\n      <td>85</td>\n      <td>2000000.0</td>\n      <td>B+</td>\n    </tr>\n    <tr>\n      <th>2</th>\n      <td>OOP</td>\n      <td>20</td>\n      <td>18</td>\n      <td>16</td>\n      <td>28</td>\n      <td>82</td>\n      <td>NaN</td>\n      <td>NaN</td>\n    </tr>\n    <tr>\n      <th>22</th>\n      <td>OOP</td>\n      <td>20</td>\n      <td>13</td>\n      <td>19</td>\n      <td>29</td>\n      <td>81</td>\n      <td>NaN</td>\n      <td>NaN</td>\n    </tr>\n    <tr>\n      <th>16</th>\n      <td>OOP</td>\n      <td>20</td>\n      <td>14</td>\n      <td>22</td>\n      <td>22</td>\n      <td>78</td>\n      <td>NaN</td>\n      <td>NaN</td>\n    </tr>\n    <tr>\n      <th>27</th>\n      <td>OOP</td>\n      <td>20</td>\n      <td>20</td>\n      <td>27</td>\n      <td>10</td>\n      <td>77</td>\n      <td>NaN</td>\n      <td>NaN</td>\n    </tr>\n    <tr>\n      <th>41</th>\n      <td>OOP</td>\n      <td>20</td>\n      <td>16</td>\n      <td>18</td>\n      <td>23</td>\n      <td>77</td>\n      <td>NaN</td>\n      <td>NaN</td>\n    </tr>\n    <tr>\n      <th>5</th>\n      <td>OOP</td>\n      <td>20</td>\n      <td>9</td>\n      <td>20</td>\n      <td>26</td>\n      <td>75</td>\n      <td>NaN</td>\n      <td>NaN</td>\n    </tr>\n    <tr>\n      <th>46</th>\n      <td>AI</td>\n      <td>19</td>\n      <td>16</td>\n      <td>22</td>\n      <td>27</td>\n      <td>74</td>\n      <td>2000001.0</td>\n      <td>C</td>\n    </tr>\n    <tr>\n      <th>3</th>\n      <td>OOP</td>\n      <td>20</td>\n      <td>16</td>\n      <td>21</td>\n      <td>12</td>\n      <td>69</td>\n      <td>NaN</td>\n      <td>NaN</td>\n    </tr>\n    <tr>\n      <th>14</th>\n      <td>OOP</td>\n      <td>20</td>\n      <td>15</td>\n      <td>19</td>\n      <td>14</td>\n      <td>68</td>\n      <td>NaN</td>\n      <td>NaN</td>\n    </tr>\n    <tr>\n      <th>34</th>\n      <td>OOP</td>\n      <td>20</td>\n      <td>18</td>\n      <td>19</td>\n      <td>6</td>\n      <td>63</td>\n      <td>NaN</td>\n      <td>NaN</td>\n    </tr>\n    <tr>\n      <th>9</th>\n      <td>OOP</td>\n      <td>20</td>\n      <td>15</td>\n      <td>15</td>\n      <td>11</td>\n      <td>61</td>\n      <td>NaN</td>\n      <td>NaN</td>\n    </tr>\n    <tr>\n      <th>24</th>\n      <td>OOP</td>\n      <td>20</td>\n      <td>11</td>\n      <td>17</td>\n      <td>13</td>\n      <td>61</td>\n      <td>NaN</td>\n      <td>NaN</td>\n    </tr>\n    <tr>\n      <th>36</th>\n      <td>OOP</td>\n      <td>20</td>\n      <td>14</td>\n      <td>10</td>\n      <td>15</td>\n      <td>59</td>\n      <td>NaN</td>\n      <td>NaN</td>\n    </tr>\n    <tr>\n      <th>13</th>\n      <td>OOP</td>\n      <td>20</td>\n      <td>15</td>\n      <td>12</td>\n      <td>8</td>\n      <td>55</td>\n      <td>NaN</td>\n      <td>NaN</td>\n    </tr>\n    <tr>\n      <th>39</th>\n      <td>OOP</td>\n      <td>20</td>\n      <td>17</td>\n      <td>13</td>\n      <td>4</td>\n      <td>54</td>\n      <td>NaN</td>\n      <td>NaN</td>\n    </tr>\n    <tr>\n      <th>29</th>\n      <td>OOP</td>\n      <td>20</td>\n      <td>14</td>\n      <td>13</td>\n      <td>2</td>\n      <td>49</td>\n      <td>NaN</td>\n      <td>NaN</td>\n    </tr>\n    <tr>\n      <th>10</th>\n      <td>OOP</td>\n      <td>19</td>\n      <td>9</td>\n      <td>12</td>\n      <td>8</td>\n      <td>48</td>\n      <td>NaN</td>\n      <td>NaN</td>\n    </tr>\n    <tr>\n      <th>38</th>\n      <td>OOP</td>\n      <td>20</td>\n      <td>12</td>\n      <td>12</td>\n      <td>4</td>\n      <td>48</td>\n      <td>NaN</td>\n      <td>NaN</td>\n    </tr>\n    <tr>\n      <th>7</th>\n      <td>OOP</td>\n      <td>20</td>\n      <td>12</td>\n      <td>10</td>\n      <td>5</td>\n      <td>47</td>\n      <td>NaN</td>\n      <td>NaN</td>\n    </tr>\n    <tr>\n      <th>18</th>\n      <td>OOP</td>\n      <td>20</td>\n      <td>14</td>\n      <td>9</td>\n      <td>3</td>\n      <td>46</td>\n      <td>NaN</td>\n      <td>NaN</td>\n    </tr>\n    <tr>\n      <th>30</th>\n      <td>OOP</td>\n      <td>20</td>\n      <td>10</td>\n      <td>11</td>\n      <td>5</td>\n      <td>46</td>\n      <td>NaN</td>\n      <td>NaN</td>\n    </tr>\n    <tr>\n      <th>37</th>\n      <td>OOP</td>\n      <td>20</td>\n      <td>15</td>\n      <td>7</td>\n      <td>3</td>\n      <td>45</td>\n      <td>NaN</td>\n      <td>NaN</td>\n    </tr>\n    <tr>\n      <th>26</th>\n      <td>OOP</td>\n      <td>20</td>\n      <td>16</td>\n      <td>5</td>\n      <td>3</td>\n      <td>44</td>\n      <td>NaN</td>\n      <td>NaN</td>\n    </tr>\n    <tr>\n      <th>23</th>\n      <td>OOP</td>\n      <td>20</td>\n      <td>9</td>\n      <td>7</td>\n      <td>4</td>\n      <td>40</td>\n      <td>NaN</td>\n      <td>NaN</td>\n    </tr>\n    <tr>\n      <th>33</th>\n      <td>OOP</td>\n      <td>20</td>\n      <td>10</td>\n      <td>8</td>\n      <td>2</td>\n      <td>40</td>\n      <td>NaN</td>\n      <td>NaN</td>\n    </tr>\n    <tr>\n      <th>11</th>\n      <td>OOP</td>\n      <td>16</td>\n      <td>2</td>\n      <td>17</td>\n      <td>4</td>\n      <td>39</td>\n      <td>NaN</td>\n      <td>NaN</td>\n    </tr>\n    <tr>\n      <th>32</th>\n      <td>OOP</td>\n      <td>20</td>\n      <td>13</td>\n      <td>2</td>\n      <td>4</td>\n      <td>39</td>\n      <td>NaN</td>\n      <td>NaN</td>\n    </tr>\n    <tr>\n      <th>35</th>\n      <td>OOP</td>\n      <td>15</td>\n      <td>12</td>\n      <td>8</td>\n      <td>4</td>\n      <td>39</td>\n      <td>NaN</td>\n      <td>NaN</td>\n    </tr>\n    <tr>\n      <th>31</th>\n      <td>OOP</td>\n      <td>20</td>\n      <td>10</td>\n      <td>6</td>\n      <td>1</td>\n      <td>37</td>\n      <td>NaN</td>\n      <td>NaN</td>\n    </tr>\n    <tr>\n      <th>42</th>\n      <td>OOP</td>\n      <td>20</td>\n      <td>13</td>\n      <td>3</td>\n      <td>1</td>\n      <td>37</td>\n      <td>NaN</td>\n      <td>NaN</td>\n    </tr>\n    <tr>\n      <th>40</th>\n      <td>OOP</td>\n      <td>20</td>\n      <td>12</td>\n      <td>2</td>\n      <td>2</td>\n      <td>36</td>\n      <td>NaN</td>\n      <td>NaN</td>\n    </tr>\n    <tr>\n      <th>19</th>\n      <td>OOP</td>\n      <td>17</td>\n      <td>2</td>\n      <td>1</td>\n      <td>0</td>\n      <td>20</td>\n      <td>NaN</td>\n      <td>NaN</td>\n    </tr>\n    <tr>\n      <th>6</th>\n      <td>OOP</td>\n      <td>0</td>\n      <td>0</td>\n      <td>0</td>\n      <td>0</td>\n      <td>0</td>\n      <td>NaN</td>\n      <td>NaN</td>\n    </tr>\n    <tr>\n      <th>8</th>\n      <td>OOP</td>\n      <td>0</td>\n      <td>0</td>\n      <td>0</td>\n      <td>0</td>\n      <td>0</td>\n      <td>NaN</td>\n      <td>NaN</td>\n    </tr>\n    <tr>\n      <th>17</th>\n      <td>OOP</td>\n      <td>0</td>\n      <td>0</td>\n      <td>0</td>\n      <td>0</td>\n      <td>0</td>\n      <td>NaN</td>\n      <td>NaN</td>\n    </tr>\n    <tr>\n      <th>21</th>\n      <td>OOP</td>\n      <td>0</td>\n      <td>0</td>\n      <td>0</td>\n      <td>0</td>\n      <td>0</td>\n      <td>NaN</td>\n      <td>NaN</td>\n    </tr>\n    <tr>\n      <th>25</th>\n      <td>OOP</td>\n      <td>0</td>\n      <td>0</td>\n      <td>0</td>\n      <td>0</td>\n      <td>0</td>\n      <td>NaN</td>\n      <td>NaN</td>\n    </tr>\n    <tr>\n      <th>28</th>\n      <td>OOP</td>\n      <td>0</td>\n      <td>0</td>\n      <td>0</td>\n      <td>0</td>\n      <td>0</td>\n      <td>NaN</td>\n      <td>NaN</td>\n    </tr>\n    <tr>\n      <th>43</th>\n      <td>OOP</td>\n      <td>0</td>\n      <td>0</td>\n      <td>0</td>\n      <td>0</td>\n      <td>0</td>\n      <td>NaN</td>\n      <td>NaN</td>\n    </tr>\n  </tbody>\n</table>\n</div>"
     },
     "execution_count": 63,
     "metadata": {},
     "output_type": "execute_result"
    }
   ],
   "source": [
    "# 29\n",
    "filt = [i for i in df['총점'] if i == 0]\n",
    "df.drop(filt, inplace=True)\n",
    "df"
   ],
   "metadata": {
    "collapsed": false,
    "pycharm": {
     "name": "#%%\n"
    }
   }
  },
  {
   "cell_type": "code",
   "execution_count": 60,
   "outputs": [
    {
     "data": {
      "text/plain": "    과목명  출결점수  과제  중간고사  기말고사  총점  StdNum   학점\n43  OOP     0   0     0     0   0     NaN  NaN\n6   OOP     0   0     0     0   0     NaN  NaN\n8   OOP     0   0     0     0   0     NaN  NaN\n28  OOP     0   0     0     0   0     NaN  NaN\n21  OOP     0   0     0     0   0     NaN  NaN",
      "text/html": "<div>\n<style scoped>\n    .dataframe tbody tr th:only-of-type {\n        vertical-align: middle;\n    }\n\n    .dataframe tbody tr th {\n        vertical-align: top;\n    }\n\n    .dataframe thead th {\n        text-align: right;\n    }\n</style>\n<table border=\"1\" class=\"dataframe\">\n  <thead>\n    <tr style=\"text-align: right;\">\n      <th></th>\n      <th>과목명</th>\n      <th>출결점수</th>\n      <th>과제</th>\n      <th>중간고사</th>\n      <th>기말고사</th>\n      <th>총점</th>\n      <th>StdNum</th>\n      <th>학점</th>\n    </tr>\n  </thead>\n  <tbody>\n    <tr>\n      <th>43</th>\n      <td>OOP</td>\n      <td>0</td>\n      <td>0</td>\n      <td>0</td>\n      <td>0</td>\n      <td>0</td>\n      <td>NaN</td>\n      <td>NaN</td>\n    </tr>\n    <tr>\n      <th>6</th>\n      <td>OOP</td>\n      <td>0</td>\n      <td>0</td>\n      <td>0</td>\n      <td>0</td>\n      <td>0</td>\n      <td>NaN</td>\n      <td>NaN</td>\n    </tr>\n    <tr>\n      <th>8</th>\n      <td>OOP</td>\n      <td>0</td>\n      <td>0</td>\n      <td>0</td>\n      <td>0</td>\n      <td>0</td>\n      <td>NaN</td>\n      <td>NaN</td>\n    </tr>\n    <tr>\n      <th>28</th>\n      <td>OOP</td>\n      <td>0</td>\n      <td>0</td>\n      <td>0</td>\n      <td>0</td>\n      <td>0</td>\n      <td>NaN</td>\n      <td>NaN</td>\n    </tr>\n    <tr>\n      <th>21</th>\n      <td>OOP</td>\n      <td>0</td>\n      <td>0</td>\n      <td>0</td>\n      <td>0</td>\n      <td>0</td>\n      <td>NaN</td>\n      <td>NaN</td>\n    </tr>\n  </tbody>\n</table>\n</div>"
     },
     "execution_count": 60,
     "metadata": {},
     "output_type": "execute_result"
    }
   ],
   "source": [
    "# 30\n",
    "df.sort_values(by='총점').head(5)"
   ],
   "metadata": {
    "collapsed": false,
    "pycharm": {
     "name": "#%%\n"
    }
   }
  },
  {
   "cell_type": "code",
   "execution_count": null,
   "outputs": [],
   "source": [],
   "metadata": {
    "collapsed": false,
    "pycharm": {
     "name": "#%%\n"
    }
   }
  }
 ],
 "metadata": {
  "kernelspec": {
   "display_name": "Python 3",
   "language": "python",
   "name": "python3"
  },
  "language_info": {
   "codemirror_mode": {
    "name": "ipython",
    "version": 2
   },
   "file_extension": ".py",
   "mimetype": "text/x-python",
   "name": "python",
   "nbconvert_exporter": "python",
   "pygments_lexer": "ipython2",
   "version": "2.7.6"
  }
 },
 "nbformat": 4,
 "nbformat_minor": 0
}