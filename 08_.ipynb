{
 "cells": [
  {
   "cell_type": "code",
   "execution_count": 1,
   "metadata": {
    "collapsed": true
   },
   "outputs": [],
   "source": [
    "import pandas as pd"
   ]
  },
  {
   "cell_type": "code",
   "execution_count": 30,
   "outputs": [],
   "source": [
    "people = {\n",
    "    \"first\" : [\"길동\", \"춘향\", \"몽룡\"],\n",
    "    \"last\" : [\"홍\", \"성\", \"이\"],\n",
    "    \"email\" : [\"gdhong@gmail.com\", \"chsung@gmail.com\", \"mrlee@gmail.com\"]\n",
    "}"
   ],
   "metadata": {
    "collapsed": false,
    "pycharm": {
     "name": "#%%\n"
    }
   }
  },
  {
   "cell_type": "code",
   "execution_count": 31,
   "outputs": [],
   "source": [
    "df = pd.DataFrame(people)"
   ],
   "metadata": {
    "collapsed": false,
    "pycharm": {
     "name": "#%%\n"
    }
   }
  },
  {
   "cell_type": "code",
   "execution_count": 32,
   "outputs": [
    {
     "data": {
      "text/plain": "  first last             email\n0    길동    홍  gdhong@gmail.com\n1    춘향    성  chsung@gmail.com\n2    몽룡    이   mrlee@gmail.com",
      "text/html": "<div>\n<style scoped>\n    .dataframe tbody tr th:only-of-type {\n        vertical-align: middle;\n    }\n\n    .dataframe tbody tr th {\n        vertical-align: top;\n    }\n\n    .dataframe thead th {\n        text-align: right;\n    }\n</style>\n<table border=\"1\" class=\"dataframe\">\n  <thead>\n    <tr style=\"text-align: right;\">\n      <th></th>\n      <th>first</th>\n      <th>last</th>\n      <th>email</th>\n    </tr>\n  </thead>\n  <tbody>\n    <tr>\n      <th>0</th>\n      <td>길동</td>\n      <td>홍</td>\n      <td>gdhong@gmail.com</td>\n    </tr>\n    <tr>\n      <th>1</th>\n      <td>춘향</td>\n      <td>성</td>\n      <td>chsung@gmail.com</td>\n    </tr>\n    <tr>\n      <th>2</th>\n      <td>몽룡</td>\n      <td>이</td>\n      <td>mrlee@gmail.com</td>\n    </tr>\n  </tbody>\n</table>\n</div>"
     },
     "execution_count": 32,
     "metadata": {},
     "output_type": "execute_result"
    }
   ],
   "source": [
    "df"
   ],
   "metadata": {
    "collapsed": false,
    "pycharm": {
     "name": "#%%\n"
    }
   }
  },
  {
   "cell_type": "code",
   "execution_count": 7,
   "outputs": [
    {
     "data": {
      "text/plain": "0    길동 홍\n1    춘향 성\n2    몽룡 이\ndtype: object"
     },
     "execution_count": 7,
     "metadata": {},
     "output_type": "execute_result"
    }
   ],
   "source": [
    "df['이름'] + ' ' + df['성']"
   ],
   "metadata": {
    "collapsed": false,
    "pycharm": {
     "name": "#%%\n"
    }
   }
  },
  {
   "cell_type": "markdown",
   "source": [
    "first 칼럼과 last 칼럼의 값으 합치고, 그 결과를 추가되는 full_name 칼럼에 저장하자."
   ],
   "metadata": {
    "collapsed": false,
    "pycharm": {
     "name": "#%% md\n"
    }
   }
  },
  {
   "cell_type": "code",
   "execution_count": 8,
   "outputs": [],
   "source": [
    "df['full_name'] = df['이름'] + ' ' + df['성']"
   ],
   "metadata": {
    "collapsed": false,
    "pycharm": {
     "name": "#%%\n"
    }
   }
  },
  {
   "cell_type": "code",
   "execution_count": 9,
   "outputs": [
    {
     "data": {
      "text/plain": "   이름  성               이메일 full_name\n0  길동  홍  gdhong@gmail.com      길동 홍\n1  춘향  성  chsung@gmail.com      춘향 성\n2  몽룡  이   mrlee@gmail.com      몽룡 이",
      "text/html": "<div>\n<style scoped>\n    .dataframe tbody tr th:only-of-type {\n        vertical-align: middle;\n    }\n\n    .dataframe tbody tr th {\n        vertical-align: top;\n    }\n\n    .dataframe thead th {\n        text-align: right;\n    }\n</style>\n<table border=\"1\" class=\"dataframe\">\n  <thead>\n    <tr style=\"text-align: right;\">\n      <th></th>\n      <th>이름</th>\n      <th>성</th>\n      <th>이메일</th>\n      <th>full_name</th>\n    </tr>\n  </thead>\n  <tbody>\n    <tr>\n      <th>0</th>\n      <td>길동</td>\n      <td>홍</td>\n      <td>gdhong@gmail.com</td>\n      <td>길동 홍</td>\n    </tr>\n    <tr>\n      <th>1</th>\n      <td>춘향</td>\n      <td>성</td>\n      <td>chsung@gmail.com</td>\n      <td>춘향 성</td>\n    </tr>\n    <tr>\n      <th>2</th>\n      <td>몽룡</td>\n      <td>이</td>\n      <td>mrlee@gmail.com</td>\n      <td>몽룡 이</td>\n    </tr>\n  </tbody>\n</table>\n</div>"
     },
     "execution_count": 9,
     "metadata": {},
     "output_type": "execute_result"
    }
   ],
   "source": [
    "df"
   ],
   "metadata": {
    "collapsed": false,
    "pycharm": {
     "name": "#%%\n"
    }
   }
  },
  {
   "cell_type": "code",
   "execution_count": 10,
   "outputs": [
    {
     "data": {
      "text/plain": "                이메일 full_name\n0  gdhong@gmail.com      길동 홍\n1  chsung@gmail.com      춘향 성\n2   mrlee@gmail.com      몽룡 이",
      "text/html": "<div>\n<style scoped>\n    .dataframe tbody tr th:only-of-type {\n        vertical-align: middle;\n    }\n\n    .dataframe tbody tr th {\n        vertical-align: top;\n    }\n\n    .dataframe thead th {\n        text-align: right;\n    }\n</style>\n<table border=\"1\" class=\"dataframe\">\n  <thead>\n    <tr style=\"text-align: right;\">\n      <th></th>\n      <th>이메일</th>\n      <th>full_name</th>\n    </tr>\n  </thead>\n  <tbody>\n    <tr>\n      <th>0</th>\n      <td>gdhong@gmail.com</td>\n      <td>길동 홍</td>\n    </tr>\n    <tr>\n      <th>1</th>\n      <td>chsung@gmail.com</td>\n      <td>춘향 성</td>\n    </tr>\n    <tr>\n      <th>2</th>\n      <td>mrlee@gmail.com</td>\n      <td>몽룡 이</td>\n    </tr>\n  </tbody>\n</table>\n</div>"
     },
     "execution_count": 10,
     "metadata": {},
     "output_type": "execute_result"
    }
   ],
   "source": [
    "df.drop(columns=['이름','성'])"
   ],
   "metadata": {
    "collapsed": false,
    "pycharm": {
     "name": "#%%\n"
    }
   }
  },
  {
   "cell_type": "code",
   "execution_count": 11,
   "outputs": [],
   "source": [
    "df.drop(columns=['이름','성'], inplace=True)"
   ],
   "metadata": {
    "collapsed": false,
    "pycharm": {
     "name": "#%%\n"
    }
   }
  },
  {
   "cell_type": "code",
   "execution_count": 12,
   "outputs": [
    {
     "data": {
      "text/plain": "                이메일 full_name\n0  gdhong@gmail.com      길동 홍\n1  chsung@gmail.com      춘향 성\n2   mrlee@gmail.com      몽룡 이",
      "text/html": "<div>\n<style scoped>\n    .dataframe tbody tr th:only-of-type {\n        vertical-align: middle;\n    }\n\n    .dataframe tbody tr th {\n        vertical-align: top;\n    }\n\n    .dataframe thead th {\n        text-align: right;\n    }\n</style>\n<table border=\"1\" class=\"dataframe\">\n  <thead>\n    <tr style=\"text-align: right;\">\n      <th></th>\n      <th>이메일</th>\n      <th>full_name</th>\n    </tr>\n  </thead>\n  <tbody>\n    <tr>\n      <th>0</th>\n      <td>gdhong@gmail.com</td>\n      <td>길동 홍</td>\n    </tr>\n    <tr>\n      <th>1</th>\n      <td>chsung@gmail.com</td>\n      <td>춘향 성</td>\n    </tr>\n    <tr>\n      <th>2</th>\n      <td>mrlee@gmail.com</td>\n      <td>몽룡 이</td>\n    </tr>\n  </tbody>\n</table>\n</div>"
     },
     "execution_count": 12,
     "metadata": {},
     "output_type": "execute_result"
    }
   ],
   "source": [
    "df"
   ],
   "metadata": {
    "collapsed": false,
    "pycharm": {
     "name": "#%%\n"
    }
   }
  },
  {
   "cell_type": "code",
   "execution_count": 13,
   "outputs": [
    {
     "data": {
      "text/plain": "0    [길동, 홍]\n1    [춘향, 성]\n2    [몽룡, 이]\nName: full_name, dtype: object"
     },
     "execution_count": 13,
     "metadata": {},
     "output_type": "execute_result"
    }
   ],
   "source": [
    "df['full_name'].str.split(' ')"
   ],
   "metadata": {
    "collapsed": false,
    "pycharm": {
     "name": "#%%\n"
    }
   }
  },
  {
   "cell_type": "markdown",
   "source": [
    "이렇게 분리된 값을 두 개의 다른 칼럼에 할당하고자 한다면 expand 인자를 사용한다."
   ],
   "metadata": {
    "collapsed": false,
    "pycharm": {
     "name": "#%% md\n"
    }
   }
  },
  {
   "cell_type": "code",
   "execution_count": 14,
   "outputs": [
    {
     "data": {
      "text/plain": "    0  1\n0  길동  홍\n1  춘향  성\n2  몽룡  이",
      "text/html": "<div>\n<style scoped>\n    .dataframe tbody tr th:only-of-type {\n        vertical-align: middle;\n    }\n\n    .dataframe tbody tr th {\n        vertical-align: top;\n    }\n\n    .dataframe thead th {\n        text-align: right;\n    }\n</style>\n<table border=\"1\" class=\"dataframe\">\n  <thead>\n    <tr style=\"text-align: right;\">\n      <th></th>\n      <th>0</th>\n      <th>1</th>\n    </tr>\n  </thead>\n  <tbody>\n    <tr>\n      <th>0</th>\n      <td>길동</td>\n      <td>홍</td>\n    </tr>\n    <tr>\n      <th>1</th>\n      <td>춘향</td>\n      <td>성</td>\n    </tr>\n    <tr>\n      <th>2</th>\n      <td>몽룡</td>\n      <td>이</td>\n    </tr>\n  </tbody>\n</table>\n</div>"
     },
     "execution_count": 14,
     "metadata": {},
     "output_type": "execute_result"
    }
   ],
   "source": [
    "df['full_name'].str.split(' ', expand=True)"
   ],
   "metadata": {
    "collapsed": false,
    "pycharm": {
     "name": "#%%\n"
    }
   }
  },
  {
   "cell_type": "code",
   "execution_count": 15,
   "outputs": [],
   "source": [
    "df[['first', 'last']] = df['full_name'].str.split(' ', expand=True)"
   ],
   "metadata": {
    "collapsed": false,
    "pycharm": {
     "name": "#%%\n"
    }
   }
  },
  {
   "cell_type": "code",
   "execution_count": 16,
   "outputs": [
    {
     "data": {
      "text/plain": "                이메일 full_name first last\n0  gdhong@gmail.com      길동 홍    길동    홍\n1  chsung@gmail.com      춘향 성    춘향    성\n2   mrlee@gmail.com      몽룡 이    몽룡    이",
      "text/html": "<div>\n<style scoped>\n    .dataframe tbody tr th:only-of-type {\n        vertical-align: middle;\n    }\n\n    .dataframe tbody tr th {\n        vertical-align: top;\n    }\n\n    .dataframe thead th {\n        text-align: right;\n    }\n</style>\n<table border=\"1\" class=\"dataframe\">\n  <thead>\n    <tr style=\"text-align: right;\">\n      <th></th>\n      <th>이메일</th>\n      <th>full_name</th>\n      <th>first</th>\n      <th>last</th>\n    </tr>\n  </thead>\n  <tbody>\n    <tr>\n      <th>0</th>\n      <td>gdhong@gmail.com</td>\n      <td>길동 홍</td>\n      <td>길동</td>\n      <td>홍</td>\n    </tr>\n    <tr>\n      <th>1</th>\n      <td>chsung@gmail.com</td>\n      <td>춘향 성</td>\n      <td>춘향</td>\n      <td>성</td>\n    </tr>\n    <tr>\n      <th>2</th>\n      <td>mrlee@gmail.com</td>\n      <td>몽룡 이</td>\n      <td>몽룡</td>\n      <td>이</td>\n    </tr>\n  </tbody>\n</table>\n</div>"
     },
     "execution_count": 16,
     "metadata": {},
     "output_type": "execute_result"
    }
   ],
   "source": [
    "df"
   ],
   "metadata": {
    "collapsed": false,
    "pycharm": {
     "name": "#%%\n"
    }
   }
  },
  {
   "cell_type": "code",
   "execution_count": 17,
   "outputs": [
    {
     "data": {
      "text/plain": "                이메일 full_name   first  last\n0  gdhong@gmail.com      길동 홍      길동     홍\n1  chsung@gmail.com      춘향 성      춘향     성\n2   mrlee@gmail.com      몽룡 이      몽룡     이\n3               NaN       NaN  chanho  Park",
      "text/html": "<div>\n<style scoped>\n    .dataframe tbody tr th:only-of-type {\n        vertical-align: middle;\n    }\n\n    .dataframe tbody tr th {\n        vertical-align: top;\n    }\n\n    .dataframe thead th {\n        text-align: right;\n    }\n</style>\n<table border=\"1\" class=\"dataframe\">\n  <thead>\n    <tr style=\"text-align: right;\">\n      <th></th>\n      <th>이메일</th>\n      <th>full_name</th>\n      <th>first</th>\n      <th>last</th>\n    </tr>\n  </thead>\n  <tbody>\n    <tr>\n      <th>0</th>\n      <td>gdhong@gmail.com</td>\n      <td>길동 홍</td>\n      <td>길동</td>\n      <td>홍</td>\n    </tr>\n    <tr>\n      <th>1</th>\n      <td>chsung@gmail.com</td>\n      <td>춘향 성</td>\n      <td>춘향</td>\n      <td>성</td>\n    </tr>\n    <tr>\n      <th>2</th>\n      <td>mrlee@gmail.com</td>\n      <td>몽룡 이</td>\n      <td>몽룡</td>\n      <td>이</td>\n    </tr>\n    <tr>\n      <th>3</th>\n      <td>NaN</td>\n      <td>NaN</td>\n      <td>chanho</td>\n      <td>Park</td>\n    </tr>\n  </tbody>\n</table>\n</div>"
     },
     "execution_count": 17,
     "metadata": {},
     "output_type": "execute_result"
    }
   ],
   "source": [
    "df.append({'first' : 'chanho', 'last' : 'Park'}, ignore_index=True)"
   ],
   "metadata": {
    "collapsed": false,
    "pycharm": {
     "name": "#%%\n"
    }
   }
  },
  {
   "cell_type": "code",
   "execution_count": 18,
   "outputs": [
    {
     "data": {
      "text/plain": "                이메일 full_name first last\n0  gdhong@gmail.com      길동 홍    길동    홍\n1  chsung@gmail.com      춘향 성    춘향    성\n2   mrlee@gmail.com      몽룡 이    몽룡    이",
      "text/html": "<div>\n<style scoped>\n    .dataframe tbody tr th:only-of-type {\n        vertical-align: middle;\n    }\n\n    .dataframe tbody tr th {\n        vertical-align: top;\n    }\n\n    .dataframe thead th {\n        text-align: right;\n    }\n</style>\n<table border=\"1\" class=\"dataframe\">\n  <thead>\n    <tr style=\"text-align: right;\">\n      <th></th>\n      <th>이메일</th>\n      <th>full_name</th>\n      <th>first</th>\n      <th>last</th>\n    </tr>\n  </thead>\n  <tbody>\n    <tr>\n      <th>0</th>\n      <td>gdhong@gmail.com</td>\n      <td>길동 홍</td>\n      <td>길동</td>\n      <td>홍</td>\n    </tr>\n    <tr>\n      <th>1</th>\n      <td>chsung@gmail.com</td>\n      <td>춘향 성</td>\n      <td>춘향</td>\n      <td>성</td>\n    </tr>\n    <tr>\n      <th>2</th>\n      <td>mrlee@gmail.com</td>\n      <td>몽룡 이</td>\n      <td>몽룡</td>\n      <td>이</td>\n    </tr>\n  </tbody>\n</table>\n</div>"
     },
     "execution_count": 18,
     "metadata": {},
     "output_type": "execute_result"
    }
   ],
   "source": [
    "df"
   ],
   "metadata": {
    "collapsed": false,
    "pycharm": {
     "name": "#%%\n"
    }
   }
  },
  {
   "cell_type": "code",
   "execution_count": 35,
   "outputs": [],
   "source": [
    "df = df.append({'first' : 'chanho', 'last' : 'Park'}, ignore_index=True)"
   ],
   "metadata": {
    "collapsed": false,
    "pycharm": {
     "name": "#%%\n"
    }
   }
  },
  {
   "cell_type": "code",
   "execution_count": 36,
   "outputs": [
    {
     "data": {
      "text/plain": "    first  last             email\n0      길동     홍  gdhong@gmail.com\n1      춘향     성  chsung@gmail.com\n2      몽룡     이   mrlee@gmail.com\n3  chanho  Park               NaN",
      "text/html": "<div>\n<style scoped>\n    .dataframe tbody tr th:only-of-type {\n        vertical-align: middle;\n    }\n\n    .dataframe tbody tr th {\n        vertical-align: top;\n    }\n\n    .dataframe thead th {\n        text-align: right;\n    }\n</style>\n<table border=\"1\" class=\"dataframe\">\n  <thead>\n    <tr style=\"text-align: right;\">\n      <th></th>\n      <th>first</th>\n      <th>last</th>\n      <th>email</th>\n    </tr>\n  </thead>\n  <tbody>\n    <tr>\n      <th>0</th>\n      <td>길동</td>\n      <td>홍</td>\n      <td>gdhong@gmail.com</td>\n    </tr>\n    <tr>\n      <th>1</th>\n      <td>춘향</td>\n      <td>성</td>\n      <td>chsung@gmail.com</td>\n    </tr>\n    <tr>\n      <th>2</th>\n      <td>몽룡</td>\n      <td>이</td>\n      <td>mrlee@gmail.com</td>\n    </tr>\n    <tr>\n      <th>3</th>\n      <td>chanho</td>\n      <td>Park</td>\n      <td>NaN</td>\n    </tr>\n  </tbody>\n</table>\n</div>"
     },
     "execution_count": 36,
     "metadata": {},
     "output_type": "execute_result"
    }
   ],
   "source": [
    "df"
   ],
   "metadata": {
    "collapsed": false,
    "pycharm": {
     "name": "#%%\n"
    }
   }
  },
  {
   "cell_type": "code",
   "execution_count": 25,
   "outputs": [],
   "source": [
    "people = {\n",
    "    \"first\" : [\"Jisung\", \"Youngpyo\"],\n",
    "    \"last\" : [\"Park\", \"Lee\"],\n",
    "    \"email\" : [\"jspark@gmail.com\", \"yplee@gmail.com\"]\n",
    "}"
   ],
   "metadata": {
    "collapsed": false,
    "pycharm": {
     "name": "#%%\n"
    }
   }
  },
  {
   "cell_type": "code",
   "execution_count": 26,
   "outputs": [],
   "source": [
    "df2 = pd.DataFrame(people)"
   ],
   "metadata": {
    "collapsed": false,
    "pycharm": {
     "name": "#%%\n"
    }
   }
  },
  {
   "cell_type": "code",
   "execution_count": 28,
   "outputs": [
    {
     "data": {
      "text/plain": "      first  last             email\n0    Jisung  Park  jspark@gmail.com\n1  Youngpyo   Lee   yplee@gmail.com",
      "text/html": "<div>\n<style scoped>\n    .dataframe tbody tr th:only-of-type {\n        vertical-align: middle;\n    }\n\n    .dataframe tbody tr th {\n        vertical-align: top;\n    }\n\n    .dataframe thead th {\n        text-align: right;\n    }\n</style>\n<table border=\"1\" class=\"dataframe\">\n  <thead>\n    <tr style=\"text-align: right;\">\n      <th></th>\n      <th>first</th>\n      <th>last</th>\n      <th>email</th>\n    </tr>\n  </thead>\n  <tbody>\n    <tr>\n      <th>0</th>\n      <td>Jisung</td>\n      <td>Park</td>\n      <td>jspark@gmail.com</td>\n    </tr>\n    <tr>\n      <th>1</th>\n      <td>Youngpyo</td>\n      <td>Lee</td>\n      <td>yplee@gmail.com</td>\n    </tr>\n  </tbody>\n</table>\n</div>"
     },
     "execution_count": 28,
     "metadata": {},
     "output_type": "execute_result"
    }
   ],
   "source": [
    "df2"
   ],
   "metadata": {
    "collapsed": false,
    "pycharm": {
     "name": "#%%\n"
    }
   }
  },
  {
   "cell_type": "code",
   "execution_count": 33,
   "outputs": [
    {
     "data": {
      "text/plain": "      first  last             email\n0        길동     홍  gdhong@gmail.com\n1        춘향     성  chsung@gmail.com\n2        몽룡     이   mrlee@gmail.com\n0    Jisung  Park  jspark@gmail.com\n1  Youngpyo   Lee   yplee@gmail.com",
      "text/html": "<div>\n<style scoped>\n    .dataframe tbody tr th:only-of-type {\n        vertical-align: middle;\n    }\n\n    .dataframe tbody tr th {\n        vertical-align: top;\n    }\n\n    .dataframe thead th {\n        text-align: right;\n    }\n</style>\n<table border=\"1\" class=\"dataframe\">\n  <thead>\n    <tr style=\"text-align: right;\">\n      <th></th>\n      <th>first</th>\n      <th>last</th>\n      <th>email</th>\n    </tr>\n  </thead>\n  <tbody>\n    <tr>\n      <th>0</th>\n      <td>길동</td>\n      <td>홍</td>\n      <td>gdhong@gmail.com</td>\n    </tr>\n    <tr>\n      <th>1</th>\n      <td>춘향</td>\n      <td>성</td>\n      <td>chsung@gmail.com</td>\n    </tr>\n    <tr>\n      <th>2</th>\n      <td>몽룡</td>\n      <td>이</td>\n      <td>mrlee@gmail.com</td>\n    </tr>\n    <tr>\n      <th>0</th>\n      <td>Jisung</td>\n      <td>Park</td>\n      <td>jspark@gmail.com</td>\n    </tr>\n    <tr>\n      <th>1</th>\n      <td>Youngpyo</td>\n      <td>Lee</td>\n      <td>yplee@gmail.com</td>\n    </tr>\n  </tbody>\n</table>\n</div>"
     },
     "execution_count": 33,
     "metadata": {},
     "output_type": "execute_result"
    }
   ],
   "source": [
    "df.append(df2)"
   ],
   "metadata": {
    "collapsed": false,
    "pycharm": {
     "name": "#%%\n"
    }
   }
  },
  {
   "cell_type": "code",
   "execution_count": 37,
   "outputs": [
    {
     "data": {
      "text/plain": "      first  last             email\n0        길동     홍  gdhong@gmail.com\n1        춘향     성  chsung@gmail.com\n2        몽룡     이   mrlee@gmail.com\n3    chanho  Park               NaN\n4    Jisung  Park  jspark@gmail.com\n5  Youngpyo   Lee   yplee@gmail.com",
      "text/html": "<div>\n<style scoped>\n    .dataframe tbody tr th:only-of-type {\n        vertical-align: middle;\n    }\n\n    .dataframe tbody tr th {\n        vertical-align: top;\n    }\n\n    .dataframe thead th {\n        text-align: right;\n    }\n</style>\n<table border=\"1\" class=\"dataframe\">\n  <thead>\n    <tr style=\"text-align: right;\">\n      <th></th>\n      <th>first</th>\n      <th>last</th>\n      <th>email</th>\n    </tr>\n  </thead>\n  <tbody>\n    <tr>\n      <th>0</th>\n      <td>길동</td>\n      <td>홍</td>\n      <td>gdhong@gmail.com</td>\n    </tr>\n    <tr>\n      <th>1</th>\n      <td>춘향</td>\n      <td>성</td>\n      <td>chsung@gmail.com</td>\n    </tr>\n    <tr>\n      <th>2</th>\n      <td>몽룡</td>\n      <td>이</td>\n      <td>mrlee@gmail.com</td>\n    </tr>\n    <tr>\n      <th>3</th>\n      <td>chanho</td>\n      <td>Park</td>\n      <td>NaN</td>\n    </tr>\n    <tr>\n      <th>4</th>\n      <td>Jisung</td>\n      <td>Park</td>\n      <td>jspark@gmail.com</td>\n    </tr>\n    <tr>\n      <th>5</th>\n      <td>Youngpyo</td>\n      <td>Lee</td>\n      <td>yplee@gmail.com</td>\n    </tr>\n  </tbody>\n</table>\n</div>"
     },
     "execution_count": 37,
     "metadata": {},
     "output_type": "execute_result"
    }
   ],
   "source": [
    "df.append(df2, ignore_index=True)"
   ],
   "metadata": {
    "collapsed": false,
    "pycharm": {
     "name": "#%%\n"
    }
   }
  },
  {
   "cell_type": "code",
   "execution_count": 38,
   "outputs": [],
   "source": [
    "df = df.append(df2, ignore_index=True)"
   ],
   "metadata": {
    "collapsed": false,
    "pycharm": {
     "name": "#%%\n"
    }
   }
  },
  {
   "cell_type": "code",
   "execution_count": 39,
   "outputs": [
    {
     "data": {
      "text/plain": "      first  last             email\n0        길동     홍  gdhong@gmail.com\n1        춘향     성  chsung@gmail.com\n2        몽룡     이   mrlee@gmail.com\n3    chanho  Park               NaN\n4    Jisung  Park  jspark@gmail.com\n5  Youngpyo   Lee   yplee@gmail.com",
      "text/html": "<div>\n<style scoped>\n    .dataframe tbody tr th:only-of-type {\n        vertical-align: middle;\n    }\n\n    .dataframe tbody tr th {\n        vertical-align: top;\n    }\n\n    .dataframe thead th {\n        text-align: right;\n    }\n</style>\n<table border=\"1\" class=\"dataframe\">\n  <thead>\n    <tr style=\"text-align: right;\">\n      <th></th>\n      <th>first</th>\n      <th>last</th>\n      <th>email</th>\n    </tr>\n  </thead>\n  <tbody>\n    <tr>\n      <th>0</th>\n      <td>길동</td>\n      <td>홍</td>\n      <td>gdhong@gmail.com</td>\n    </tr>\n    <tr>\n      <th>1</th>\n      <td>춘향</td>\n      <td>성</td>\n      <td>chsung@gmail.com</td>\n    </tr>\n    <tr>\n      <th>2</th>\n      <td>몽룡</td>\n      <td>이</td>\n      <td>mrlee@gmail.com</td>\n    </tr>\n    <tr>\n      <th>3</th>\n      <td>chanho</td>\n      <td>Park</td>\n      <td>NaN</td>\n    </tr>\n    <tr>\n      <th>4</th>\n      <td>Jisung</td>\n      <td>Park</td>\n      <td>jspark@gmail.com</td>\n    </tr>\n    <tr>\n      <th>5</th>\n      <td>Youngpyo</td>\n      <td>Lee</td>\n      <td>yplee@gmail.com</td>\n    </tr>\n  </tbody>\n</table>\n</div>"
     },
     "execution_count": 39,
     "metadata": {},
     "output_type": "execute_result"
    }
   ],
   "source": [
    "df"
   ],
   "metadata": {
    "collapsed": false,
    "pycharm": {
     "name": "#%%\n"
    }
   }
  },
  {
   "cell_type": "markdown",
   "source": [
    "마지막으로 행을 삭제해보자.\n",
    "칼럼을 삭제하는 것과 유사하다. 칼럼을 삭제할 때와 달리 삭제하고자 하는 행의 인덱스를 전달하면 된다."
   ],
   "metadata": {
    "collapsed": false,
    "pycharm": {
     "name": "#%% md\n"
    }
   }
  },
  {
   "cell_type": "code",
   "execution_count": 40,
   "outputs": [
    {
     "data": {
      "text/plain": "      first  last             email\n0        길동     홍  gdhong@gmail.com\n1        춘향     성  chsung@gmail.com\n2        몽룡     이   mrlee@gmail.com\n4    Jisung  Park  jspark@gmail.com\n5  Youngpyo   Lee   yplee@gmail.com",
      "text/html": "<div>\n<style scoped>\n    .dataframe tbody tr th:only-of-type {\n        vertical-align: middle;\n    }\n\n    .dataframe tbody tr th {\n        vertical-align: top;\n    }\n\n    .dataframe thead th {\n        text-align: right;\n    }\n</style>\n<table border=\"1\" class=\"dataframe\">\n  <thead>\n    <tr style=\"text-align: right;\">\n      <th></th>\n      <th>first</th>\n      <th>last</th>\n      <th>email</th>\n    </tr>\n  </thead>\n  <tbody>\n    <tr>\n      <th>0</th>\n      <td>길동</td>\n      <td>홍</td>\n      <td>gdhong@gmail.com</td>\n    </tr>\n    <tr>\n      <th>1</th>\n      <td>춘향</td>\n      <td>성</td>\n      <td>chsung@gmail.com</td>\n    </tr>\n    <tr>\n      <th>2</th>\n      <td>몽룡</td>\n      <td>이</td>\n      <td>mrlee@gmail.com</td>\n    </tr>\n    <tr>\n      <th>4</th>\n      <td>Jisung</td>\n      <td>Park</td>\n      <td>jspark@gmail.com</td>\n    </tr>\n    <tr>\n      <th>5</th>\n      <td>Youngpyo</td>\n      <td>Lee</td>\n      <td>yplee@gmail.com</td>\n    </tr>\n  </tbody>\n</table>\n</div>"
     },
     "execution_count": 40,
     "metadata": {},
     "output_type": "execute_result"
    }
   ],
   "source": [
    "df.drop(index=3)"
   ],
   "metadata": {
    "collapsed": false,
    "pycharm": {
     "name": "#%%\n"
    }
   }
  },
  {
   "cell_type": "code",
   "execution_count": 41,
   "outputs": [],
   "source": [
    "df.drop(index=3, inplace=True)"
   ],
   "metadata": {
    "collapsed": false,
    "pycharm": {
     "name": "#%%\n"
    }
   }
  },
  {
   "cell_type": "code",
   "execution_count": 42,
   "outputs": [
    {
     "data": {
      "text/plain": "      first  last             email\n0        길동     홍  gdhong@gmail.com\n1        춘향     성  chsung@gmail.com\n2        몽룡     이   mrlee@gmail.com\n4    Jisung  Park  jspark@gmail.com\n5  Youngpyo   Lee   yplee@gmail.com",
      "text/html": "<div>\n<style scoped>\n    .dataframe tbody tr th:only-of-type {\n        vertical-align: middle;\n    }\n\n    .dataframe tbody tr th {\n        vertical-align: top;\n    }\n\n    .dataframe thead th {\n        text-align: right;\n    }\n</style>\n<table border=\"1\" class=\"dataframe\">\n  <thead>\n    <tr style=\"text-align: right;\">\n      <th></th>\n      <th>first</th>\n      <th>last</th>\n      <th>email</th>\n    </tr>\n  </thead>\n  <tbody>\n    <tr>\n      <th>0</th>\n      <td>길동</td>\n      <td>홍</td>\n      <td>gdhong@gmail.com</td>\n    </tr>\n    <tr>\n      <th>1</th>\n      <td>춘향</td>\n      <td>성</td>\n      <td>chsung@gmail.com</td>\n    </tr>\n    <tr>\n      <th>2</th>\n      <td>몽룡</td>\n      <td>이</td>\n      <td>mrlee@gmail.com</td>\n    </tr>\n    <tr>\n      <th>4</th>\n      <td>Jisung</td>\n      <td>Park</td>\n      <td>jspark@gmail.com</td>\n    </tr>\n    <tr>\n      <th>5</th>\n      <td>Youngpyo</td>\n      <td>Lee</td>\n      <td>yplee@gmail.com</td>\n    </tr>\n  </tbody>\n</table>\n</div>"
     },
     "execution_count": 42,
     "metadata": {},
     "output_type": "execute_result"
    }
   ],
   "source": [
    "df"
   ],
   "metadata": {
    "collapsed": false,
    "pycharm": {
     "name": "#%%\n"
    }
   }
  },
  {
   "cell_type": "code",
   "execution_count": 43,
   "outputs": [
    {
     "data": {
      "text/plain": "0    False\n1    False\n2    False\n4    False\n5     True\nName: last, dtype: bool"
     },
     "execution_count": 43,
     "metadata": {},
     "output_type": "execute_result"
    }
   ],
   "source": [
    "df['last'] == 'Lee'"
   ],
   "metadata": {
    "collapsed": false,
    "pycharm": {
     "name": "#%%\n"
    }
   }
  },
  {
   "cell_type": "code",
   "execution_count": 44,
   "outputs": [
    {
     "data": {
      "text/plain": "      first last            email\n5  Youngpyo  Lee  yplee@gmail.com",
      "text/html": "<div>\n<style scoped>\n    .dataframe tbody tr th:only-of-type {\n        vertical-align: middle;\n    }\n\n    .dataframe tbody tr th {\n        vertical-align: top;\n    }\n\n    .dataframe thead th {\n        text-align: right;\n    }\n</style>\n<table border=\"1\" class=\"dataframe\">\n  <thead>\n    <tr style=\"text-align: right;\">\n      <th></th>\n      <th>first</th>\n      <th>last</th>\n      <th>email</th>\n    </tr>\n  </thead>\n  <tbody>\n    <tr>\n      <th>5</th>\n      <td>Youngpyo</td>\n      <td>Lee</td>\n      <td>yplee@gmail.com</td>\n    </tr>\n  </tbody>\n</table>\n</div>"
     },
     "execution_count": 44,
     "metadata": {},
     "output_type": "execute_result"
    }
   ],
   "source": [
    "df[df['last'] == 'Lee']"
   ],
   "metadata": {
    "collapsed": false,
    "pycharm": {
     "name": "#%%\n"
    }
   }
  },
  {
   "cell_type": "code",
   "execution_count": 46,
   "outputs": [
    {
     "data": {
      "text/plain": "Int64Index([5], dtype='int64')"
     },
     "execution_count": 46,
     "metadata": {},
     "output_type": "execute_result"
    }
   ],
   "source": [
    "df[df['last'] == 'Lee'].index"
   ],
   "metadata": {
    "collapsed": false,
    "pycharm": {
     "name": "#%%\n"
    }
   }
  },
  {
   "cell_type": "code",
   "execution_count": 47,
   "outputs": [
    {
     "data": {
      "text/plain": "    first  last             email\n0      길동     홍  gdhong@gmail.com\n1      춘향     성  chsung@gmail.com\n2      몽룡     이   mrlee@gmail.com\n4  Jisung  Park  jspark@gmail.com",
      "text/html": "<div>\n<style scoped>\n    .dataframe tbody tr th:only-of-type {\n        vertical-align: middle;\n    }\n\n    .dataframe tbody tr th {\n        vertical-align: top;\n    }\n\n    .dataframe thead th {\n        text-align: right;\n    }\n</style>\n<table border=\"1\" class=\"dataframe\">\n  <thead>\n    <tr style=\"text-align: right;\">\n      <th></th>\n      <th>first</th>\n      <th>last</th>\n      <th>email</th>\n    </tr>\n  </thead>\n  <tbody>\n    <tr>\n      <th>0</th>\n      <td>길동</td>\n      <td>홍</td>\n      <td>gdhong@gmail.com</td>\n    </tr>\n    <tr>\n      <th>1</th>\n      <td>춘향</td>\n      <td>성</td>\n      <td>chsung@gmail.com</td>\n    </tr>\n    <tr>\n      <th>2</th>\n      <td>몽룡</td>\n      <td>이</td>\n      <td>mrlee@gmail.com</td>\n    </tr>\n    <tr>\n      <th>4</th>\n      <td>Jisung</td>\n      <td>Park</td>\n      <td>jspark@gmail.com</td>\n    </tr>\n  </tbody>\n</table>\n</div>"
     },
     "execution_count": 47,
     "metadata": {},
     "output_type": "execute_result"
    }
   ],
   "source": [
    "df.drop(index= df[df['last'] == 'Lee'].index)"
   ],
   "metadata": {
    "collapsed": false,
    "pycharm": {
     "name": "#%%\n"
    }
   }
  },
  {
   "cell_type": "code",
   "execution_count": 48,
   "outputs": [
    {
     "data": {
      "text/plain": "    first  last             email\n0      길동     홍  gdhong@gmail.com\n1      춘향     성  chsung@gmail.com\n2      몽룡     이   mrlee@gmail.com\n4  Jisung  Park  jspark@gmail.com",
      "text/html": "<div>\n<style scoped>\n    .dataframe tbody tr th:only-of-type {\n        vertical-align: middle;\n    }\n\n    .dataframe tbody tr th {\n        vertical-align: top;\n    }\n\n    .dataframe thead th {\n        text-align: right;\n    }\n</style>\n<table border=\"1\" class=\"dataframe\">\n  <thead>\n    <tr style=\"text-align: right;\">\n      <th></th>\n      <th>first</th>\n      <th>last</th>\n      <th>email</th>\n    </tr>\n  </thead>\n  <tbody>\n    <tr>\n      <th>0</th>\n      <td>길동</td>\n      <td>홍</td>\n      <td>gdhong@gmail.com</td>\n    </tr>\n    <tr>\n      <th>1</th>\n      <td>춘향</td>\n      <td>성</td>\n      <td>chsung@gmail.com</td>\n    </tr>\n    <tr>\n      <th>2</th>\n      <td>몽룡</td>\n      <td>이</td>\n      <td>mrlee@gmail.com</td>\n    </tr>\n    <tr>\n      <th>4</th>\n      <td>Jisung</td>\n      <td>Park</td>\n      <td>jspark@gmail.com</td>\n    </tr>\n  </tbody>\n</table>\n</div>"
     },
     "execution_count": 48,
     "metadata": {},
     "output_type": "execute_result"
    }
   ],
   "source": [
    "filt = df[df['last'] == 'Lee'].index\n",
    "df.drop(index=filt)"
   ],
   "metadata": {
    "collapsed": false,
    "pycharm": {
     "name": "#%%\n"
    }
   }
  },
  {
   "cell_type": "code",
   "execution_count": null,
   "outputs": [],
   "source": [],
   "metadata": {
    "collapsed": false,
    "pycharm": {
     "name": "#%%\n"
    }
   }
  }
 ],
 "metadata": {
  "kernelspec": {
   "display_name": "Python 3",
   "language": "python",
   "name": "python3"
  },
  "language_info": {
   "codemirror_mode": {
    "name": "ipython",
    "version": 2
   },
   "file_extension": ".py",
   "mimetype": "text/x-python",
   "name": "python",
   "nbconvert_exporter": "python",
   "pygments_lexer": "ipython2",
   "version": "2.7.6"
  }
 },
 "nbformat": 4,
 "nbformat_minor": 0
}